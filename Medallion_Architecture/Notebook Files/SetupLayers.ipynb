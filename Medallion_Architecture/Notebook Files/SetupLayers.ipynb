{
 "cells": [
  {
   "cell_type": "markdown",
   "metadata": {
    "application/vnd.databricks.v1+cell": {
     "cellMetadata": {},
     "inputWidgets": {},
     "nuid": "fa6a68f9-89b9-4019-abce-16a2a52cd4a8",
     "showTitle": false,
     "tableResultSettingsMap": {},
     "title": ""
    }
   },
   "source": [
    "#Bronze"
   ]
  },
  {
   "cell_type": "code",
   "execution_count": 0,
   "metadata": {
    "application/vnd.databricks.v1+cell": {
     "cellMetadata": {
      "byteLimit": 2048000,
      "rowLimit": 10000
     },
     "inputWidgets": {},
     "nuid": "da7d7277-430a-4474-9db4-14b8158c4d38",
     "showTitle": false,
     "tableResultSettingsMap": {},
     "title": ""
    }
   },
   "outputs": [
    {
     "output_type": "execute_result",
     "data": {
      "text/plain": [
       "True"
      ]
     },
     "execution_count": 31,
     "metadata": {},
     "output_type": "execute_result"
    }
   ],
   "source": [
    "mountPoint = \"/mnt/bronze/\"\n",
    "storageaccountname = \"sastudyadls\" \n",
    "filesystemname = \"datasets-adls\"\n",
    "location=\"Medallion/Bronze\"\n",
    "\n",
    "sas_token = dbutils.secrets.get(scope = \"my-scope\", key = \"adls-sas-key\")\n",
    "\n",
    "dbutils.fs.mount(\n",
    "    source = f\"wasbs://{filesystemname}@{storageaccountname}.blob.core.windows.net/{location}\",\n",
    "    mount_point = mountPoint,\n",
    "    extra_configs = {\n",
    "    \"fs.azure.sas.datasets-adls.sastudyadls.blob.core.windows.net\": sas_token\n",
    "  }\n",
    ")\n"
   ]
  },
  {
   "cell_type": "code",
   "execution_count": 0,
   "metadata": {
    "application/vnd.databricks.v1+cell": {
     "cellMetadata": {
      "byteLimit": 2048000,
      "rowLimit": 10000
     },
     "inputWidgets": {},
     "nuid": "2494728d-5b5e-4d41-b524-e1ca54532688",
     "showTitle": false,
     "tableResultSettingsMap": {},
     "title": ""
    }
   },
   "outputs": [
    {
     "output_type": "execute_result",
     "data": {
      "text/plain": [
       "[FileInfo(path='dbfs:/mnt/bronze/SalesLTAddress/', name='SalesLTAddress/', size=0, modificationTime=0),\n",
       " FileInfo(path='dbfs:/mnt/bronze/SalesLTCustomer/', name='SalesLTCustomer/', size=0, modificationTime=0),\n",
       " FileInfo(path='dbfs:/mnt/bronze/SalesLTCustomerAddress/', name='SalesLTCustomerAddress/', size=0, modificationTime=0),\n",
       " FileInfo(path='dbfs:/mnt/bronze/SalesLTProduct/', name='SalesLTProduct/', size=0, modificationTime=0),\n",
       " FileInfo(path='dbfs:/mnt/bronze/SalesLTProductCategory/', name='SalesLTProductCategory/', size=0, modificationTime=0),\n",
       " FileInfo(path='dbfs:/mnt/bronze/SalesLTProductDescription/', name='SalesLTProductDescription/', size=0, modificationTime=0),\n",
       " FileInfo(path='dbfs:/mnt/bronze/SalesLTProductModel/', name='SalesLTProductModel/', size=0, modificationTime=0),\n",
       " FileInfo(path='dbfs:/mnt/bronze/SalesLTProductModelProductDescription/', name='SalesLTProductModelProductDescription/', size=0, modificationTime=0),\n",
       " FileInfo(path='dbfs:/mnt/bronze/SalesLTSalesOrderDetail/', name='SalesLTSalesOrderDetail/', size=0, modificationTime=0),\n",
       " FileInfo(path='dbfs:/mnt/bronze/SalesLTSalesOrderHeader/', name='SalesLTSalesOrderHeader/', size=0, modificationTime=0)]"
      ]
     },
     "execution_count": 32,
     "metadata": {},
     "output_type": "execute_result"
    }
   ],
   "source": [
    "dbutils.fs.ls(\"/mnt/bronze\")"
   ]
  },
  {
   "cell_type": "markdown",
   "metadata": {
    "application/vnd.databricks.v1+cell": {
     "cellMetadata": {},
     "inputWidgets": {},
     "nuid": "5c4a607e-5c8d-4f82-9ca8-3672e47faa37",
     "showTitle": false,
     "tableResultSettingsMap": {},
     "title": ""
    }
   },
   "source": [
    "#Silver"
   ]
  },
  {
   "cell_type": "code",
   "execution_count": 0,
   "metadata": {
    "application/vnd.databricks.v1+cell": {
     "cellMetadata": {
      "byteLimit": 2048000,
      "rowLimit": 10000
     },
     "inputWidgets": {},
     "nuid": "cb861641-204f-48bc-a070-3f7517cdd277",
     "showTitle": false,
     "tableResultSettingsMap": {},
     "title": ""
    }
   },
   "outputs": [
    {
     "output_type": "execute_result",
     "data": {
      "text/plain": [
       "True"
      ]
     },
     "execution_count": 33,
     "metadata": {},
     "output_type": "execute_result"
    }
   ],
   "source": [
    "mountPoint = \"/mnt/silver/\"\n",
    "storageaccountname = \"sastudyadls\" \n",
    "filesystemname = \"datasets-adls\"\n",
    "location=\"Medallion/Silver\"\n",
    "\n",
    "sas_token = dbutils.secrets.get(scope = \"my-scope\", key = \"adls-sas-key\")\n",
    "\n",
    "dbutils.fs.mount(\n",
    "    source = f\"wasbs://{filesystemname}@{storageaccountname}.blob.core.windows.net/{location}\",\n",
    "    mount_point = mountPoint,\n",
    "    extra_configs = {\n",
    "    \"fs.azure.sas.datasets-adls.sastudyadls.blob.core.windows.net\": sas_token\n",
    "  }\n",
    ")"
   ]
  },
  {
   "cell_type": "code",
   "execution_count": 0,
   "metadata": {
    "application/vnd.databricks.v1+cell": {
     "cellMetadata": {
      "byteLimit": 2048000,
      "rowLimit": 10000
     },
     "inputWidgets": {},
     "nuid": "7522df25-5b28-45ff-91e1-e8934c265976",
     "showTitle": false,
     "tableResultSettingsMap": {},
     "title": ""
    }
   },
   "outputs": [
    {
     "output_type": "display_data",
     "data": {
      "text/html": [
       "<style scoped>\n",
       "  .table-result-container {\n",
       "    max-height: 300px;\n",
       "    overflow: auto;\n",
       "  }\n",
       "  table, th, td {\n",
       "    border: 1px solid black;\n",
       "    border-collapse: collapse;\n",
       "  }\n",
       "  th, td {\n",
       "    padding: 5px;\n",
       "  }\n",
       "  th {\n",
       "    text-align: left;\n",
       "  }\n",
       "</style><div class='table-result-container'><table class='table-result'><thead style='background-color: white'><tr></tr></thead><tbody></tbody></table></div>"
      ]
     },
     "metadata": {
      "application/vnd.databricks.v1+output": {
       "addedWidgets": {},
       "aggData": [],
       "aggError": "",
       "aggOverflow": false,
       "aggSchema": [],
       "aggSeriesLimitReached": false,
       "aggType": "",
       "arguments": {},
       "columnCustomDisplayInfos": {},
       "data": [],
       "datasetInfos": [],
       "dbfsResultPath": null,
       "isJsonSchema": true,
       "metadata": {
        "isDbfsCommandResult": false
       },
       "overflow": false,
       "plotOptions": {
        "customPlotOptions": {},
        "displayType": "table",
        "pivotAggregation": null,
        "pivotColumns": null,
        "xColumns": null,
        "yColumns": null
       },
       "removedWidgets": [],
       "schema": [],
       "type": "table"
      }
     },
     "output_type": "display_data"
    }
   ],
   "source": [
    "%fs ls /mnt/silver"
   ]
  },
  {
   "cell_type": "markdown",
   "metadata": {
    "application/vnd.databricks.v1+cell": {
     "cellMetadata": {},
     "inputWidgets": {},
     "nuid": "2bf6b6f1-c11d-41d3-8f6c-109d01fbd0ba",
     "showTitle": false,
     "tableResultSettingsMap": {},
     "title": ""
    }
   },
   "source": [
    "#Gold"
   ]
  },
  {
   "cell_type": "code",
   "execution_count": 0,
   "metadata": {
    "application/vnd.databricks.v1+cell": {
     "cellMetadata": {
      "byteLimit": 2048000,
      "rowLimit": 10000
     },
     "inputWidgets": {},
     "nuid": "a050d480-c76c-445a-9cd2-bc448b292e33",
     "showTitle": false,
     "tableResultSettingsMap": {},
     "title": ""
    }
   },
   "outputs": [
    {
     "output_type": "execute_result",
     "data": {
      "text/plain": [
       "True"
      ]
     },
     "execution_count": 34,
     "metadata": {},
     "output_type": "execute_result"
    }
   ],
   "source": [
    "mountPoint = \"/mnt/gold/\"\n",
    "storageaccountname = \"sastudyadls\" \n",
    "filesystemname = \"datasets-adls\"\n",
    "location=\"Medallion/Gold\"\n",
    "\n",
    "sas_token = dbutils.secrets.get(scope = \"my-scope\", key = \"adls-sas-key\")\n",
    "\n",
    "dbutils.fs.mount(\n",
    "    source = f\"wasbs://{filesystemname}@{storageaccountname}.blob.core.windows.net/{location}\",\n",
    "    mount_point = mountPoint,\n",
    "    extra_configs = {\n",
    "    \"fs.azure.sas.datasets-adls.sastudyadls.blob.core.windows.net\": sas_token\n",
    "  }\n",
    ")"
   ]
  }
 ],
 "metadata": {
  "application/vnd.databricks.v1+notebook": {
   "computePreferences": null,
   "dashboards": [],
   "environmentMetadata": {
    "base_environment": "",
    "environment_version": "2"
   },
   "inputWidgetPreferences": null,
   "language": "python",
   "notebookMetadata": {
    "mostRecentlyExecutedCommandWithImplicitDF": {
     "commandId": 5801250231961934,
     "dataframes": [
      "_sqldf"
     ]
    },
    "pythonIndentUnit": 4
   },
   "notebookName": "SetupLayers",
   "widgets": {}
  },
  "language_info": {
   "name": "python"
  }
 },
 "nbformat": 4,
 "nbformat_minor": 0
}