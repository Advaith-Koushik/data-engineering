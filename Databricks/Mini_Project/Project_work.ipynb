{
 "cells": [
  {
   "cell_type": "markdown",
   "metadata": {
    "application/vnd.databricks.v1+cell": {
     "cellMetadata": {},
     "inputWidgets": {},
     "nuid": "36e6f8fd-a1de-4987-9646-9e6abb767131",
     "showTitle": false,
     "tableResultSettingsMap": {},
     "title": ""
    }
   },
   "source": [
    "## Step 1: Data Ingestion"
   ]
  },
  {
   "cell_type": "markdown",
   "metadata": {
    "application/vnd.databricks.v1+cell": {
     "cellMetadata": {},
     "inputWidgets": {},
     "nuid": "70a82e95-d778-4e8f-9e7f-e0bb89444f29",
     "showTitle": false,
     "tableResultSettingsMap": {},
     "title": ""
    }
   },
   "source": [
    "####Establishing JDBC Connection to the Azure SQL server"
   ]
  },
  {
   "cell_type": "code",
   "execution_count": 0,
   "metadata": {
    "application/vnd.databricks.v1+cell": {
     "cellMetadata": {
      "byteLimit": 2048000,
      "rowLimit": 10000
     },
     "inputWidgets": {},
     "nuid": "03aff686-e818-45bd-bb57-8502fc888bab",
     "showTitle": false,
     "tableResultSettingsMap": {},
     "title": ""
    }
   },
   "outputs": [],
   "source": [
    "jdbchostname = \"advaithsql.database.windows.net\"\n",
    "jdbcport = \"1433\"\n",
    "jdbcdatabase = \"Advaithsqldb\"\n",
    "jdbcuser = \"advaith\"\n",
    "jdbcpwd = dbutils.secrets.get(scope = \"my-scope\", key = \"azsqlpwd\")\n",
    "\n",
    "jdbcurl = f\"jdbc:sqlserver://{jdbchostname}:{jdbcport};database={jdbcdatabase};user={jdbcuser};password={jdbcpwd}\""
   ]
  },
  {
   "cell_type": "markdown",
   "metadata": {
    "application/vnd.databricks.v1+cell": {
     "cellMetadata": {},
     "inputWidgets": {},
     "nuid": "8db559bf-a76b-431e-aa5c-bddd40bf0492",
     "showTitle": false,
     "tableResultSettingsMap": {},
     "title": ""
    }
   },
   "source": [
    "Read DIM product table"
   ]
  },
  {
   "cell_type": "code",
   "execution_count": 0,
   "metadata": {
    "application/vnd.databricks.v1+cell": {
     "cellMetadata": {
      "byteLimit": 2048000,
      "rowLimit": 10000
     },
     "inputWidgets": {},
     "nuid": "049b8b8e-ce1b-4485-a9dc-0148bb579dcf",
     "showTitle": false,
     "tableResultSettingsMap": {},
     "title": ""
    }
   },
   "outputs": [
    {
     "output_type": "display_data",
     "data": {
      "text/html": [
       "<style scoped>\n",
       "  .table-result-container {\n",
       "    max-height: 300px;\n",
       "    overflow: auto;\n",
       "  }\n",
       "  table, th, td {\n",
       "    border: 1px solid black;\n",
       "    border-collapse: collapse;\n",
       "  }\n",
       "  th, td {\n",
       "    padding: 5px;\n",
       "  }\n",
       "  th {\n",
       "    text-align: left;\n",
       "  }\n",
       "</style><div class='table-result-container'><table class='table-result'><thead style='background-color: white'><tr><th>product_id</th><th>product_name</th><th>category</th><th>price</th><th>manufacturer</th><th>color</th><th>weight</th></tr></thead><tbody><tr><td>1</td><td>Laptop</td><td>Electronics</td><td>800.00</td><td>Dell</td><td>Silver</td><td>2.50</td></tr><tr><td>2</td><td>Smartphone</td><td>Electronics</td><td>500.00</td><td>Samsung</td><td>Black</td><td>0.30</td></tr><tr><td>3</td><td>Headphones</td><td>Electronics</td><td>50.00</td><td>Sony</td><td>White</td><td>0.10</td></tr><tr><td>4</td><td>WashingMachine</td><td>Electronics</td><td>1000.00</td><td>LG</td><td>null</td><td>null</td></tr><tr><td>5</td><td>AC</td><td>Electronics</td><td>2000.00</td><td>Voltas</td><td>null</td><td>null</td></tr></tbody></table></div>"
      ]
     },
     "metadata": {
      "application/vnd.databricks.v1+output": {
       "addedWidgets": {},
       "aggData": [],
       "aggError": "",
       "aggOverflow": false,
       "aggSchema": [],
       "aggSeriesLimitReached": false,
       "aggType": "",
       "arguments": {},
       "columnCustomDisplayInfos": {},
       "data": [
        [
         1,
         "Laptop",
         "Electronics",
         "800.00",
         "Dell",
         "Silver",
         "2.50"
        ],
        [
         2,
         "Smartphone",
         "Electronics",
         "500.00",
         "Samsung",
         "Black",
         "0.30"
        ],
        [
         3,
         "Headphones",
         "Electronics",
         "50.00",
         "Sony",
         "White",
         "0.10"
        ],
        [
         4,
         "WashingMachine",
         "Electronics",
         "1000.00",
         "LG",
         null,
         null
        ],
        [
         5,
         "AC",
         "Electronics",
         "2000.00",
         "Voltas",
         null,
         null
        ]
       ],
       "datasetInfos": [],
       "dbfsResultPath": null,
       "isJsonSchema": true,
       "metadata": {},
       "overflow": false,
       "plotOptions": {
        "customPlotOptions": {},
        "displayType": "table",
        "pivotAggregation": null,
        "pivotColumns": null,
        "xColumns": null,
        "yColumns": null
       },
       "removedWidgets": [],
       "schema": [
        {
         "metadata": "{\"isTimestampNTZ\":false,\"signed\":true,\"scale\":0}",
         "name": "product_id",
         "type": "\"integer\""
        },
        {
         "metadata": "{\"isTimestampNTZ\":false,\"__CHAR_VARCHAR_TYPE_STRING\":\"varchar(255)\",\"signed\":false,\"scale\":0}",
         "name": "product_name",
         "type": "\"string\""
        },
        {
         "metadata": "{\"isTimestampNTZ\":false,\"__CHAR_VARCHAR_TYPE_STRING\":\"varchar(50)\",\"signed\":false,\"scale\":0}",
         "name": "category",
         "type": "\"string\""
        },
        {
         "metadata": "{\"isTimestampNTZ\":false,\"signed\":true,\"scale\":2}",
         "name": "price",
         "type": "\"decimal(10,2)\""
        },
        {
         "metadata": "{\"isTimestampNTZ\":false,\"__CHAR_VARCHAR_TYPE_STRING\":\"varchar(100)\",\"signed\":false,\"scale\":0}",
         "name": "manufacturer",
         "type": "\"string\""
        },
        {
         "metadata": "{\"isTimestampNTZ\":false,\"__CHAR_VARCHAR_TYPE_STRING\":\"varchar(20)\",\"signed\":false,\"scale\":0}",
         "name": "color",
         "type": "\"string\""
        },
        {
         "metadata": "{\"isTimestampNTZ\":false,\"signed\":true,\"scale\":2}",
         "name": "weight",
         "type": "\"decimal(6,2)\""
        }
       ],
       "type": "table"
      }
     },
     "output_type": "display_data"
    }
   ],
   "source": [
    "df_product = spark.read.format(\"jdbc\").option(\"url\",jdbcurl).option(\"dbtable\",'dbo.dim_product').option(\"driver\",\"com.microsoft.sqlserver.jdbc.SQLServerDriver\").load()\n",
    "display(df_product)"
   ]
  },
  {
   "cell_type": "markdown",
   "metadata": {
    "application/vnd.databricks.v1+cell": {
     "cellMetadata": {},
     "inputWidgets": {},
     "nuid": "1bb2bd8f-385d-4551-8907-979d1936399a",
     "showTitle": false,
     "tableResultSettingsMap": {},
     "title": ""
    }
   },
   "source": [
    "Read Fact table"
   ]
  },
  {
   "cell_type": "code",
   "execution_count": 0,
   "metadata": {
    "application/vnd.databricks.v1+cell": {
     "cellMetadata": {
      "byteLimit": 2048000,
      "rowLimit": 10000
     },
     "inputWidgets": {},
     "nuid": "7b8316d9-4c15-4e87-8eb2-a1ac17e58b0b",
     "showTitle": false,
     "tableResultSettingsMap": {},
     "title": ""
    }
   },
   "outputs": [
    {
     "output_type": "display_data",
     "data": {
      "text/html": [
       "<style scoped>\n",
       "  .table-result-container {\n",
       "    max-height: 300px;\n",
       "    overflow: auto;\n",
       "  }\n",
       "  table, th, td {\n",
       "    border: 1px solid black;\n",
       "    border-collapse: collapse;\n",
       "  }\n",
       "  th, td {\n",
       "    padding: 5px;\n",
       "  }\n",
       "  th {\n",
       "    text-align: left;\n",
       "  }\n",
       "</style><div class='table-result-container'><table class='table-result'><thead style='background-color: white'><tr><th>sale_date</th><th>product_id</th><th>quantity_sold</th><th>revenue</th></tr></thead><tbody><tr><td>2024-04-01</td><td>1</td><td>10</td><td>8000.00</td></tr><tr><td>2024-04-01</td><td>2</td><td>20</td><td>10000.00</td></tr><tr><td>2024-04-02</td><td>1</td><td>5</td><td>4000.00</td></tr><tr><td>2024-04-02</td><td>1</td><td>3</td><td>2400.00</td></tr><tr><td>2024-04-02</td><td>3</td><td>15</td><td>750.00</td></tr><tr><td>2024-04-03</td><td>2</td><td>10</td><td>5000.00</td></tr><tr><td>2024-04-02</td><td>2</td><td>15</td><td>1750.00</td></tr><tr><td>2024-04-03</td><td>2</td><td>10</td><td>5400.00</td></tr><tr><td>2024-04-03</td><td>4</td><td>2</td><td>1200.00</td></tr><tr><td>2024-04-03</td><td>5</td><td>6</td><td>6600.00</td></tr><tr><td>2024-04-03</td><td>4</td><td>2</td><td>200.00</td></tr><tr><td>2024-04-03</td><td>5</td><td>6</td><td>2600.00</td></tr><tr><td>2024-04-03</td><td>5</td><td>6</td><td>2600.00</td></tr><tr><td>2024-04-03</td><td>5</td><td>6</td><td>2600.00</td></tr></tbody></table></div>"
      ]
     },
     "metadata": {
      "application/vnd.databricks.v1+output": {
       "addedWidgets": {},
       "aggData": [],
       "aggError": "",
       "aggOverflow": false,
       "aggSchema": [],
       "aggSeriesLimitReached": false,
       "aggType": "",
       "arguments": {},
       "columnCustomDisplayInfos": {},
       "data": [
        [
         "2024-04-01",
         1,
         10,
         "8000.00"
        ],
        [
         "2024-04-01",
         2,
         20,
         "10000.00"
        ],
        [
         "2024-04-02",
         1,
         5,
         "4000.00"
        ],
        [
         "2024-04-02",
         1,
         3,
         "2400.00"
        ],
        [
         "2024-04-02",
         3,
         15,
         "750.00"
        ],
        [
         "2024-04-03",
         2,
         10,
         "5000.00"
        ],
        [
         "2024-04-02",
         2,
         15,
         "1750.00"
        ],
        [
         "2024-04-03",
         2,
         10,
         "5400.00"
        ],
        [
         "2024-04-03",
         4,
         2,
         "1200.00"
        ],
        [
         "2024-04-03",
         5,
         6,
         "6600.00"
        ],
        [
         "2024-04-03",
         4,
         2,
         "200.00"
        ],
        [
         "2024-04-03",
         5,
         6,
         "2600.00"
        ],
        [
         "2024-04-03",
         5,
         6,
         "2600.00"
        ],
        [
         "2024-04-03",
         5,
         6,
         "2600.00"
        ]
       ],
       "datasetInfos": [],
       "dbfsResultPath": null,
       "isJsonSchema": true,
       "metadata": {},
       "overflow": false,
       "plotOptions": {
        "customPlotOptions": {},
        "displayType": "table",
        "pivotAggregation": null,
        "pivotColumns": null,
        "xColumns": null,
        "yColumns": null
       },
       "removedWidgets": [],
       "schema": [
        {
         "metadata": "{\"isTimestampNTZ\":false,\"signed\":false,\"scale\":0}",
         "name": "sale_date",
         "type": "\"date\""
        },
        {
         "metadata": "{\"isTimestampNTZ\":false,\"signed\":true,\"scale\":0}",
         "name": "product_id",
         "type": "\"integer\""
        },
        {
         "metadata": "{\"isTimestampNTZ\":false,\"signed\":true,\"scale\":0}",
         "name": "quantity_sold",
         "type": "\"integer\""
        },
        {
         "metadata": "{\"isTimestampNTZ\":false,\"signed\":true,\"scale\":2}",
         "name": "revenue",
         "type": "\"decimal(10,2)\""
        }
       ],
       "type": "table"
      }
     },
     "output_type": "display_data"
    }
   ],
   "source": [
    "df_sales = spark.read.format(\"jdbc\").option(\"url\", jdbcurl).option(\"dbtable\", \"dbo.fact_product\").option(\"driver\", \"com.microsoft.sqlserver.jdbc.SQLServerDriver\").load()\n",
    "display(df_sales)"
   ]
  },
  {
   "cell_type": "markdown",
   "metadata": {
    "application/vnd.databricks.v1+cell": {
     "cellMetadata": {},
     "inputWidgets": {},
     "nuid": "f9c20ec7-9630-48aa-bade-74d1a4caff93",
     "showTitle": false,
     "tableResultSettingsMap": {},
     "title": ""
    }
   },
   "source": [
    "## Step 2: Pre-processing"
   ]
  },
  {
   "cell_type": "markdown",
   "metadata": {
    "application/vnd.databricks.v1+cell": {
     "cellMetadata": {},
     "inputWidgets": {},
     "nuid": "659c4ce0-929d-4be5-955c-b41a26c67f3b",
     "showTitle": false,
     "tableResultSettingsMap": {},
     "title": ""
    }
   },
   "source": [
    "- Remove nulls\n",
    "- Remove duplicates\n",
    "- Convert Data types\n",
    "- Missing values - Impute, default\n",
    "- Data validations\n",
    "- Outliers\n",
    "- Filter irrelevant data\n",
    "- Transformations"
   ]
  },
  {
   "cell_type": "code",
   "execution_count": 0,
   "metadata": {
    "application/vnd.databricks.v1+cell": {
     "cellMetadata": {
      "byteLimit": 2048000,
      "rowLimit": 10000
     },
     "inputWidgets": {},
     "nuid": "274794b6-1d8a-413f-8ab3-bc5bed922fc2",
     "showTitle": false,
     "tableResultSettingsMap": {},
     "title": ""
    }
   },
   "outputs": [
    {
     "output_type": "display_data",
     "data": {
      "text/html": [
       "<style scoped>\n",
       "  .table-result-container {\n",
       "    max-height: 300px;\n",
       "    overflow: auto;\n",
       "  }\n",
       "  table, th, td {\n",
       "    border: 1px solid black;\n",
       "    border-collapse: collapse;\n",
       "  }\n",
       "  th, td {\n",
       "    padding: 5px;\n",
       "  }\n",
       "  th {\n",
       "    text-align: left;\n",
       "  }\n",
       "</style><div class='table-result-container'><table class='table-result'><thead style='background-color: white'><tr><th>product_id</th><th>product_name</th><th>category</th><th>price</th><th>manufacturer</th><th>color</th><th>weight</th></tr></thead><tbody><tr><td>1</td><td>Laptop</td><td>Electronics</td><td>800.00</td><td>Dell</td><td>Silver</td><td>2.50</td></tr><tr><td>2</td><td>Smartphone</td><td>Electronics</td><td>500.00</td><td>Samsung</td><td>Black</td><td>0.30</td></tr><tr><td>3</td><td>Headphones</td><td>Electronics</td><td>50.00</td><td>Sony</td><td>White</td><td>0.10</td></tr><tr><td>4</td><td>WashingMachine</td><td>Electronics</td><td>1000.00</td><td>LG</td><td>White</td><td>1.00</td></tr><tr><td>5</td><td>AC</td><td>Electronics</td><td>2000.00</td><td>Voltas</td><td>White</td><td>1.00</td></tr></tbody></table></div>"
      ]
     },
     "metadata": {
      "application/vnd.databricks.v1+output": {
       "addedWidgets": {},
       "aggData": [],
       "aggError": "",
       "aggOverflow": false,
       "aggSchema": [],
       "aggSeriesLimitReached": false,
       "aggType": "",
       "arguments": {},
       "columnCustomDisplayInfos": {},
       "data": [
        [
         1,
         "Laptop",
         "Electronics",
         "800.00",
         "Dell",
         "Silver",
         "2.50"
        ],
        [
         2,
         "Smartphone",
         "Electronics",
         "500.00",
         "Samsung",
         "Black",
         "0.30"
        ],
        [
         3,
         "Headphones",
         "Electronics",
         "50.00",
         "Sony",
         "White",
         "0.10"
        ],
        [
         4,
         "WashingMachine",
         "Electronics",
         "1000.00",
         "LG",
         "White",
         "1.00"
        ],
        [
         5,
         "AC",
         "Electronics",
         "2000.00",
         "Voltas",
         "White",
         "1.00"
        ]
       ],
       "datasetInfos": [],
       "dbfsResultPath": null,
       "isJsonSchema": true,
       "metadata": {},
       "overflow": false,
       "plotOptions": {
        "customPlotOptions": {},
        "displayType": "table",
        "pivotAggregation": null,
        "pivotColumns": null,
        "xColumns": null,
        "yColumns": null
       },
       "removedWidgets": [],
       "schema": [
        {
         "metadata": "{\"isTimestampNTZ\":false,\"signed\":true,\"scale\":0}",
         "name": "product_id",
         "type": "\"integer\""
        },
        {
         "metadata": "{\"isTimestampNTZ\":false,\"__CHAR_VARCHAR_TYPE_STRING\":\"varchar(255)\",\"signed\":false,\"scale\":0}",
         "name": "product_name",
         "type": "\"string\""
        },
        {
         "metadata": "{\"isTimestampNTZ\":false,\"__CHAR_VARCHAR_TYPE_STRING\":\"varchar(50)\",\"signed\":false,\"scale\":0}",
         "name": "category",
         "type": "\"string\""
        },
        {
         "metadata": "{\"isTimestampNTZ\":false,\"signed\":true,\"scale\":2}",
         "name": "price",
         "type": "\"decimal(10,2)\""
        },
        {
         "metadata": "{\"isTimestampNTZ\":false,\"__CHAR_VARCHAR_TYPE_STRING\":\"varchar(100)\",\"signed\":false,\"scale\":0}",
         "name": "manufacturer",
         "type": "\"string\""
        },
        {
         "metadata": "{}",
         "name": "color",
         "type": "\"string\""
        },
        {
         "metadata": "{}",
         "name": "weight",
         "type": "\"decimal(6,2)\""
        }
       ],
       "type": "table"
      }
     },
     "output_type": "display_data"
    }
   ],
   "source": [
    "df_product_cleansed = df_product.na.fill({\"color\":\"White\",\"weight\":1})\n",
    "\n",
    "display(df_product_cleansed)"
   ]
  },
  {
   "cell_type": "code",
   "execution_count": 0,
   "metadata": {
    "application/vnd.databricks.v1+cell": {
     "cellMetadata": {
      "byteLimit": 2048000,
      "rowLimit": 10000
     },
     "inputWidgets": {},
     "nuid": "aff1056a-2b79-4169-a6ee-9727b2f5891a",
     "showTitle": false,
     "tableResultSettingsMap": {},
     "title": ""
    }
   },
   "outputs": [
    {
     "output_type": "display_data",
     "data": {
      "text/html": [
       "<style scoped>\n",
       "  .table-result-container {\n",
       "    max-height: 300px;\n",
       "    overflow: auto;\n",
       "  }\n",
       "  table, th, td {\n",
       "    border: 1px solid black;\n",
       "    border-collapse: collapse;\n",
       "  }\n",
       "  th, td {\n",
       "    padding: 5px;\n",
       "  }\n",
       "  th {\n",
       "    text-align: left;\n",
       "  }\n",
       "</style><div class='table-result-container'><table class='table-result'><thead style='background-color: white'><tr><th>sale_date</th><th>product_id</th><th>quantity_sold</th><th>revenue</th></tr></thead><tbody><tr><td>2024-04-01</td><td>1</td><td>10</td><td>8000.00</td></tr><tr><td>2024-04-01</td><td>2</td><td>20</td><td>10000.00</td></tr><tr><td>2024-04-02</td><td>1</td><td>5</td><td>4000.00</td></tr><tr><td>2024-04-02</td><td>1</td><td>3</td><td>2400.00</td></tr><tr><td>2024-04-02</td><td>3</td><td>15</td><td>750.00</td></tr><tr><td>2024-04-03</td><td>2</td><td>10</td><td>5000.00</td></tr><tr><td>2024-04-02</td><td>2</td><td>15</td><td>1750.00</td></tr><tr><td>2024-04-03</td><td>2</td><td>10</td><td>5400.00</td></tr><tr><td>2024-04-03</td><td>4</td><td>2</td><td>1200.00</td></tr><tr><td>2024-04-03</td><td>5</td><td>6</td><td>6600.00</td></tr><tr><td>2024-04-03</td><td>4</td><td>2</td><td>200.00</td></tr><tr><td>2024-04-03</td><td>5</td><td>6</td><td>2600.00</td></tr><tr><td>2024-04-03</td><td>5</td><td>6</td><td>2600.00</td></tr><tr><td>2024-04-03</td><td>5</td><td>6</td><td>2600.00</td></tr></tbody></table></div>"
      ]
     },
     "metadata": {
      "application/vnd.databricks.v1+output": {
       "addedWidgets": {},
       "aggData": [],
       "aggError": "",
       "aggOverflow": false,
       "aggSchema": [],
       "aggSeriesLimitReached": false,
       "aggType": "",
       "arguments": {},
       "columnCustomDisplayInfos": {},
       "data": [
        [
         "2024-04-01",
         1,
         10,
         "8000.00"
        ],
        [
         "2024-04-01",
         2,
         20,
         "10000.00"
        ],
        [
         "2024-04-02",
         1,
         5,
         "4000.00"
        ],
        [
         "2024-04-02",
         1,
         3,
         "2400.00"
        ],
        [
         "2024-04-02",
         3,
         15,
         "750.00"
        ],
        [
         "2024-04-03",
         2,
         10,
         "5000.00"
        ],
        [
         "2024-04-02",
         2,
         15,
         "1750.00"
        ],
        [
         "2024-04-03",
         2,
         10,
         "5400.00"
        ],
        [
         "2024-04-03",
         4,
         2,
         "1200.00"
        ],
        [
         "2024-04-03",
         5,
         6,
         "6600.00"
        ],
        [
         "2024-04-03",
         4,
         2,
         "200.00"
        ],
        [
         "2024-04-03",
         5,
         6,
         "2600.00"
        ],
        [
         "2024-04-03",
         5,
         6,
         "2600.00"
        ],
        [
         "2024-04-03",
         5,
         6,
         "2600.00"
        ]
       ],
       "datasetInfos": [],
       "dbfsResultPath": null,
       "isJsonSchema": true,
       "metadata": {},
       "overflow": false,
       "plotOptions": {
        "customPlotOptions": {},
        "displayType": "table",
        "pivotAggregation": null,
        "pivotColumns": null,
        "xColumns": null,
        "yColumns": null
       },
       "removedWidgets": [],
       "schema": [
        {
         "metadata": "{\"isTimestampNTZ\":false,\"signed\":false,\"scale\":0}",
         "name": "sale_date",
         "type": "\"date\""
        },
        {
         "metadata": "{\"isTimestampNTZ\":false,\"signed\":true,\"scale\":0}",
         "name": "product_id",
         "type": "\"integer\""
        },
        {
         "metadata": "{\"isTimestampNTZ\":false,\"signed\":true,\"scale\":0}",
         "name": "quantity_sold",
         "type": "\"integer\""
        },
        {
         "metadata": "{\"isTimestampNTZ\":false,\"signed\":true,\"scale\":2}",
         "name": "revenue",
         "type": "\"decimal(10,2)\""
        }
       ],
       "type": "table"
      }
     },
     "output_type": "display_data"
    }
   ],
   "source": [
    "display(df_sales)"
   ]
  },
  {
   "cell_type": "code",
   "execution_count": 0,
   "metadata": {
    "application/vnd.databricks.v1+cell": {
     "cellMetadata": {
      "byteLimit": 2048000,
      "rowLimit": 10000
     },
     "inputWidgets": {},
     "nuid": "04372687-b155-42b0-82ec-e188065ca80a",
     "showTitle": false,
     "tableResultSettingsMap": {},
     "title": ""
    }
   },
   "outputs": [
    {
     "output_type": "display_data",
     "data": {
      "text/html": [
       "<style scoped>\n",
       "  .table-result-container {\n",
       "    max-height: 300px;\n",
       "    overflow: auto;\n",
       "  }\n",
       "  table, th, td {\n",
       "    border: 1px solid black;\n",
       "    border-collapse: collapse;\n",
       "  }\n",
       "  th, td {\n",
       "    padding: 5px;\n",
       "  }\n",
       "  th {\n",
       "    text-align: left;\n",
       "  }\n",
       "</style><div class='table-result-container'><table class='table-result'><thead style='background-color: white'><tr><th>sale_date</th><th>product_id</th><th>quantity_sold</th><th>revenue</th></tr></thead><tbody><tr><td>2024-04-02</td><td>1</td><td>5</td><td>4000.00</td></tr><tr><td>2024-04-03</td><td>4</td><td>2</td><td>200.00</td></tr><tr><td>2024-04-03</td><td>4</td><td>2</td><td>1200.00</td></tr><tr><td>2024-04-02</td><td>3</td><td>15</td><td>750.00</td></tr><tr><td>2024-04-03</td><td>2</td><td>10</td><td>5400.00</td></tr><tr><td>2024-04-01</td><td>2</td><td>20</td><td>10000.00</td></tr><tr><td>2024-04-01</td><td>1</td><td>10</td><td>8000.00</td></tr><tr><td>2024-04-03</td><td>5</td><td>6</td><td>2600.00</td></tr><tr><td>2024-04-02</td><td>2</td><td>15</td><td>1750.00</td></tr><tr><td>2024-04-03</td><td>2</td><td>10</td><td>5000.00</td></tr><tr><td>2024-04-03</td><td>5</td><td>6</td><td>6600.00</td></tr><tr><td>2024-04-02</td><td>1</td><td>3</td><td>2400.00</td></tr></tbody></table></div>"
      ]
     },
     "metadata": {
      "application/vnd.databricks.v1+output": {
       "addedWidgets": {},
       "aggData": [],
       "aggError": "",
       "aggOverflow": false,
       "aggSchema": [],
       "aggSeriesLimitReached": false,
       "aggType": "",
       "arguments": {},
       "columnCustomDisplayInfos": {},
       "data": [
        [
         "2024-04-02",
         1,
         5,
         "4000.00"
        ],
        [
         "2024-04-03",
         4,
         2,
         "200.00"
        ],
        [
         "2024-04-03",
         4,
         2,
         "1200.00"
        ],
        [
         "2024-04-02",
         3,
         15,
         "750.00"
        ],
        [
         "2024-04-03",
         2,
         10,
         "5400.00"
        ],
        [
         "2024-04-01",
         2,
         20,
         "10000.00"
        ],
        [
         "2024-04-01",
         1,
         10,
         "8000.00"
        ],
        [
         "2024-04-03",
         5,
         6,
         "2600.00"
        ],
        [
         "2024-04-02",
         2,
         15,
         "1750.00"
        ],
        [
         "2024-04-03",
         2,
         10,
         "5000.00"
        ],
        [
         "2024-04-03",
         5,
         6,
         "6600.00"
        ],
        [
         "2024-04-02",
         1,
         3,
         "2400.00"
        ]
       ],
       "datasetInfos": [],
       "dbfsResultPath": null,
       "isJsonSchema": true,
       "metadata": {},
       "overflow": false,
       "plotOptions": {
        "customPlotOptions": {},
        "displayType": "table",
        "pivotAggregation": null,
        "pivotColumns": null,
        "xColumns": null,
        "yColumns": null
       },
       "removedWidgets": [],
       "schema": [
        {
         "metadata": "{\"isTimestampNTZ\":false,\"signed\":false,\"scale\":0}",
         "name": "sale_date",
         "type": "\"date\""
        },
        {
         "metadata": "{\"isTimestampNTZ\":false,\"signed\":true,\"scale\":0}",
         "name": "product_id",
         "type": "\"integer\""
        },
        {
         "metadata": "{\"isTimestampNTZ\":false,\"signed\":true,\"scale\":0}",
         "name": "quantity_sold",
         "type": "\"integer\""
        },
        {
         "metadata": "{\"isTimestampNTZ\":false,\"signed\":true,\"scale\":2}",
         "name": "revenue",
         "type": "\"decimal(10,2)\""
        }
       ],
       "type": "table"
      }
     },
     "output_type": "display_data"
    }
   ],
   "source": [
    "df_sales_cleansed = df_sales.dropDuplicates()\n",
    "display(df_sales_cleansed)"
   ]
  },
  {
   "cell_type": "markdown",
   "metadata": {
    "application/vnd.databricks.v1+cell": {
     "cellMetadata": {},
     "inputWidgets": {},
     "nuid": "12ddf058-2eba-47eb-896c-3266427049af",
     "showTitle": false,
     "tableResultSettingsMap": {},
     "title": ""
    }
   },
   "source": [
    "Join the two tables and get the required columns"
   ]
  },
  {
   "cell_type": "code",
   "execution_count": 0,
   "metadata": {
    "application/vnd.databricks.v1+cell": {
     "cellMetadata": {
      "byteLimit": 2048000,
      "rowLimit": 10000
     },
     "inputWidgets": {},
     "nuid": "3e7a6560-6c4b-4031-b8e9-e8ae69c61c8f",
     "showTitle": false,
     "tableResultSettingsMap": {},
     "title": ""
    }
   },
   "outputs": [
    {
     "output_type": "display_data",
     "data": {
      "text/html": [
       "<style scoped>\n",
       "  .table-result-container {\n",
       "    max-height: 300px;\n",
       "    overflow: auto;\n",
       "  }\n",
       "  table, th, td {\n",
       "    border: 1px solid black;\n",
       "    border-collapse: collapse;\n",
       "  }\n",
       "  th, td {\n",
       "    padding: 5px;\n",
       "  }\n",
       "  th {\n",
       "    text-align: left;\n",
       "  }\n",
       "</style><div class='table-result-container'><table class='table-result'><thead style='background-color: white'><tr><th>product_id</th><th>product_name</th><th>price</th><th>manufacturer</th><th>revenue</th></tr></thead><tbody><tr><td>1</td><td>Laptop</td><td>800.00</td><td>Dell</td><td>2400.00</td></tr><tr><td>1</td><td>Laptop</td><td>800.00</td><td>Dell</td><td>8000.00</td></tr><tr><td>1</td><td>Laptop</td><td>800.00</td><td>Dell</td><td>4000.00</td></tr><tr><td>3</td><td>Headphones</td><td>50.00</td><td>Sony</td><td>750.00</td></tr><tr><td>5</td><td>AC</td><td>2000.00</td><td>Voltas</td><td>6600.00</td></tr><tr><td>5</td><td>AC</td><td>2000.00</td><td>Voltas</td><td>2600.00</td></tr><tr><td>4</td><td>WashingMachine</td><td>1000.00</td><td>LG</td><td>1200.00</td></tr><tr><td>4</td><td>WashingMachine</td><td>1000.00</td><td>LG</td><td>200.00</td></tr><tr><td>2</td><td>Smartphone</td><td>500.00</td><td>Samsung</td><td>5000.00</td></tr><tr><td>2</td><td>Smartphone</td><td>500.00</td><td>Samsung</td><td>1750.00</td></tr><tr><td>2</td><td>Smartphone</td><td>500.00</td><td>Samsung</td><td>10000.00</td></tr><tr><td>2</td><td>Smartphone</td><td>500.00</td><td>Samsung</td><td>5400.00</td></tr></tbody></table></div>"
      ]
     },
     "metadata": {
      "application/vnd.databricks.v1+output": {
       "addedWidgets": {},
       "aggData": [],
       "aggError": "",
       "aggOverflow": false,
       "aggSchema": [],
       "aggSeriesLimitReached": false,
       "aggType": "",
       "arguments": {},
       "columnCustomDisplayInfos": {},
       "data": [
        [
         1,
         "Laptop",
         "800.00",
         "Dell",
         "2400.00"
        ],
        [
         1,
         "Laptop",
         "800.00",
         "Dell",
         "8000.00"
        ],
        [
         1,
         "Laptop",
         "800.00",
         "Dell",
         "4000.00"
        ],
        [
         3,
         "Headphones",
         "50.00",
         "Sony",
         "750.00"
        ],
        [
         5,
         "AC",
         "2000.00",
         "Voltas",
         "6600.00"
        ],
        [
         5,
         "AC",
         "2000.00",
         "Voltas",
         "2600.00"
        ],
        [
         4,
         "WashingMachine",
         "1000.00",
         "LG",
         "1200.00"
        ],
        [
         4,
         "WashingMachine",
         "1000.00",
         "LG",
         "200.00"
        ],
        [
         2,
         "Smartphone",
         "500.00",
         "Samsung",
         "5000.00"
        ],
        [
         2,
         "Smartphone",
         "500.00",
         "Samsung",
         "1750.00"
        ],
        [
         2,
         "Smartphone",
         "500.00",
         "Samsung",
         "10000.00"
        ],
        [
         2,
         "Smartphone",
         "500.00",
         "Samsung",
         "5400.00"
        ]
       ],
       "datasetInfos": [],
       "dbfsResultPath": null,
       "isJsonSchema": true,
       "metadata": {},
       "overflow": false,
       "plotOptions": {
        "customPlotOptions": {},
        "displayType": "table",
        "pivotAggregation": null,
        "pivotColumns": null,
        "xColumns": null,
        "yColumns": null
       },
       "removedWidgets": [],
       "schema": [
        {
         "metadata": "{\"isTimestampNTZ\":false,\"signed\":true,\"scale\":0}",
         "name": "product_id",
         "type": "\"integer\""
        },
        {
         "metadata": "{\"isTimestampNTZ\":false,\"__CHAR_VARCHAR_TYPE_STRING\":\"varchar(255)\",\"signed\":false,\"scale\":0}",
         "name": "product_name",
         "type": "\"string\""
        },
        {
         "metadata": "{\"isTimestampNTZ\":false,\"signed\":true,\"scale\":2}",
         "name": "price",
         "type": "\"decimal(10,2)\""
        },
        {
         "metadata": "{\"isTimestampNTZ\":false,\"__CHAR_VARCHAR_TYPE_STRING\":\"varchar(100)\",\"signed\":false,\"scale\":0}",
         "name": "manufacturer",
         "type": "\"string\""
        },
        {
         "metadata": "{\"isTimestampNTZ\":false,\"signed\":true,\"scale\":2}",
         "name": "revenue",
         "type": "\"decimal(10,2)\""
        }
       ],
       "type": "table"
      }
     },
     "output_type": "display_data"
    }
   ],
   "source": [
    "df_joined = df_product_cleansed.join(df_sales_cleansed, df_product_cleansed.product_id == df_sales_cleansed.product_id, \"left\").select(df_product_cleansed.product_id, df_product_cleansed.product_name, df_product_cleansed.price, df_product_cleansed.manufacturer, df_sales_cleansed.revenue)\n",
    "\n",
    "display(df_joined)"
   ]
  },
  {
   "cell_type": "markdown",
   "metadata": {
    "application/vnd.databricks.v1+cell": {
     "cellMetadata": {},
     "inputWidgets": {},
     "nuid": "21fee5b8-0c37-4955-b796-f09fba6c510b",
     "showTitle": false,
     "tableResultSettingsMap": {},
     "title": ""
    }
   },
   "source": [
    "Grouping the joined table to find the total revenue"
   ]
  },
  {
   "cell_type": "code",
   "execution_count": 0,
   "metadata": {
    "application/vnd.databricks.v1+cell": {
     "cellMetadata": {
      "byteLimit": 2048000,
      "rowLimit": 10000
     },
     "inputWidgets": {},
     "nuid": "e4fbd5a9-daec-4a1e-864b-45344a46d310",
     "showTitle": false,
     "tableResultSettingsMap": {},
     "title": ""
    }
   },
   "outputs": [
    {
     "output_type": "display_data",
     "data": {
      "text/html": [
       "<style scoped>\n",
       "  .table-result-container {\n",
       "    max-height: 300px;\n",
       "    overflow: auto;\n",
       "  }\n",
       "  table, th, td {\n",
       "    border: 1px solid black;\n",
       "    border-collapse: collapse;\n",
       "  }\n",
       "  th, td {\n",
       "    padding: 5px;\n",
       "  }\n",
       "  th {\n",
       "    text-align: left;\n",
       "  }\n",
       "</style><div class='table-result-container'><table class='table-result'><thead style='background-color: white'><tr><th>product_id</th><th>product_name</th><th>manufacturer</th><th>Total Revenue</th></tr></thead><tbody><tr><td>1</td><td>Laptop</td><td>Dell</td><td>14400.00</td></tr><tr><td>3</td><td>Headphones</td><td>Sony</td><td>750.00</td></tr><tr><td>5</td><td>AC</td><td>Voltas</td><td>9200.00</td></tr><tr><td>4</td><td>WashingMachine</td><td>LG</td><td>1400.00</td></tr><tr><td>2</td><td>Smartphone</td><td>Samsung</td><td>22150.00</td></tr></tbody></table></div>"
      ]
     },
     "metadata": {
      "application/vnd.databricks.v1+output": {
       "addedWidgets": {},
       "aggData": [],
       "aggError": "",
       "aggOverflow": false,
       "aggSchema": [],
       "aggSeriesLimitReached": false,
       "aggType": "",
       "arguments": {},
       "columnCustomDisplayInfos": {},
       "data": [
        [
         1,
         "Laptop",
         "Dell",
         "14400.00"
        ],
        [
         3,
         "Headphones",
         "Sony",
         "750.00"
        ],
        [
         5,
         "AC",
         "Voltas",
         "9200.00"
        ],
        [
         4,
         "WashingMachine",
         "LG",
         "1400.00"
        ],
        [
         2,
         "Smartphone",
         "Samsung",
         "22150.00"
        ]
       ],
       "datasetInfos": [],
       "dbfsResultPath": null,
       "isJsonSchema": true,
       "metadata": {},
       "overflow": false,
       "plotOptions": {
        "customPlotOptions": {},
        "displayType": "table",
        "pivotAggregation": null,
        "pivotColumns": null,
        "xColumns": null,
        "yColumns": null
       },
       "removedWidgets": [],
       "schema": [
        {
         "metadata": "{\"isTimestampNTZ\":false,\"signed\":true,\"scale\":0}",
         "name": "product_id",
         "type": "\"integer\""
        },
        {
         "metadata": "{\"isTimestampNTZ\":false,\"__CHAR_VARCHAR_TYPE_STRING\":\"varchar(255)\",\"signed\":false,\"scale\":0}",
         "name": "product_name",
         "type": "\"string\""
        },
        {
         "metadata": "{\"isTimestampNTZ\":false,\"__CHAR_VARCHAR_TYPE_STRING\":\"varchar(100)\",\"signed\":false,\"scale\":0}",
         "name": "manufacturer",
         "type": "\"string\""
        },
        {
         "metadata": "{}",
         "name": "Total Revenue",
         "type": "\"decimal(20,2)\""
        }
       ],
       "type": "table"
      }
     },
     "output_type": "display_data"
    }
   ],
   "source": [
    "df_grouped = df_joined.groupBy(\"product_id\",\"product_name\",\"manufacturer\").sum(\"revenue\").withColumnRenamed(\"sum(revenue)\",\"Total Revenue\")\n",
    "\n",
    "display(df_grouped)"
   ]
  },
  {
   "cell_type": "markdown",
   "metadata": {
    "application/vnd.databricks.v1+cell": {
     "cellMetadata": {},
     "inputWidgets": {},
     "nuid": "aa670271-4bab-4da2-aca4-e8f7d355ed3d",
     "showTitle": false,
     "tableResultSettingsMap": {},
     "title": ""
    }
   },
   "source": [
    "## Step 3: Load Data to ADLS"
   ]
  },
  {
   "cell_type": "code",
   "execution_count": 0,
   "metadata": {
    "application/vnd.databricks.v1+cell": {
     "cellMetadata": {
      "byteLimit": 2048000,
      "rowLimit": 10000
     },
     "inputWidgets": {},
     "nuid": "e6aeb546-0b02-4284-98ce-71264d96a463",
     "showTitle": false,
     "tableResultSettingsMap": {},
     "title": ""
    }
   },
   "outputs": [],
   "source": [
    "df_grouped.write.format(\"csv\").save(\"/mnt/datasets/electronics_products_info\")"
   ]
  },
  {
   "cell_type": "code",
   "execution_count": 0,
   "metadata": {
    "application/vnd.databricks.v1+cell": {
     "cellMetadata": {
      "byteLimit": 2048000,
      "rowLimit": 10000
     },
     "inputWidgets": {},
     "nuid": "af8bacca-d01b-44b4-9fae-0da1ba6cc3d4",
     "showTitle": false,
     "tableResultSettingsMap": {},
     "title": ""
    }
   },
   "outputs": [
    {
     "output_type": "display_data",
     "data": {
      "text/html": [
       "<style scoped>\n",
       "  .table-result-container {\n",
       "    max-height: 300px;\n",
       "    overflow: auto;\n",
       "  }\n",
       "  table, th, td {\n",
       "    border: 1px solid black;\n",
       "    border-collapse: collapse;\n",
       "  }\n",
       "  th, td {\n",
       "    padding: 5px;\n",
       "  }\n",
       "  th {\n",
       "    text-align: left;\n",
       "  }\n",
       "</style><div class='table-result-container'><table class='table-result'><thead style='background-color: white'><tr><th>path</th><th>name</th><th>size</th><th>modificationTime</th></tr></thead><tbody><tr><td>dbfs:/mnt/datasets/books.csv</td><td>books.csv</td><td>808</td><td>1752685047000</td></tr><tr><td>dbfs:/mnt/datasets/cars.csv</td><td>cars.csv</td><td>20751</td><td>1752685047000</td></tr><tr><td>dbfs:/mnt/datasets/electronics_products_info/</td><td>electronics_products_info/</td><td>0</td><td>1753317175000</td></tr></tbody></table></div>"
      ]
     },
     "metadata": {
      "application/vnd.databricks.v1+output": {
       "addedWidgets": {},
       "aggData": [],
       "aggError": "",
       "aggOverflow": false,
       "aggSchema": [],
       "aggSeriesLimitReached": false,
       "aggType": "",
       "arguments": {},
       "columnCustomDisplayInfos": {},
       "data": [
        [
         "dbfs:/mnt/datasets/books.csv",
         "books.csv",
         808,
         1752685047000
        ],
        [
         "dbfs:/mnt/datasets/cars.csv",
         "cars.csv",
         20751,
         1752685047000
        ],
        [
         "dbfs:/mnt/datasets/electronics_products_info/",
         "electronics_products_info/",
         0,
         1753317175000
        ]
       ],
       "datasetInfos": [],
       "dbfsResultPath": null,
       "isJsonSchema": true,
       "metadata": {
        "isDbfsCommandResult": false
       },
       "overflow": false,
       "plotOptions": {
        "customPlotOptions": {},
        "displayType": "table",
        "pivotAggregation": null,
        "pivotColumns": null,
        "xColumns": null,
        "yColumns": null
       },
       "removedWidgets": [],
       "schema": [
        {
         "metadata": "{}",
         "name": "path",
         "type": "\"string\""
        },
        {
         "metadata": "{}",
         "name": "name",
         "type": "\"string\""
        },
        {
         "metadata": "{}",
         "name": "size",
         "type": "\"long\""
        },
        {
         "metadata": "{}",
         "name": "modificationTime",
         "type": "\"long\""
        }
       ],
       "type": "table"
      }
     },
     "output_type": "display_data"
    }
   ],
   "source": [
    "%fs ls /mnt/datasets"
   ]
  },
  {
   "cell_type": "code",
   "execution_count": 0,
   "metadata": {
    "application/vnd.databricks.v1+cell": {
     "cellMetadata": {
      "byteLimit": 2048000,
      "rowLimit": 10000
     },
     "inputWidgets": {},
     "nuid": "aa8a1c1c-aefb-48fd-9061-bb8372b3e2fb",
     "showTitle": false,
     "tableResultSettingsMap": {},
     "title": ""
    }
   },
   "outputs": [],
   "source": [
    "from datetime import datetime\n",
    "\n",
    "timestamp = datetime.now().strftime(\"%Y%m%d_%H%M%S\")\n",
    "\n",
    "output_path = f\"/mnt/datasets/electronics_products_info_{timestamp}\"\n",
    "\n",
    "df_grouped.orderBy(\"product_id\").coalesce(1).write.format(\"csv\").option(\"header\",\"true\").mode(\"overwrite\").save(output_path)"
   ]
  },
  {
   "cell_type": "code",
   "execution_count": 0,
   "metadata": {
    "application/vnd.databricks.v1+cell": {
     "cellMetadata": {
      "byteLimit": 2048000,
      "rowLimit": 10000
     },
     "inputWidgets": {},
     "nuid": "4a05da87-0084-4477-918c-a9b985e973c3",
     "showTitle": false,
     "tableResultSettingsMap": {},
     "title": ""
    }
   },
   "outputs": [
    {
     "output_type": "display_data",
     "data": {
      "text/html": [
       "<style scoped>\n",
       "  .table-result-container {\n",
       "    max-height: 300px;\n",
       "    overflow: auto;\n",
       "  }\n",
       "  table, th, td {\n",
       "    border: 1px solid black;\n",
       "    border-collapse: collapse;\n",
       "  }\n",
       "  th, td {\n",
       "    padding: 5px;\n",
       "  }\n",
       "  th {\n",
       "    text-align: left;\n",
       "  }\n",
       "</style><div class='table-result-container'><table class='table-result'><thead style='background-color: white'><tr><th>path</th><th>name</th><th>size</th><th>modificationTime</th></tr></thead><tbody><tr><td>dbfs:/mnt/datasets/books.csv</td><td>books.csv</td><td>808</td><td>1752685047000</td></tr><tr><td>dbfs:/mnt/datasets/cars.csv</td><td>cars.csv</td><td>20751</td><td>1752685047000</td></tr><tr><td>dbfs:/mnt/datasets/electronics_products_info/</td><td>electronics_products_info/</td><td>0</td><td>1753317175000</td></tr><tr><td>dbfs:/mnt/datasets/electronics_products_info_20250724_004305/</td><td>electronics_products_info_20250724_004305/</td><td>0</td><td>1753317787000</td></tr><tr><td>dbfs:/mnt/datasets/electronics_products_info_20250724_004554/</td><td>electronics_products_info_20250724_004554/</td><td>0</td><td>1753317956000</td></tr></tbody></table></div>"
      ]
     },
     "metadata": {
      "application/vnd.databricks.v1+output": {
       "addedWidgets": {},
       "aggData": [],
       "aggError": "",
       "aggOverflow": false,
       "aggSchema": [],
       "aggSeriesLimitReached": false,
       "aggType": "",
       "arguments": {},
       "columnCustomDisplayInfos": {},
       "data": [
        [
         "dbfs:/mnt/datasets/books.csv",
         "books.csv",
         808,
         1752685047000
        ],
        [
         "dbfs:/mnt/datasets/cars.csv",
         "cars.csv",
         20751,
         1752685047000
        ],
        [
         "dbfs:/mnt/datasets/electronics_products_info/",
         "electronics_products_info/",
         0,
         1753317175000
        ],
        [
         "dbfs:/mnt/datasets/electronics_products_info_20250724_004305/",
         "electronics_products_info_20250724_004305/",
         0,
         1753317787000
        ],
        [
         "dbfs:/mnt/datasets/electronics_products_info_20250724_004554/",
         "electronics_products_info_20250724_004554/",
         0,
         1753317956000
        ]
       ],
       "datasetInfos": [],
       "dbfsResultPath": null,
       "isJsonSchema": true,
       "metadata": {
        "isDbfsCommandResult": false
       },
       "overflow": false,
       "plotOptions": {
        "customPlotOptions": {},
        "displayType": "table",
        "pivotAggregation": null,
        "pivotColumns": null,
        "xColumns": null,
        "yColumns": null
       },
       "removedWidgets": [],
       "schema": [
        {
         "metadata": "{}",
         "name": "path",
         "type": "\"string\""
        },
        {
         "metadata": "{}",
         "name": "name",
         "type": "\"string\""
        },
        {
         "metadata": "{}",
         "name": "size",
         "type": "\"long\""
        },
        {
         "metadata": "{}",
         "name": "modificationTime",
         "type": "\"long\""
        }
       ],
       "type": "table"
      }
     },
     "output_type": "display_data"
    }
   ],
   "source": [
    "%fs ls /mnt/datasets"
   ]
  }
 ],
 "metadata": {
  "application/vnd.databricks.v1+notebook": {
   "computePreferences": null,
   "dashboards": [],
   "environmentMetadata": {
    "base_environment": "",
    "environment_version": "2"
   },
   "inputWidgetPreferences": null,
   "language": "python",
   "notebookMetadata": {
    "mostRecentlyExecutedCommandWithImplicitDF": {
     "commandId": 5033270350853681,
     "dataframes": [
      "_sqldf"
     ]
    },
    "pythonIndentUnit": 4
   },
   "notebookName": "Project_work",
   "widgets": {}
  },
  "language_info": {
   "name": "python"
  }
 },
 "nbformat": 4,
 "nbformat_minor": 0
}