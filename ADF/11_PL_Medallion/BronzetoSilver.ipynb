{
 "cells": [
  {
   "cell_type": "markdown",
   "metadata": {
    "application/vnd.databricks.v1+cell": {
     "cellMetadata": {},
     "inputWidgets": {},
     "nuid": "b16dfdcc-1399-4f22-aef9-65c6faab6b37",
     "showTitle": false,
     "tableResultSettingsMap": {},
     "title": ""
    }
   },
   "source": [
    "This notebook is to make basic cleanup of the data while moving files from Bronze to Silver Layer in ADLS which will include \n",
    "Setting dates to the needed standard format of \"MM-dd-yyyy\" across all table columns:"
   ]
  },
  {
   "cell_type": "markdown",
   "metadata": {
    "application/vnd.databricks.v1+cell": {
     "cellMetadata": {},
     "inputWidgets": {},
     "nuid": "5f04ec49-fb8b-4005-9b07-e5cfa44ec93a",
     "showTitle": false,
     "tableResultSettingsMap": {},
     "title": ""
    }
   },
   "source": []
  },
  {
   "cell_type": "code",
   "execution_count": 0,
   "metadata": {
    "application/vnd.databricks.v1+cell": {
     "cellMetadata": {
      "byteLimit": 2048000,
      "rowLimit": 10000
     },
     "inputWidgets": {},
     "nuid": "cf7b8789-8594-4e1b-9e36-d09528977e5d",
     "showTitle": false,
     "tableResultSettingsMap": {},
     "title": ""
    }
   },
   "outputs": [
    {
     "output_type": "execute_result",
     "data": {
      "text/plain": [
       "[FileInfo(path='dbfs:/mnt/bronze/SalesLT/', name='SalesLT/', size=0, modificationTime=0)]"
      ]
     },
     "execution_count": 6,
     "metadata": {},
     "output_type": "execute_result"
    }
   ],
   "source": [
    "dbutils.fs.ls(\"/mnt/bronze\")"
   ]
  },
  {
   "cell_type": "code",
   "execution_count": 0,
   "metadata": {
    "application/vnd.databricks.v1+cell": {
     "cellMetadata": {
      "byteLimit": 2048000,
      "rowLimit": 10000
     },
     "inputWidgets": {},
     "nuid": "589cac1c-0946-4c07-b649-51b5d520a973",
     "showTitle": false,
     "tableResultSettingsMap": {},
     "title": ""
    }
   },
   "outputs": [
    {
     "output_type": "display_data",
     "data": {
      "text/html": [
       "<style scoped>\n",
       "  .table-result-container {\n",
       "    max-height: 300px;\n",
       "    overflow: auto;\n",
       "  }\n",
       "  table, th, td {\n",
       "    border: 1px solid black;\n",
       "    border-collapse: collapse;\n",
       "  }\n",
       "  th, td {\n",
       "    padding: 5px;\n",
       "  }\n",
       "  th {\n",
       "    text-align: left;\n",
       "  }\n",
       "</style><div class='table-result-container'><table class='table-result'><thead style='background-color: white'><tr><th>path</th><th>name</th><th>size</th><th>modificationTime</th></tr></thead><tbody><tr><td>dbfs:/mnt/bronze/SalesLT/Address/</td><td>Address/</td><td>0</td><td>0</td></tr><tr><td>dbfs:/mnt/bronze/SalesLT/Customer/</td><td>Customer/</td><td>0</td><td>0</td></tr><tr><td>dbfs:/mnt/bronze/SalesLT/CustomerAddress/</td><td>CustomerAddress/</td><td>0</td><td>0</td></tr><tr><td>dbfs:/mnt/bronze/SalesLT/Product/</td><td>Product/</td><td>0</td><td>0</td></tr><tr><td>dbfs:/mnt/bronze/SalesLT/ProductCategory/</td><td>ProductCategory/</td><td>0</td><td>0</td></tr><tr><td>dbfs:/mnt/bronze/SalesLT/ProductDescription/</td><td>ProductDescription/</td><td>0</td><td>0</td></tr><tr><td>dbfs:/mnt/bronze/SalesLT/ProductModel/</td><td>ProductModel/</td><td>0</td><td>0</td></tr><tr><td>dbfs:/mnt/bronze/SalesLT/ProductModelProductDescription/</td><td>ProductModelProductDescription/</td><td>0</td><td>0</td></tr><tr><td>dbfs:/mnt/bronze/SalesLT/SalesOrderDetail/</td><td>SalesOrderDetail/</td><td>0</td><td>0</td></tr><tr><td>dbfs:/mnt/bronze/SalesLT/SalesOrderHeader/</td><td>SalesOrderHeader/</td><td>0</td><td>0</td></tr></tbody></table></div>"
      ]
     },
     "metadata": {
      "application/vnd.databricks.v1+output": {
       "addedWidgets": {},
       "aggData": [],
       "aggError": "",
       "aggOverflow": false,
       "aggSchema": [],
       "aggSeriesLimitReached": false,
       "aggType": "",
       "arguments": {},
       "columnCustomDisplayInfos": {},
       "data": [
        [
         "dbfs:/mnt/bronze/SalesLT/Address/",
         "Address/",
         0,
         0
        ],
        [
         "dbfs:/mnt/bronze/SalesLT/Customer/",
         "Customer/",
         0,
         0
        ],
        [
         "dbfs:/mnt/bronze/SalesLT/CustomerAddress/",
         "CustomerAddress/",
         0,
         0
        ],
        [
         "dbfs:/mnt/bronze/SalesLT/Product/",
         "Product/",
         0,
         0
        ],
        [
         "dbfs:/mnt/bronze/SalesLT/ProductCategory/",
         "ProductCategory/",
         0,
         0
        ],
        [
         "dbfs:/mnt/bronze/SalesLT/ProductDescription/",
         "ProductDescription/",
         0,
         0
        ],
        [
         "dbfs:/mnt/bronze/SalesLT/ProductModel/",
         "ProductModel/",
         0,
         0
        ],
        [
         "dbfs:/mnt/bronze/SalesLT/ProductModelProductDescription/",
         "ProductModelProductDescription/",
         0,
         0
        ],
        [
         "dbfs:/mnt/bronze/SalesLT/SalesOrderDetail/",
         "SalesOrderDetail/",
         0,
         0
        ],
        [
         "dbfs:/mnt/bronze/SalesLT/SalesOrderHeader/",
         "SalesOrderHeader/",
         0,
         0
        ]
       ],
       "datasetInfos": [],
       "dbfsResultPath": null,
       "isJsonSchema": true,
       "metadata": {
        "isDbfsCommandResult": false
       },
       "overflow": false,
       "plotOptions": {
        "customPlotOptions": {},
        "displayType": "table",
        "pivotAggregation": null,
        "pivotColumns": null,
        "xColumns": null,
        "yColumns": null
       },
       "removedWidgets": [],
       "schema": [
        {
         "metadata": "{}",
         "name": "path",
         "type": "\"string\""
        },
        {
         "metadata": "{}",
         "name": "name",
         "type": "\"string\""
        },
        {
         "metadata": "{}",
         "name": "size",
         "type": "\"long\""
        },
        {
         "metadata": "{}",
         "name": "modificationTime",
         "type": "\"long\""
        }
       ],
       "type": "table"
      }
     },
     "output_type": "display_data"
    }
   ],
   "source": [
    "%fs ls \"/mnt/bronze/SalesLT\""
   ]
  },
  {
   "cell_type": "markdown",
   "metadata": {
    "application/vnd.databricks.v1+cell": {
     "cellMetadata": {},
     "inputWidgets": {},
     "nuid": "8fa2ea1d-c14c-4322-9b5e-75e6501f0bfa",
     "showTitle": false,
     "tableResultSettingsMap": {},
     "title": ""
    }
   },
   "source": [
    "Check one of the tables to find what is the preset date column format: "
   ]
  },
  {
   "cell_type": "code",
   "execution_count": 0,
   "metadata": {
    "application/vnd.databricks.v1+cell": {
     "cellMetadata": {
      "byteLimit": 2048000,
      "rowLimit": 10000
     },
     "inputWidgets": {},
     "nuid": "e277494e-827a-42d8-9985-2b00de8a2c18",
     "showTitle": false,
     "tableResultSettingsMap": {},
     "title": ""
    }
   },
   "outputs": [],
   "source": [
    "df = spark.read.format(\"parquet\").load(\"/mnt/bronze/SalesLT/ProductModel/ProductModel.parquet\")"
   ]
  },
  {
   "cell_type": "code",
   "execution_count": 0,
   "metadata": {
    "application/vnd.databricks.v1+cell": {
     "cellMetadata": {
      "byteLimit": 2048000,
      "rowLimit": 10000
     },
     "inputWidgets": {},
     "nuid": "706f60f2-31b6-4ad4-824f-b29ecc9b34c7",
     "showTitle": false,
     "tableResultSettingsMap": {
      "0": {
       "dataGridStateBlob": "{\"version\":1,\"tableState\":{\"columnPinning\":{\"left\":[\"#row_number#\"],\"right\":[]},\"columnSizing\":{\"CatalogDescription\":272,\"ModifiedDate\":256},\"columnVisibility\":{}},\"settings\":{\"columns\":{}},\"syncTimestamp\":1753732752057}",
       "filterBlob": null,
       "queryPlanFiltersBlob": null,
       "tableResultIndex": 0
      }
     },
     "title": ""
    }
   },
   "outputs": [
    {
     "output_type": "display_data",
     "data": {
      "text/html": [
       "<style scoped>\n",
       "  .table-result-container {\n",
       "    max-height: 300px;\n",
       "    overflow: auto;\n",
       "  }\n",
       "  table, th, td {\n",
       "    border: 1px solid black;\n",
       "    border-collapse: collapse;\n",
       "  }\n",
       "  th, td {\n",
       "    padding: 5px;\n",
       "  }\n",
       "  th {\n",
       "    text-align: left;\n",
       "  }\n",
       "</style><div class='table-result-container'><table class='table-result'><thead style='background-color: white'><tr><th>ProductModelID</th><th>Name</th><th>CatalogDescription</th><th>rowguid</th><th>ModifiedDate</th></tr></thead><tbody><tr><td>1</td><td>Classic Vest</td><td>null</td><td>29321d47-1e4c-4aac-887c-19634328c25e</td><td>2007-06-01T00:00:00Z</td></tr><tr><td>2</td><td>Cycling Cap</td><td>null</td><td>474fb654-3c96-4cb9-82df-2152eeffbdb0</td><td>2005-06-01T00:00:00Z</td></tr><tr><td>3</td><td>Full-Finger Gloves</td><td>null</td><td>a75483fe-3c47-4aa4-93cf-664b51192987</td><td>2006-06-01T00:00:00Z</td></tr><tr><td>4</td><td>Half-Finger Gloves</td><td>null</td><td>14b56f2a-d4aa-40a4-b9a2-984f165ed702</td><td>2006-06-01T00:00:00Z</td></tr><tr><td>5</td><td>HL Mountain Frame</td><td>null</td><td>fdd5407b-c2db-49d1-a86b-c13a2e3582a2</td><td>2005-06-01T00:00:00Z</td></tr><tr><td>6</td><td>HL Road Frame</td><td>null</td><td>4d332ecc-48b3-4e04-b7e7-227f3ac2a7ec</td><td>2002-05-02T00:00:00Z</td></tr><tr><td>7</td><td>HL Touring Frame</td><td>null</td><td>d60ed2a5-c100-4c54-89a1-531404c4a20f</td><td>2009-05-16T16:34:28.98Z</td></tr><tr><td>8</td><td>LL Mountain Frame</td><td>null</td><td>65bf3f6d-bcf2-4db6-8515-fc5c57423037</td><td>2006-11-20T09:56:38.273Z</td></tr><tr><td>9</td><td>LL Road Frame</td><td>null</td><td>ddc67a2f-024a-4446-9b54-3c679baba708</td><td>2005-06-01T00:00:00Z</td></tr><tr><td>10</td><td>LL Touring Frame</td><td>null</td><td>66c63844-2a24-473c-96d5-d3b3fd57d834</td><td>2009-05-16T16:34:28.98Z</td></tr><tr><td>11</td><td>Long-Sleeve Logo Jersey</td><td>null</td><td>20efe3f1-a2f8-4dde-b74b-18265f61f863</td><td>2005-06-01T00:00:00Z</td></tr><tr><td>12</td><td>Men's Bib-Shorts</td><td>null</td><td>219e2f87-26a9-483b-b968-04578e943096</td><td>2006-06-01T00:00:00Z</td></tr><tr><td>13</td><td>Men's Sports Shorts</td><td>null</td><td>45fe0d77-6645-473c-a116-1232baea8d43</td><td>2006-06-01T00:00:00Z</td></tr><tr><td>14</td><td>ML Mountain Frame</td><td>null</td><td>0d48c51d-7603-4010-9265-0491805bb010</td><td>2006-06-01T00:00:00Z</td></tr><tr><td>15</td><td>ML Mountain Frame-W</td><td>null</td><td>aa77697c-6d1c-48f1-845c-3cb089498715</td><td>2006-06-01T00:00:00Z</td></tr><tr><td>16</td><td>ML Road Frame</td><td>null</td><td>3494e8ff-7daf-4860-abf6-97842048e272</td><td>2005-06-01T00:00:00Z</td></tr><tr><td>17</td><td>ML Road Frame-W</td><td>null</td><td>ca18ecfd-2023-4fa7-a556-0321153bca34</td><td>2006-06-01T00:00:00Z</td></tr><tr><td>18</td><td>Mountain Bike Socks</td><td>null</td><td>36b1a76a-dff3-4a55-86f9-65eb1cb18d7b</td><td>2005-06-01T00:00:00Z</td></tr><tr><td>19</td><td>Mountain-100</td><td><?xml-stylesheet href=\"ProductDescription.xsl\" type=\"text/xsl\"?><p1:ProductDescription xmlns:p1=\"http://schemas.microsoft.com/sqlserver/2004/07/adventure-works/ProductModelDescription\" xmlns:wm=\"http://schemas.microsoft.com/sqlserver/2004/07/adventure-works/ProductModelWarrAndMain\" xmlns:wf=\"http://www.adventure-works.com/schemas/OtherFeatures\" xmlns:html=\"http://www.w3.org/1999/xhtml\" ProductModelID=\"19\" ProductModelName=\"Mountain 100\"><p1:Summary><html:p>Our top-of-the-line competition mountain bike.\r\n",
       " \t\t\t\tPerformance-enhancing options include the innovative HL Frame,\r\n",
       "\t\t\t\tsuper-smooth front suspension, and traction for all terrain.\r\n",
       "                        </html:p></p1:Summary><p1:Manufacturer><p1:Name>AdventureWorks</p1:Name><p1:Copyright>2002</p1:Copyright><p1:ProductURL>HTTP://www.Adventure-works.com</p1:ProductURL></p1:Manufacturer><p1:Features>These are the product highlights.\r\n",
       "                 <wm:Warranty><wm:WarrantyPeriod>3 years</wm:WarrantyPeriod><wm:Description>parts and labor</wm:Description></wm:Warranty><wm:Maintenance><wm:NoOfYears>10 years</wm:NoOfYears><wm:Description>maintenance contract available through your dealer or any AdventureWorks retail store.</wm:Description></wm:Maintenance><wf:wheel>High performance wheels.</wf:wheel><wf:saddle><html:i>Anatomic design</html:i> and made from durable leather for a full-day of riding in comfort.</wf:saddle><wf:pedal><html:b>Top-of-the-line</html:b> clipless pedals with adjustable tension.</wf:pedal><wf:BikeFrame>Each frame is hand-crafted in our Bothell facility to the optimum diameter\r\n",
       "\t\t\t\tand wall-thickness required of a premium mountain frame.\r\n",
       "\t\t\t\tThe heat-treated welded aluminum frame has a larger diameter tube that absorbs the bumps.</wf:BikeFrame><wf:crankset> Triple crankset; alumunim crank arm; flawless shifting. </wf:crankset></p1:Features><!-- add one or more of these elements... one for each specific product in this product model --><p1:Picture><p1:Angle>front</p1:Angle><p1:Size>small</p1:Size><p1:ProductPhotoID>118</p1:ProductPhotoID></p1:Picture><!-- add any tags in <specifications> --><p1:Specifications> These are the product specifications.\r\n",
       "                   <Material>Almuminum Alloy</Material><Color>Available in most colors</Color><ProductLine>Mountain bike</ProductLine><Style>Unisex</Style><RiderExperience>Advanced to Professional riders</RiderExperience></p1:Specifications></p1:ProductDescription></td><td>fca0665b-b956-489a-a5ec-6f0b4aa14d02</td><td>2005-06-01T00:00:00Z</td></tr><tr><td>20</td><td>Mountain-200</td><td>null</td><td>3b78edff-2aa9-4ac1-8c3d-94090b5f53a9</td><td>2006-06-01T00:00:00Z</td></tr><tr><td>21</td><td>Mountain-300</td><td>null</td><td>ecddd0d7-2db2-464d-b2da-89bffc6276aa</td><td>2006-06-01T00:00:00Z</td></tr><tr><td>22</td><td>Mountain-400-W</td><td>null</td><td>6d2fcce4-ffce-4662-a3f8-5d18f0eedcd8</td><td>2007-06-01T00:00:00Z</td></tr><tr><td>23</td><td>Mountain-500</td><td><?xml-stylesheet href=\"ProductDescription.xsl\" type=\"text/xsl\"?><p1:ProductDescription xmlns:p1=\"http://schemas.microsoft.com/sqlserver/2004/07/adventure-works/ProductModelDescription\" xmlns:wm=\"http://schemas.microsoft.com/sqlserver/2004/07/adventure-works/ProductModelWarrAndMain\" xmlns:wf=\"http://www.adventure-works.com/schemas/OtherFeatures\" xmlns:html=\"http://www.w3.org/1999/xhtml\" ProductModelID=\"23\" ProductModelName=\"Mountain-500\"><p1:Summary><html:p>Suitable for any type of riding, on or off-road.\r\n",
       "\t\t\tFits any budget. Smooth-shifting with a comfortable ride.\r\n",
       "                        </html:p></p1:Summary><p1:Manufacturer><p1:Name>AdventureWorks</p1:Name><p1:Copyright>2002</p1:Copyright><p1:ProductURL>HTTP://www.Adventure-works.com</p1:ProductURL></p1:Manufacturer><p1:Features>Product highlights include:\r\n",
       "                 <wm:Warranty><wm:WarrantyPeriod>1 year</wm:WarrantyPeriod><wm:Description>parts and labor</wm:Description></wm:Warranty><wm:Maintenance><wm:NoOfYears>3 years</wm:NoOfYears><wm:Description>maintenance contact available through dealer</wm:Description></wm:Maintenance><wf:wheel>Stable, durable wheels suitable for novice riders.</wf:wheel><wf:saddle>Made from synthetic leather and features gel padding for increased comfort.</wf:saddle><wf:pedal><html:b>Expanded platform</html:b> so you can ride in any shoes; great for all-around riding.</wf:pedal><wf:crankset> Super rigid spindle. </wf:crankset><wf:BikeFrame>Our best value frame utilizing the same, ground-breaking technology as the ML aluminum frame.</wf:BikeFrame></p1:Features><!-- add one or more of these elements... one for each specific product in this product model --><p1:Picture><p1:Angle>front</p1:Angle><p1:Size>small</p1:Size><p1:ProductPhotoID>1</p1:ProductPhotoID></p1:Picture><!-- add any tags in <specifications> --><p1:Specifications> These are the product specifications.\r\n",
       "                   <Height>Varies</Height> Centimeters.\r\n",
       "                   <Material>Aluminum Alloy</Material><Color>Available in all colors.</Color><ProductLine>Mountain bike</ProductLine><Style>Unisex</Style><RiderExperience>Novice to Intermediate riders</RiderExperience></p1:Specifications></p1:ProductDescription></td><td>866dbad3-5999-4329-beac-d826d959d9a1</td><td>2006-11-20T09:56:38.273Z</td></tr><tr><td>24</td><td>Racing Socks</td><td>null</td><td>bd8ba6f8-7e16-4fa3-b3b3-2036dd4a2ae0</td><td>2007-06-01T00:00:00Z</td></tr><tr><td>25</td><td>Road-150</td><td><?xml-stylesheet href=\"ProductDescription.xsl\" type=\"text/xsl\"?><p1:ProductDescription xmlns:p1=\"http://schemas.microsoft.com/sqlserver/2004/07/adventure-works/ProductModelDescription\" xmlns:wm=\"http://schemas.microsoft.com/sqlserver/2004/07/adventure-works/ProductModelWarrAndMain\" xmlns:wf=\"http://www.adventure-works.com/schemas/OtherFeatures\" xmlns:html=\"http://www.w3.org/1999/xhtml\" ProductModelID=\"25\" ProductModelName=\"Road-150\"><p1:Summary><html:p>This bike is ridden by race winners. Developed with the\r\n",
       "\t\t\tAdventure Works Cycles professional race team, it has a extremely light\r\n",
       "\t\t\theat-treated aluminum frame, and steering that allows precision control.\r\n",
       "                        </html:p></p1:Summary><p1:Manufacturer><p1:Name>AdventureWorks</p1:Name><p1:Copyright>2002</p1:Copyright><p1:ProductURL>HTTP://www.Adventure-works.com</p1:ProductURL></p1:Manufacturer><p1:Features>These are the product highlights.\r\n",
       "                 <wm:Warranty><wm:WarrantyPeriod>4 years</wm:WarrantyPeriod><wm:Description>parts and labor</wm:Description></wm:Warranty><wm:Maintenance><wm:NoOfYears>7 years</wm:NoOfYears><wm:Description>maintenance contact available through dealer or any Adventure Works Cycles retail store.</wm:Description></wm:Maintenance><wf:handlebar>Designed for racers; high-end anatomically shaped bar from aluminum alloy.</wf:handlebar><wf:wheel>Strong wheels with double-walled rims.</wf:wheel><wf:saddle><html:i>Lightweight </html:i> kevlar racing saddle.</wf:saddle><wf:pedal><html:b>Top-of-the-line</html:b> clipless pedals with adjustable tension.</wf:pedal><wf:BikeFrame><html:i>Our lightest and best quality </html:i> aluminum frame made from the newest alloy;\r\n",
       "\t\t\tit is welded and heat-treated for strength.\r\n",
       "\t\t\tOur innovative design results in maximum comfort and performance.</wf:BikeFrame></p1:Features><!-- add one or more of these elements... one for each specific product in this product model --><p1:Picture><p1:Angle>front</p1:Angle><p1:Size>small</p1:Size><p1:ProductPhotoID>126</p1:ProductPhotoID></p1:Picture><!-- add any tags in <specifications> --><p1:Specifications> These are the product specifications.\r\n",
       "                   <Material>Aluminum</Material><Color>Available in all colors.</Color><ProductLine>Road bike</ProductLine><Style>Unisex</Style><RiderExperience>Intermediate to Professional riders</RiderExperience></p1:Specifications></p1:ProductDescription></td><td>94ffb702-0cbc-4e3f-b840-c51f0d11c8f6</td><td>2005-06-01T00:00:00Z</td></tr><tr><td>26</td><td>Road-250</td><td>null</td><td>3770c5e3-8dc9-43c7-b735-7aff21645d96</td><td>2006-06-01T00:00:00Z</td></tr><tr><td>27</td><td>Road-350-W</td><td>null</td><td>dfe49035-7720-4ff4-b28b-16250ee46259</td><td>2007-06-01T00:00:00Z</td></tr><tr><td>28</td><td>Road-450</td><td><?xml-stylesheet href=\"ProductDescription.xsl\" type=\"text/xsl\"?><p1:ProductDescription xmlns:p1=\"http://schemas.microsoft.com/sqlserver/2004/07/adventure-works/ProductModelDescription\" xmlns:wm=\"http://schemas.microsoft.com/sqlserver/2004/07/adventure-works/ProductModelWarrAndMain\" xmlns:wf=\"http://www.adventure-works.com/schemas/OtherFeatures\" xmlns:html=\"http://www.w3.org/1999/xhtml\" ProductModelID=\"28\" ProductModelName=\"Road-450\"><p1:Summary><html:p>A true multi-sport bike that offers streamlined riding and a revolutionary design.\r\n",
       "\t\t\t       Aerodynamic design lets you ride with the pros, and the gearing will conquer hilly roads.\r\n",
       "                        </html:p></p1:Summary><p1:Manufacturer><p1:Name>AdventureWorks</p1:Name><p1:Copyright>2002</p1:Copyright><p1:ProductURL>HTTP://www.Adventure-works.com</p1:ProductURL></p1:Manufacturer><p1:Features>These are the product highlights.\r\n",
       "                 <wm:Warranty><wm:WarrantyPeriod>1 year</wm:WarrantyPeriod><wm:Description>parts and labor</wm:Description></wm:Warranty><wm:Maintenance><wm:NoOfYears>5 years</wm:NoOfYears><wm:Description>maintenance contact available through dealer</wm:Description></wm:Maintenance><wf:handlebar><html:i>Incredibly strong</html:i> professional grade handlebar.</wf:handlebar><wf:wheel>Aluminum alloy rim with stainless steel spokes; built for speed on our high quality rubber tires.</wf:wheel><wf:saddle><html:i>Comfortable</html:i> saddle with bump absorping rubber bumpers.</wf:saddle><wf:pedal><html:b>Top-of-the-line</html:b> clipless pedals with adjustable tension.</wf:pedal><wf:BikeFrame><html:i>aluminum alloy </html:i> frame\r\n",
       "                     and features a lightweight down-tube milled to the perfect diameter for optimal strength.</wf:BikeFrame></p1:Features><!-- add one or more of these elements... one for each specific product in this product model --><p1:Picture><p1:Angle>front</p1:Angle><p1:Size>small</p1:Size><p1:ProductPhotoID>111</p1:ProductPhotoID></p1:Picture><!-- add any tags in <specifications> --><p1:Specifications> These are the product specifications.\r\n",
       "                   <Height>Varies</Height> Centimeters.\r\n",
       "                   <Material>Aluminum Alloy</Material><Weight>Varies with size </Weight><Color>Available in all colors.</Color><ProductLine>Road bike</ProductLine><Style>Unisex</Style><RiderExperience>Novice to Advanced riders</RiderExperience></p1:Specifications></p1:ProductDescription></td><td>8456bb94-b4dd-4a47-a76b-d0e54ab4285d</td><td>2005-06-01T00:00:00Z</td></tr><tr><td>29</td><td>Road-550-W</td><td>null</td><td>f85f84f2-9ce0-4ecc-9c29-e78021ffc877</td><td>2006-06-01T00:00:00Z</td></tr><tr><td>30</td><td>Road-650</td><td>null</td><td>42e1c597-6dd9-4071-b1a5-1dc5cdcbdbca</td><td>2005-06-01T00:00:00Z</td></tr><tr><td>31</td><td>Road-750</td><td>null</td><td>2bf795f4-2666-4691-af14-d490c7334a8a</td><td>2006-11-20T09:56:38.273Z</td></tr><tr><td>32</td><td>Short-Sleeve Classic Jersey</td><td>null</td><td>6beccf2d-eacd-496b-995b-d692567565cd</td><td>2007-06-01T00:00:00Z</td></tr><tr><td>33</td><td>Sport-100</td><td>null</td><td>47f7c450-d16a-4cea-be6e-2d6c8c8f81ee</td><td>2005-06-01T00:00:00Z</td></tr><tr><td>34</td><td>Touring-1000</td><td><?xml-stylesheet href=\"ProductDescription.xsl\" type=\"text/xsl\"?><p1:ProductDescription xmlns:p1=\"http://schemas.microsoft.com/sqlserver/2004/07/adventure-works/ProductModelDescription\" xmlns:wm=\"http://schemas.microsoft.com/sqlserver/2004/07/adventure-works/ProductModelWarrAndMain\" xmlns:wf=\"http://www.adventure-works.com/schemas/OtherFeatures\" xmlns:html=\"http://www.w3.org/1999/xhtml\" ProductModelID=\"34\" ProductModelName=\"Touring-1000\"><p1:Summary><html:p>Travel in style and comfort. Designed for maximum comfort and safety.\r\n",
       "\t\t\tWide gear range takes on all hills. High-tech aluminum alloy construction provides durability without added weight.\r\n",
       "                        </html:p></p1:Summary><p1:Manufacturer><p1:Name>AdventureWorks</p1:Name><p1:Copyright>2002</p1:Copyright><p1:ProductURL>HTTP://www.Adventure-works.com</p1:ProductURL></p1:Manufacturer><p1:Features>These are the product highlights.\r\n",
       "                 <wm:Warranty><wm:WarrantyPeriod>1 year</wm:WarrantyPeriod><wm:Description>parts and labor</wm:Description></wm:Warranty><wm:Maintenance><wm:NoOfYears>5 years</wm:NoOfYears><wm:Description>maintenance contact available through dealer</wm:Description></wm:Maintenance><wf:handlebar>A light yet stiff aluminum bar for long distance riding.</wf:handlebar><wf:wheel>Excellent aerodynamic rims guarantee a smooth ride.</wf:wheel><wf:saddle><html:i>Cut-out shell </html:i> for a more comfortable ride.</wf:saddle><wf:pedal>A stable pedal for all-day riding.</wf:pedal><wf:BikeFrame><html:i>aluminum alloy </html:i> frame\r\n",
       "                     and features a lightweight down-tube milled to the perfect diameter for optimal strength.</wf:BikeFrame></p1:Features><!-- add one or more of these elements... one for each specific product in this product model --><p1:Picture><p1:Angle>front</p1:Angle><p1:Size>small</p1:Size><p1:ProductPhotoID>87</p1:ProductPhotoID></p1:Picture><!-- add any tags in <specifications> --><p1:Specifications> These are the product specifications.\r\n",
       "\r\n",
       "                   <Material>Aluminum alloy </Material><Color>Available in most colors.</Color><ProductLine>Touring bike</ProductLine><Style>Unisex</Style><RiderExperience>Novice to Advanced riders</RiderExperience></p1:Specifications></p1:ProductDescription></td><td>52e7f2c1-dbff-4518-927d-c7d46f9ed32e</td><td>2006-11-20T09:56:38.273Z</td></tr><tr><td>35</td><td>Touring-2000</td><td><?xml-stylesheet href=\"ProductDescription.xsl\" type=\"text/xsl\"?><p1:ProductDescription xmlns:p1=\"http://schemas.microsoft.com/sqlserver/2004/07/adventure-works/ProductModelDescription\" xmlns:wm=\"http://schemas.microsoft.com/sqlserver/2004/07/adventure-works/ProductModelWarrAndMain\" xmlns:wf=\"http://www.adventure-works.com/schemas/OtherFeatures\" xmlns:html=\"http://www.w3.org/1999/xhtml\" ProductModelID=\"35\" ProductModelName=\"Touring-2000\"><p1:Summary><html:p>The plush custom saddle keeps you riding all day, and there's plenty of space\r\n",
       "\t\t\t to add panniers and bike bags to the newly-redesigned carrier.\r\n",
       "\t\t\t\tThis bike has great stability when fully-loaded.\r\n",
       "                        </html:p></p1:Summary><p1:Manufacturer><p1:Name>AdventureWorks</p1:Name><p1:Copyright>2002</p1:Copyright><p1:ProductURL>HTTP://www.Adventure-works.com</p1:ProductURL></p1:Manufacturer><p1:Features>These are the product highlights.\r\n",
       "                 <wm:Warranty><wm:WarrantyPeriod>1 year</wm:WarrantyPeriod><wm:Description>parts and labor</wm:Description></wm:Warranty><wm:Maintenance><wm:NoOfYears>5 years</wm:NoOfYears><wm:Description>maintenance contact available through dealer</wm:Description></wm:Maintenance><wf:handlebar>A light yet stiff aluminum bar for long distance riding.</wf:handlebar><wf:saddle><html:i>New design </html:i> relieves pressure for long rides.</wf:saddle><wf:pedal><html:b>Top-of-the-line</html:b> clipless pedals with adjustable tension.</wf:pedal><wf:crankset> High-strength crank arm. </wf:crankset><wf:BikeFrame>The aluminum frame is custom-shaped for both good looks and strength;\r\n",
       "\t\t\t\tit will withstand the most rigorous challenges of daily riding.</wf:BikeFrame></p1:Features><!-- add one or more of these elements... one for each specific product in this product model --><p1:Picture><p1:Angle>front</p1:Angle><p1:Size>small</p1:Size><p1:ProductPhotoID>87</p1:ProductPhotoID></p1:Picture><!-- add any tags in <specifications> --><p1:Specifications> These are the product specifications.\r\n",
       "                   <Material>Aluminum</Material><Color>Available in all colors except metallic.</Color><ProductLine>Touring bike</ProductLine><Style>Men's</Style><FrameMaterial>Aluminium alloy</FrameMaterial><RiderExperience>Intermediate to Advanced riders</RiderExperience></p1:Specifications></p1:ProductDescription></td><td>aa10d9e6-e33f-4da8-ace1-992fcd6bb171</td><td>2006-11-20T09:56:38.273Z</td></tr><tr><td>36</td><td>Touring-3000</td><td>null</td><td>f5a6ec78-4451-45db-955f-db197de8b059</td><td>2006-11-20T09:56:38.273Z</td></tr><tr><td>37</td><td>Women's Mountain Shorts</td><td>null</td><td>a08dd61a-6155-4051-9a11-223232ea51cd</td><td>2007-06-01T00:00:00Z</td></tr><tr><td>38</td><td>Women's Tights</td><td>null</td><td>a96ff80d-d52a-432f-9701-731bef16efcc</td><td>2006-06-01T00:00:00Z</td></tr><tr><td>39</td><td>Mountain-400</td><td>null</td><td>37d261a7-00cf-4880-ac1a-533b6b4365b0</td><td>2005-06-01T00:00:00Z</td></tr><tr><td>40</td><td>Road-550</td><td>null</td><td>30450264-4ab8-45e0-8bb5-4d407ea2950a</td><td>2006-06-01T00:00:00Z</td></tr><tr><td>41</td><td>Road-350</td><td>null</td><td>d71bd21c-239e-4c2b-98a3-101962d6b2d3</td><td>2006-11-20T09:56:38.273Z</td></tr><tr><td>42</td><td>LL Mountain Front Wheel</td><td>null</td><td>aa977b32-acd8-4c53-a560-88a02ac1954d</td><td>2006-11-20T09:56:38.273Z</td></tr><tr><td>43</td><td>Touring Rear Wheel</td><td>null</td><td>e878fcaa-61cc-4014-988a-51f52643f7aa</td><td>2009-05-16T16:34:28.997Z</td></tr><tr><td>44</td><td>Touring Front Wheel</td><td>null</td><td>6da78798-3793-4b8e-829e-dba9d140b1d4</td><td>2009-05-16T16:34:28.997Z</td></tr><tr><td>45</td><td>ML Mountain Front Wheel</td><td>null</td><td>c3ff3f93-60a8-4957-b076-b7d0984ee70f</td><td>2006-06-01T00:00:00Z</td></tr><tr><td>46</td><td>HL Mountain Front Wheel</td><td>null</td><td>cca597fb-195f-4ec5-bf5c-15b98d176f4c</td><td>2006-06-01T00:00:00Z</td></tr><tr><td>47</td><td>LL Touring Handlebars</td><td>null</td><td>84138622-1ea6-489f-9c98-6e3924cfbac0</td><td>2009-05-16T16:34:29.01Z</td></tr><tr><td>48</td><td>HL Touring Handlebars</td><td>null</td><td>9da82e49-80ad-4918-9a54-31f4b0c8eabb</td><td>2009-05-16T16:34:29.027Z</td></tr><tr><td>49</td><td>LL Road Front Wheel</td><td>null</td><td>90f759c1-2073-4d9f-854b-c6b6f3bf9162</td><td>2006-06-01T00:00:00Z</td></tr><tr><td>50</td><td>ML Road Front Wheel</td><td>null</td><td>980c8cd0-4903-41f2-9ffc-773c7fe4c254</td><td>2006-06-01T00:00:00Z</td></tr><tr><td>51</td><td>HL Road Front Wheel</td><td>null</td><td>02a562e2-4dfa-4778-bbac-bbddcecf99b0</td><td>2006-06-01T00:00:00Z</td></tr><tr><td>52</td><td>LL Mountain Handlebars</td><td>null</td><td>699c2ac5-5406-46d2-863d-dcfb23fc7943</td><td>2006-06-01T00:00:00Z</td></tr><tr><td>53</td><td>Touring Pedal</td><td>null</td><td>b98a3207-56fc-405c-a040-3c7a90cc7890</td><td>2009-05-16T16:34:29.027Z</td></tr><tr><td>54</td><td>ML Mountain Handlebars</td><td>null</td><td>c9fcc804-2cd7-4b8a-b186-9c409cc19df9</td><td>2006-06-01T00:00:00Z</td></tr><tr><td>55</td><td>HL Mountain Handlebars</td><td>null</td><td>782c991b-a660-4561-a3f4-9bbd74259747</td><td>2006-06-01T00:00:00Z</td></tr><tr><td>56</td><td>LL Road Handlebars</td><td>null</td><td>a7e65199-84a8-437e-ad55-360c1df1d788</td><td>2006-06-01T00:00:00Z</td></tr><tr><td>57</td><td>ML Road Handlebars</td><td>null</td><td>02200aa0-c369-4d77-a67c-75973efda81b</td><td>2006-06-01T00:00:00Z</td></tr><tr><td>58</td><td>HL Road Handlebars</td><td>null</td><td>2489ddc5-1c89-4dec-af22-b0112ccec467</td><td>2006-06-01T00:00:00Z</td></tr><tr><td>59</td><td>LL Headset</td><td>null</td><td>39afbba9-0f6c-44ee-b5e1-32fa93f897e6</td><td>2006-06-01T00:00:00Z</td></tr><tr><td>60</td><td>ML Headset</td><td>null</td><td>6ba9f3b6-e08b-4ac2-a725-b41114c2a283</td><td>2006-06-01T00:00:00Z</td></tr><tr><td>61</td><td>HL Headset</td><td>null</td><td>e196d02e-9bf6-4c67-b772-ed9f86ccf44c</td><td>2006-06-01T00:00:00Z</td></tr><tr><td>62</td><td>LL Mountain Pedal</td><td>null</td><td>8123f7e2-a5f4-4047-b69d-e74313dfebce</td><td>2007-06-01T00:00:00Z</td></tr><tr><td>63</td><td>ML Mountain Pedal</td><td>null</td><td>be9cdc56-f4ab-40f1-b338-2e08e0627abd</td><td>2007-06-01T00:00:00Z</td></tr><tr><td>64</td><td>HL Mountain Pedal</td><td>null</td><td>8da73708-8dae-44ae-ac6c-6e37022c1ffe</td><td>2007-06-01T00:00:00Z</td></tr><tr><td>65</td><td>ML Touring Seat/Saddle</td><td>null</td><td>63a2199f-f5b5-49bd-bcfc-bec1d1d16d8b</td><td>2007-06-01T00:00:00Z</td></tr><tr><td>66</td><td>LL Touring Seat/Saddle</td><td>null</td><td>4a17c43a-1a55-41bb-bc97-612f47cedeb3</td><td>2009-05-16T16:34:29.043Z</td></tr><tr><td>67</td><td>HL Touring Seat/Saddle</td><td>null</td><td>059a2000-7549-4b49-8e0c-2de6b2771ef4</td><td>2009-05-16T16:34:29.043Z</td></tr><tr><td>68</td><td>LL Road Pedal</td><td>null</td><td>218b016c-7454-4193-b518-21955c783d72</td><td>2007-06-01T00:00:00Z</td></tr><tr><td>69</td><td>ML Road Pedal</td><td>null</td><td>3cdf61d6-6209-436f-b235-82e8f159208b</td><td>2007-06-01T00:00:00Z</td></tr><tr><td>70</td><td>HL Road Pedal</td><td>null</td><td>35677b42-72ca-4d9e-a966-dd874b83ef45</td><td>2007-06-01T00:00:00Z</td></tr><tr><td>71</td><td>LL Mountain Seat/Saddle 1</td><td>null</td><td>a166af4c-87bb-41aa-8496-d76b26008fb3</td><td>2007-06-01T00:00:00Z</td></tr><tr><td>72</td><td>ML Mountain Seat/Saddle 1</td><td>null</td><td>baa9405b-68ca-4c18-bc9c-1c4acf49bafc</td><td>2007-06-01T00:00:00Z</td></tr><tr><td>73</td><td>HL Mountain Seat/Saddle 1</td><td>null</td><td>bbe4918f-198d-43c7-9f4b-79bc2aa08f2b</td><td>2007-06-01T00:00:00Z</td></tr><tr><td>74</td><td>LL Road Seat/Saddle 2</td><td>null</td><td>24e3e7d4-4053-4035-9d69-f451642f0c1e</td><td>2007-06-01T00:00:00Z</td></tr><tr><td>75</td><td>ML Road Seat/Saddle 1</td><td>null</td><td>394ed69c-2cc4-4a85-9080-8534112b66fe</td><td>2007-06-01T00:00:00Z</td></tr><tr><td>76</td><td>HL Road Seat/Saddle 1</td><td>null</td><td>b83ab7ae-ba3f-40df-8296-361915a3a60c</td><td>2007-06-01T00:00:00Z</td></tr><tr><td>77</td><td>ML Road Rear Wheel</td><td>null</td><td>15702f98-bd92-4fe8-86bc-52f5fd049d3d</td><td>2006-06-01T00:00:00Z</td></tr><tr><td>78</td><td>HL Road Rear Wheel</td><td>null</td><td>438cbcfa-05ff-4a29-ad95-ecf41dcb83d5</td><td>2006-06-01T00:00:00Z</td></tr><tr><td>79</td><td>LL Mountain Seat/Saddle 2</td><td>null</td><td>8bbeb399-5a87-4e40-9f52-462fb54f2183</td><td>2007-06-01T00:00:00Z</td></tr><tr><td>80</td><td>ML Mountain Seat/Saddle 2</td><td>null</td><td>5cefbb6e-3b7e-414f-ac1b-8f6df741fb21</td><td>2007-06-01T00:00:00Z</td></tr><tr><td>81</td><td>HL Mountain Seat/Saddle 2</td><td>null</td><td>98726f80-e9b9-4141-9cf5-bd2ef07dce25</td><td>2007-06-01T00:00:00Z</td></tr><tr><td>82</td><td>LL Road Seat/Saddle 1</td><td>null</td><td>00ce9171-8944-4d49-ba37-485c1d122f5c</td><td>2007-06-01T00:00:00Z</td></tr><tr><td>83</td><td>ML Road Seat/Saddle 2</td><td>null</td><td>feeb8440-446e-4df8-9482-d529c4fc5e8f</td><td>2007-06-01T00:00:00Z</td></tr><tr><td>84</td><td>HL Road Seat/Saddle 2</td><td>null</td><td>0d3a6ad7-6891-4de9-b14f-e1a841eb220c</td><td>2007-06-01T00:00:00Z</td></tr><tr><td>85</td><td>LL Mountain Tire</td><td>null</td><td>e3cdc5dd-27c3-4891-9d5e-0d46d1b8457f</td><td>2007-06-01T00:00:00Z</td></tr><tr><td>86</td><td>ML Mountain Tire</td><td>null</td><td>0434f63a-a361-4d0b-a9fc-8ac2a866ce85</td><td>2007-06-01T00:00:00Z</td></tr><tr><td>87</td><td>HL Mountain Tire</td><td>null</td><td>ce1b1064-6679-4212-8f56-2b2617ec56a5</td><td>2007-06-01T00:00:00Z</td></tr><tr><td>88</td><td>LL Road Tire</td><td>null</td><td>e7b00dff-8136-4947-b503-994584cc89e7</td><td>2007-06-01T00:00:00Z</td></tr><tr><td>89</td><td>ML Road Tire</td><td>null</td><td>d566eb0f-6945-43d8-bc40-bb3d2f4ef7ed</td><td>2007-06-01T00:00:00Z</td></tr><tr><td>90</td><td>HL Road Tire</td><td>null</td><td>a4b205df-955a-494e-8428-1898aea76f24</td><td>2007-06-01T00:00:00Z</td></tr><tr><td>91</td><td>Touring Tire</td><td>null</td><td>3bcc63d6-9340-4b93-b5f2-73fa90758bf5</td><td>2007-06-01T00:00:00Z</td></tr><tr><td>92</td><td>Mountain Tire Tube</td><td>null</td><td>8cfbe7f2-eec3-4ba6-8187-c8a3614f1f0b</td><td>2007-06-01T00:00:00Z</td></tr><tr><td>93</td><td>Road Tire Tube</td><td>null</td><td>2771d2d2-2e35-4c12-966e-ce9070df6d53</td><td>2007-06-01T00:00:00Z</td></tr><tr><td>94</td><td>Touring Tire Tube</td><td>null</td><td>deeea9bc-3c8c-4e73-b6b0-64c81a5d99e3</td><td>2007-06-01T00:00:00Z</td></tr><tr><td>95</td><td>LL Bottom Bracket</td><td>null</td><td>217e7475-d3f4-46fa-836a-d9e53103e71b</td><td>2007-06-01T00:00:00Z</td></tr><tr><td>96</td><td>ML Bottom Bracket</td><td>null</td><td>09caa74e-f47b-4fca-b206-9d3e46df9751</td><td>2007-06-01T00:00:00Z</td></tr><tr><td>97</td><td>HL Bottom Bracket</td><td>null</td><td>816360e1-3dee-4568-bf2f-9828243d887b</td><td>2007-06-01T00:00:00Z</td></tr><tr><td>98</td><td>Chain</td><td>null</td><td>aca920b2-d0f9-49f3-b879-573202b08c2f</td><td>2007-06-01T00:00:00Z</td></tr><tr><td>99</td><td>LL Crankset</td><td>null</td><td>5b59f032-9b73-4d90-b252-eafd6a871ff1</td><td>2007-06-01T00:00:00Z</td></tr><tr><td>100</td><td>ML Crankset</td><td>null</td><td>68c6cb29-d94a-40c5-aaad-90aa6e7c5ea1</td><td>2007-06-01T00:00:00Z</td></tr><tr><td>101</td><td>HL Crankset</td><td>null</td><td>809668a3-d492-41fb-a196-cfe092a12aa2</td><td>2007-06-01T00:00:00Z</td></tr><tr><td>102</td><td>Front Brakes</td><td>null</td><td>1099a23a-c9ed-41b1-8cc1-e2c1c54a10c8</td><td>2007-06-01T00:00:00Z</td></tr><tr><td>103</td><td>Front Derailleur</td><td>null</td><td>10e0c8fd-ca13-437b-8e22-51853ae160a7</td><td>2007-06-01T00:00:00Z</td></tr><tr><td>104</td><td>LL Fork</td><td>null</td><td>0481d7e1-4970-4efa-a560-020f6579918d</td><td>2006-06-01T00:00:00Z</td></tr><tr><td>105</td><td>ML Fork</td><td>null</td><td>5f115aa4-0553-4478-84b3-5dcf3abe0d08</td><td>2006-06-01T00:00:00Z</td></tr><tr><td>106</td><td>HL Fork</td><td>null</td><td>7706a8fd-9513-40bc-95e8-301b55b67db2</td><td>2006-06-01T00:00:00Z</td></tr><tr><td>107</td><td>Hydration Pack</td><td>null</td><td>cfeef30f-f059-4447-92a8-47001e69f3db</td><td>2007-06-01T00:00:00Z</td></tr><tr><td>108</td><td>Taillight</td><td>null</td><td>dba643d4-4cf2-4507-b947-e817d8c5792b</td><td>2006-06-01T00:00:00Z</td></tr><tr><td>109</td><td>Headlights - Dual-Beam</td><td>null</td><td>7b17ebf1-cb73-4934-9689-1dc26cf22d9c</td><td>2006-06-01T00:00:00Z</td></tr><tr><td>110</td><td>Headlights - Weatherproof</td><td>null</td><td>1fadb88f-af88-4e94-bb1e-6158c48e6b40</td><td>2006-06-01T00:00:00Z</td></tr><tr><td>111</td><td>Water Bottle</td><td>null</td><td>3688268a-260c-48bf-bf71-fff350d4d3d5</td><td>2007-06-01T00:00:00Z</td></tr><tr><td>112</td><td>Mountain Bottle Cage</td><td>null</td><td>2194e65b-9c13-46e1-a655-3ebff8a96719</td><td>2007-06-01T00:00:00Z</td></tr><tr><td>113</td><td>Road Bottle Cage</td><td>null</td><td>9416c2dd-55d8-469d-8edf-ef447c511897</td><td>2007-06-01T00:00:00Z</td></tr><tr><td>114</td><td>Patch kit</td><td>null</td><td>7c738101-c01e-45a2-a0e0-b28aeba1dc40</td><td>2007-06-01T00:00:00Z</td></tr><tr><td>115</td><td>Cable Lock</td><td>null</td><td>e7e17f11-a7fd-4c3c-b701-68f0ae26143e</td><td>2006-06-01T00:00:00Z</td></tr><tr><td>116</td><td>Minipump</td><td>null</td><td>90cef1a7-d817-403e-814c-40e305eeefef</td><td>2006-06-01T00:00:00Z</td></tr><tr><td>117</td><td>Mountain Pump</td><td>null</td><td>b35598f6-b413-4138-8081-5dc7d4c64b64</td><td>2006-06-01T00:00:00Z</td></tr><tr><td>118</td><td>Hitch Rack - 4-Bike</td><td>null</td><td>f570e0d1-e978-4ff2-b5b1-08f01ab60219</td><td>2007-06-01T00:00:00Z</td></tr><tr><td>119</td><td>Bike Wash</td><td>null</td><td>90b1b93d-ebc8-44a2-ac08-cdd1d20ca39c</td><td>2007-06-01T00:00:00Z</td></tr><tr><td>120</td><td>Touring-Panniers</td><td>null</td><td>f06999a1-3aa7-4e85-b8cb-049eb2c391fa</td><td>2006-06-01T00:00:00Z</td></tr><tr><td>121</td><td>Fender Set - Mountain</td><td>null</td><td>c88d1136-a8bb-46bb-94aa-8c1854f813cc</td><td>2007-06-01T00:00:00Z</td></tr><tr><td>122</td><td>All-Purpose Bike Stand</td><td>null</td><td>6eab8607-d927-40e1-af30-d8a2a953050c</td><td>2007-06-01T00:00:00Z</td></tr><tr><td>123</td><td>LL Mountain Rear Wheel</td><td>null</td><td>29521f66-2926-471f-867b-668b0b9ec2b0</td><td>2006-06-01T00:00:00Z</td></tr><tr><td>124</td><td>ML Mountain Rear Wheel</td><td>null</td><td>d968d774-778e-4399-a3c5-375176418229</td><td>2006-06-01T00:00:00Z</td></tr><tr><td>125</td><td>HL Mountain Rear Wheel</td><td>null</td><td>95450545-adf7-48f3-899e-964de8920dc6</td><td>2006-06-01T00:00:00Z</td></tr><tr><td>126</td><td>LL Road Rear Wheel</td><td>null</td><td>95946bd4-c6d9-4344-8066-317d8957ea21</td><td>2006-06-01T00:00:00Z</td></tr><tr><td>127</td><td>Rear Derailleur</td><td>null</td><td>f9327e5d-f8b6-40c5-bfa9-63f886bdfc24</td><td>2007-06-01T00:00:00Z</td></tr><tr><td>128</td><td>Rear Brakes</td><td>null</td><td>71d47afd-da3a-43f1-83ad-69c71f96ef33</td><td>2007-06-01T00:00:00Z</td></tr></tbody></table></div>"
      ]
     },
     "metadata": {
      "application/vnd.databricks.v1+output": {
       "addedWidgets": {},
       "aggData": [],
       "aggError": "",
       "aggOverflow": false,
       "aggSchema": [],
       "aggSeriesLimitReached": false,
       "aggType": "",
       "arguments": {},
       "columnCustomDisplayInfos": {},
       "data": [
        [
         1,
         "Classic Vest",
         null,
         "29321d47-1e4c-4aac-887c-19634328c25e",
         "2007-06-01T00:00:00Z"
        ],
        [
         2,
         "Cycling Cap",
         null,
         "474fb654-3c96-4cb9-82df-2152eeffbdb0",
         "2005-06-01T00:00:00Z"
        ],
        [
         3,
         "Full-Finger Gloves",
         null,
         "a75483fe-3c47-4aa4-93cf-664b51192987",
         "2006-06-01T00:00:00Z"
        ],
        [
         4,
         "Half-Finger Gloves",
         null,
         "14b56f2a-d4aa-40a4-b9a2-984f165ed702",
         "2006-06-01T00:00:00Z"
        ],
        [
         5,
         "HL Mountain Frame",
         null,
         "fdd5407b-c2db-49d1-a86b-c13a2e3582a2",
         "2005-06-01T00:00:00Z"
        ],
        [
         6,
         "HL Road Frame",
         null,
         "4d332ecc-48b3-4e04-b7e7-227f3ac2a7ec",
         "2002-05-02T00:00:00Z"
        ],
        [
         7,
         "HL Touring Frame",
         null,
         "d60ed2a5-c100-4c54-89a1-531404c4a20f",
         "2009-05-16T16:34:28.98Z"
        ],
        [
         8,
         "LL Mountain Frame",
         null,
         "65bf3f6d-bcf2-4db6-8515-fc5c57423037",
         "2006-11-20T09:56:38.273Z"
        ],
        [
         9,
         "LL Road Frame",
         null,
         "ddc67a2f-024a-4446-9b54-3c679baba708",
         "2005-06-01T00:00:00Z"
        ],
        [
         10,
         "LL Touring Frame",
         null,
         "66c63844-2a24-473c-96d5-d3b3fd57d834",
         "2009-05-16T16:34:28.98Z"
        ],
        [
         11,
         "Long-Sleeve Logo Jersey",
         null,
         "20efe3f1-a2f8-4dde-b74b-18265f61f863",
         "2005-06-01T00:00:00Z"
        ],
        [
         12,
         "Men's Bib-Shorts",
         null,
         "219e2f87-26a9-483b-b968-04578e943096",
         "2006-06-01T00:00:00Z"
        ],
        [
         13,
         "Men's Sports Shorts",
         null,
         "45fe0d77-6645-473c-a116-1232baea8d43",
         "2006-06-01T00:00:00Z"
        ],
        [
         14,
         "ML Mountain Frame",
         null,
         "0d48c51d-7603-4010-9265-0491805bb010",
         "2006-06-01T00:00:00Z"
        ],
        [
         15,
         "ML Mountain Frame-W",
         null,
         "aa77697c-6d1c-48f1-845c-3cb089498715",
         "2006-06-01T00:00:00Z"
        ],
        [
         16,
         "ML Road Frame",
         null,
         "3494e8ff-7daf-4860-abf6-97842048e272",
         "2005-06-01T00:00:00Z"
        ],
        [
         17,
         "ML Road Frame-W",
         null,
         "ca18ecfd-2023-4fa7-a556-0321153bca34",
         "2006-06-01T00:00:00Z"
        ],
        [
         18,
         "Mountain Bike Socks",
         null,
         "36b1a76a-dff3-4a55-86f9-65eb1cb18d7b",
         "2005-06-01T00:00:00Z"
        ],
        [
         19,
         "Mountain-100",
         "<?xml-stylesheet href=\"ProductDescription.xsl\" type=\"text/xsl\"?><p1:ProductDescription xmlns:p1=\"http://schemas.microsoft.com/sqlserver/2004/07/adventure-works/ProductModelDescription\" xmlns:wm=\"http://schemas.microsoft.com/sqlserver/2004/07/adventure-works/ProductModelWarrAndMain\" xmlns:wf=\"http://www.adventure-works.com/schemas/OtherFeatures\" xmlns:html=\"http://www.w3.org/1999/xhtml\" ProductModelID=\"19\" ProductModelName=\"Mountain 100\"><p1:Summary><html:p>Our top-of-the-line competition mountain bike.\r\n \t\t\t\tPerformance-enhancing options include the innovative HL Frame,\r\n\t\t\t\tsuper-smooth front suspension, and traction for all terrain.\r\n                        </html:p></p1:Summary><p1:Manufacturer><p1:Name>AdventureWorks</p1:Name><p1:Copyright>2002</p1:Copyright><p1:ProductURL>HTTP://www.Adventure-works.com</p1:ProductURL></p1:Manufacturer><p1:Features>These are the product highlights.\r\n                 <wm:Warranty><wm:WarrantyPeriod>3 years</wm:WarrantyPeriod><wm:Description>parts and labor</wm:Description></wm:Warranty><wm:Maintenance><wm:NoOfYears>10 years</wm:NoOfYears><wm:Description>maintenance contract available through your dealer or any AdventureWorks retail store.</wm:Description></wm:Maintenance><wf:wheel>High performance wheels.</wf:wheel><wf:saddle><html:i>Anatomic design</html:i> and made from durable leather for a full-day of riding in comfort.</wf:saddle><wf:pedal><html:b>Top-of-the-line</html:b> clipless pedals with adjustable tension.</wf:pedal><wf:BikeFrame>Each frame is hand-crafted in our Bothell facility to the optimum diameter\r\n\t\t\t\tand wall-thickness required of a premium mountain frame.\r\n\t\t\t\tThe heat-treated welded aluminum frame has a larger diameter tube that absorbs the bumps.</wf:BikeFrame><wf:crankset> Triple crankset; alumunim crank arm; flawless shifting. </wf:crankset></p1:Features><!-- add one or more of these elements... one for each specific product in this product model --><p1:Picture><p1:Angle>front</p1:Angle><p1:Size>small</p1:Size><p1:ProductPhotoID>118</p1:ProductPhotoID></p1:Picture><!-- add any tags in <specifications> --><p1:Specifications> These are the product specifications.\r\n                   <Material>Almuminum Alloy</Material><Color>Available in most colors</Color><ProductLine>Mountain bike</ProductLine><Style>Unisex</Style><RiderExperience>Advanced to Professional riders</RiderExperience></p1:Specifications></p1:ProductDescription>",
         "fca0665b-b956-489a-a5ec-6f0b4aa14d02",
         "2005-06-01T00:00:00Z"
        ],
        [
         20,
         "Mountain-200",
         null,
         "3b78edff-2aa9-4ac1-8c3d-94090b5f53a9",
         "2006-06-01T00:00:00Z"
        ],
        [
         21,
         "Mountain-300",
         null,
         "ecddd0d7-2db2-464d-b2da-89bffc6276aa",
         "2006-06-01T00:00:00Z"
        ],
        [
         22,
         "Mountain-400-W",
         null,
         "6d2fcce4-ffce-4662-a3f8-5d18f0eedcd8",
         "2007-06-01T00:00:00Z"
        ],
        [
         23,
         "Mountain-500",
         "<?xml-stylesheet href=\"ProductDescription.xsl\" type=\"text/xsl\"?><p1:ProductDescription xmlns:p1=\"http://schemas.microsoft.com/sqlserver/2004/07/adventure-works/ProductModelDescription\" xmlns:wm=\"http://schemas.microsoft.com/sqlserver/2004/07/adventure-works/ProductModelWarrAndMain\" xmlns:wf=\"http://www.adventure-works.com/schemas/OtherFeatures\" xmlns:html=\"http://www.w3.org/1999/xhtml\" ProductModelID=\"23\" ProductModelName=\"Mountain-500\"><p1:Summary><html:p>Suitable for any type of riding, on or off-road.\r\n\t\t\tFits any budget. Smooth-shifting with a comfortable ride.\r\n                        </html:p></p1:Summary><p1:Manufacturer><p1:Name>AdventureWorks</p1:Name><p1:Copyright>2002</p1:Copyright><p1:ProductURL>HTTP://www.Adventure-works.com</p1:ProductURL></p1:Manufacturer><p1:Features>Product highlights include:\r\n                 <wm:Warranty><wm:WarrantyPeriod>1 year</wm:WarrantyPeriod><wm:Description>parts and labor</wm:Description></wm:Warranty><wm:Maintenance><wm:NoOfYears>3 years</wm:NoOfYears><wm:Description>maintenance contact available through dealer</wm:Description></wm:Maintenance><wf:wheel>Stable, durable wheels suitable for novice riders.</wf:wheel><wf:saddle>Made from synthetic leather and features gel padding for increased comfort.</wf:saddle><wf:pedal><html:b>Expanded platform</html:b> so you can ride in any shoes; great for all-around riding.</wf:pedal><wf:crankset> Super rigid spindle. </wf:crankset><wf:BikeFrame>Our best value frame utilizing the same, ground-breaking technology as the ML aluminum frame.</wf:BikeFrame></p1:Features><!-- add one or more of these elements... one for each specific product in this product model --><p1:Picture><p1:Angle>front</p1:Angle><p1:Size>small</p1:Size><p1:ProductPhotoID>1</p1:ProductPhotoID></p1:Picture><!-- add any tags in <specifications> --><p1:Specifications> These are the product specifications.\r\n                   <Height>Varies</Height> Centimeters.\r\n                   <Material>Aluminum Alloy</Material><Color>Available in all colors.</Color><ProductLine>Mountain bike</ProductLine><Style>Unisex</Style><RiderExperience>Novice to Intermediate riders</RiderExperience></p1:Specifications></p1:ProductDescription>",
         "866dbad3-5999-4329-beac-d826d959d9a1",
         "2006-11-20T09:56:38.273Z"
        ],
        [
         24,
         "Racing Socks",
         null,
         "bd8ba6f8-7e16-4fa3-b3b3-2036dd4a2ae0",
         "2007-06-01T00:00:00Z"
        ],
        [
         25,
         "Road-150",
         "<?xml-stylesheet href=\"ProductDescription.xsl\" type=\"text/xsl\"?><p1:ProductDescription xmlns:p1=\"http://schemas.microsoft.com/sqlserver/2004/07/adventure-works/ProductModelDescription\" xmlns:wm=\"http://schemas.microsoft.com/sqlserver/2004/07/adventure-works/ProductModelWarrAndMain\" xmlns:wf=\"http://www.adventure-works.com/schemas/OtherFeatures\" xmlns:html=\"http://www.w3.org/1999/xhtml\" ProductModelID=\"25\" ProductModelName=\"Road-150\"><p1:Summary><html:p>This bike is ridden by race winners. Developed with the\r\n\t\t\tAdventure Works Cycles professional race team, it has a extremely light\r\n\t\t\theat-treated aluminum frame, and steering that allows precision control.\r\n                        </html:p></p1:Summary><p1:Manufacturer><p1:Name>AdventureWorks</p1:Name><p1:Copyright>2002</p1:Copyright><p1:ProductURL>HTTP://www.Adventure-works.com</p1:ProductURL></p1:Manufacturer><p1:Features>These are the product highlights.\r\n                 <wm:Warranty><wm:WarrantyPeriod>4 years</wm:WarrantyPeriod><wm:Description>parts and labor</wm:Description></wm:Warranty><wm:Maintenance><wm:NoOfYears>7 years</wm:NoOfYears><wm:Description>maintenance contact available through dealer or any Adventure Works Cycles retail store.</wm:Description></wm:Maintenance><wf:handlebar>Designed for racers; high-end anatomically shaped bar from aluminum alloy.</wf:handlebar><wf:wheel>Strong wheels with double-walled rims.</wf:wheel><wf:saddle><html:i>Lightweight </html:i> kevlar racing saddle.</wf:saddle><wf:pedal><html:b>Top-of-the-line</html:b> clipless pedals with adjustable tension.</wf:pedal><wf:BikeFrame><html:i>Our lightest and best quality </html:i> aluminum frame made from the newest alloy;\r\n\t\t\tit is welded and heat-treated for strength.\r\n\t\t\tOur innovative design results in maximum comfort and performance.</wf:BikeFrame></p1:Features><!-- add one or more of these elements... one for each specific product in this product model --><p1:Picture><p1:Angle>front</p1:Angle><p1:Size>small</p1:Size><p1:ProductPhotoID>126</p1:ProductPhotoID></p1:Picture><!-- add any tags in <specifications> --><p1:Specifications> These are the product specifications.\r\n                   <Material>Aluminum</Material><Color>Available in all colors.</Color><ProductLine>Road bike</ProductLine><Style>Unisex</Style><RiderExperience>Intermediate to Professional riders</RiderExperience></p1:Specifications></p1:ProductDescription>",
         "94ffb702-0cbc-4e3f-b840-c51f0d11c8f6",
         "2005-06-01T00:00:00Z"
        ],
        [
         26,
         "Road-250",
         null,
         "3770c5e3-8dc9-43c7-b735-7aff21645d96",
         "2006-06-01T00:00:00Z"
        ],
        [
         27,
         "Road-350-W",
         null,
         "dfe49035-7720-4ff4-b28b-16250ee46259",
         "2007-06-01T00:00:00Z"
        ],
        [
         28,
         "Road-450",
         "<?xml-stylesheet href=\"ProductDescription.xsl\" type=\"text/xsl\"?><p1:ProductDescription xmlns:p1=\"http://schemas.microsoft.com/sqlserver/2004/07/adventure-works/ProductModelDescription\" xmlns:wm=\"http://schemas.microsoft.com/sqlserver/2004/07/adventure-works/ProductModelWarrAndMain\" xmlns:wf=\"http://www.adventure-works.com/schemas/OtherFeatures\" xmlns:html=\"http://www.w3.org/1999/xhtml\" ProductModelID=\"28\" ProductModelName=\"Road-450\"><p1:Summary><html:p>A true multi-sport bike that offers streamlined riding and a revolutionary design.\r\n\t\t\t       Aerodynamic design lets you ride with the pros, and the gearing will conquer hilly roads.\r\n                        </html:p></p1:Summary><p1:Manufacturer><p1:Name>AdventureWorks</p1:Name><p1:Copyright>2002</p1:Copyright><p1:ProductURL>HTTP://www.Adventure-works.com</p1:ProductURL></p1:Manufacturer><p1:Features>These are the product highlights.\r\n                 <wm:Warranty><wm:WarrantyPeriod>1 year</wm:WarrantyPeriod><wm:Description>parts and labor</wm:Description></wm:Warranty><wm:Maintenance><wm:NoOfYears>5 years</wm:NoOfYears><wm:Description>maintenance contact available through dealer</wm:Description></wm:Maintenance><wf:handlebar><html:i>Incredibly strong</html:i> professional grade handlebar.</wf:handlebar><wf:wheel>Aluminum alloy rim with stainless steel spokes; built for speed on our high quality rubber tires.</wf:wheel><wf:saddle><html:i>Comfortable</html:i> saddle with bump absorping rubber bumpers.</wf:saddle><wf:pedal><html:b>Top-of-the-line</html:b> clipless pedals with adjustable tension.</wf:pedal><wf:BikeFrame><html:i>aluminum alloy </html:i> frame\r\n                     and features a lightweight down-tube milled to the perfect diameter for optimal strength.</wf:BikeFrame></p1:Features><!-- add one or more of these elements... one for each specific product in this product model --><p1:Picture><p1:Angle>front</p1:Angle><p1:Size>small</p1:Size><p1:ProductPhotoID>111</p1:ProductPhotoID></p1:Picture><!-- add any tags in <specifications> --><p1:Specifications> These are the product specifications.\r\n                   <Height>Varies</Height> Centimeters.\r\n                   <Material>Aluminum Alloy</Material><Weight>Varies with size </Weight><Color>Available in all colors.</Color><ProductLine>Road bike</ProductLine><Style>Unisex</Style><RiderExperience>Novice to Advanced riders</RiderExperience></p1:Specifications></p1:ProductDescription>",
         "8456bb94-b4dd-4a47-a76b-d0e54ab4285d",
         "2005-06-01T00:00:00Z"
        ],
        [
         29,
         "Road-550-W",
         null,
         "f85f84f2-9ce0-4ecc-9c29-e78021ffc877",
         "2006-06-01T00:00:00Z"
        ],
        [
         30,
         "Road-650",
         null,
         "42e1c597-6dd9-4071-b1a5-1dc5cdcbdbca",
         "2005-06-01T00:00:00Z"
        ],
        [
         31,
         "Road-750",
         null,
         "2bf795f4-2666-4691-af14-d490c7334a8a",
         "2006-11-20T09:56:38.273Z"
        ],
        [
         32,
         "Short-Sleeve Classic Jersey",
         null,
         "6beccf2d-eacd-496b-995b-d692567565cd",
         "2007-06-01T00:00:00Z"
        ],
        [
         33,
         "Sport-100",
         null,
         "47f7c450-d16a-4cea-be6e-2d6c8c8f81ee",
         "2005-06-01T00:00:00Z"
        ],
        [
         34,
         "Touring-1000",
         "<?xml-stylesheet href=\"ProductDescription.xsl\" type=\"text/xsl\"?><p1:ProductDescription xmlns:p1=\"http://schemas.microsoft.com/sqlserver/2004/07/adventure-works/ProductModelDescription\" xmlns:wm=\"http://schemas.microsoft.com/sqlserver/2004/07/adventure-works/ProductModelWarrAndMain\" xmlns:wf=\"http://www.adventure-works.com/schemas/OtherFeatures\" xmlns:html=\"http://www.w3.org/1999/xhtml\" ProductModelID=\"34\" ProductModelName=\"Touring-1000\"><p1:Summary><html:p>Travel in style and comfort. Designed for maximum comfort and safety.\r\n\t\t\tWide gear range takes on all hills. High-tech aluminum alloy construction provides durability without added weight.\r\n                        </html:p></p1:Summary><p1:Manufacturer><p1:Name>AdventureWorks</p1:Name><p1:Copyright>2002</p1:Copyright><p1:ProductURL>HTTP://www.Adventure-works.com</p1:ProductURL></p1:Manufacturer><p1:Features>These are the product highlights.\r\n                 <wm:Warranty><wm:WarrantyPeriod>1 year</wm:WarrantyPeriod><wm:Description>parts and labor</wm:Description></wm:Warranty><wm:Maintenance><wm:NoOfYears>5 years</wm:NoOfYears><wm:Description>maintenance contact available through dealer</wm:Description></wm:Maintenance><wf:handlebar>A light yet stiff aluminum bar for long distance riding.</wf:handlebar><wf:wheel>Excellent aerodynamic rims guarantee a smooth ride.</wf:wheel><wf:saddle><html:i>Cut-out shell </html:i> for a more comfortable ride.</wf:saddle><wf:pedal>A stable pedal for all-day riding.</wf:pedal><wf:BikeFrame><html:i>aluminum alloy </html:i> frame\r\n                     and features a lightweight down-tube milled to the perfect diameter for optimal strength.</wf:BikeFrame></p1:Features><!-- add one or more of these elements... one for each specific product in this product model --><p1:Picture><p1:Angle>front</p1:Angle><p1:Size>small</p1:Size><p1:ProductPhotoID>87</p1:ProductPhotoID></p1:Picture><!-- add any tags in <specifications> --><p1:Specifications> These are the product specifications.\r\n\r\n                   <Material>Aluminum alloy </Material><Color>Available in most colors.</Color><ProductLine>Touring bike</ProductLine><Style>Unisex</Style><RiderExperience>Novice to Advanced riders</RiderExperience></p1:Specifications></p1:ProductDescription>",
         "52e7f2c1-dbff-4518-927d-c7d46f9ed32e",
         "2006-11-20T09:56:38.273Z"
        ],
        [
         35,
         "Touring-2000",
         "<?xml-stylesheet href=\"ProductDescription.xsl\" type=\"text/xsl\"?><p1:ProductDescription xmlns:p1=\"http://schemas.microsoft.com/sqlserver/2004/07/adventure-works/ProductModelDescription\" xmlns:wm=\"http://schemas.microsoft.com/sqlserver/2004/07/adventure-works/ProductModelWarrAndMain\" xmlns:wf=\"http://www.adventure-works.com/schemas/OtherFeatures\" xmlns:html=\"http://www.w3.org/1999/xhtml\" ProductModelID=\"35\" ProductModelName=\"Touring-2000\"><p1:Summary><html:p>The plush custom saddle keeps you riding all day, and there's plenty of space\r\n\t\t\t to add panniers and bike bags to the newly-redesigned carrier.\r\n\t\t\t\tThis bike has great stability when fully-loaded.\r\n                        </html:p></p1:Summary><p1:Manufacturer><p1:Name>AdventureWorks</p1:Name><p1:Copyright>2002</p1:Copyright><p1:ProductURL>HTTP://www.Adventure-works.com</p1:ProductURL></p1:Manufacturer><p1:Features>These are the product highlights.\r\n                 <wm:Warranty><wm:WarrantyPeriod>1 year</wm:WarrantyPeriod><wm:Description>parts and labor</wm:Description></wm:Warranty><wm:Maintenance><wm:NoOfYears>5 years</wm:NoOfYears><wm:Description>maintenance contact available through dealer</wm:Description></wm:Maintenance><wf:handlebar>A light yet stiff aluminum bar for long distance riding.</wf:handlebar><wf:saddle><html:i>New design </html:i> relieves pressure for long rides.</wf:saddle><wf:pedal><html:b>Top-of-the-line</html:b> clipless pedals with adjustable tension.</wf:pedal><wf:crankset> High-strength crank arm. </wf:crankset><wf:BikeFrame>The aluminum frame is custom-shaped for both good looks and strength;\r\n\t\t\t\tit will withstand the most rigorous challenges of daily riding.</wf:BikeFrame></p1:Features><!-- add one or more of these elements... one for each specific product in this product model --><p1:Picture><p1:Angle>front</p1:Angle><p1:Size>small</p1:Size><p1:ProductPhotoID>87</p1:ProductPhotoID></p1:Picture><!-- add any tags in <specifications> --><p1:Specifications> These are the product specifications.\r\n                   <Material>Aluminum</Material><Color>Available in all colors except metallic.</Color><ProductLine>Touring bike</ProductLine><Style>Men's</Style><FrameMaterial>Aluminium alloy</FrameMaterial><RiderExperience>Intermediate to Advanced riders</RiderExperience></p1:Specifications></p1:ProductDescription>",
         "aa10d9e6-e33f-4da8-ace1-992fcd6bb171",
         "2006-11-20T09:56:38.273Z"
        ],
        [
         36,
         "Touring-3000",
         null,
         "f5a6ec78-4451-45db-955f-db197de8b059",
         "2006-11-20T09:56:38.273Z"
        ],
        [
         37,
         "Women's Mountain Shorts",
         null,
         "a08dd61a-6155-4051-9a11-223232ea51cd",
         "2007-06-01T00:00:00Z"
        ],
        [
         38,
         "Women's Tights",
         null,
         "a96ff80d-d52a-432f-9701-731bef16efcc",
         "2006-06-01T00:00:00Z"
        ],
        [
         39,
         "Mountain-400",
         null,
         "37d261a7-00cf-4880-ac1a-533b6b4365b0",
         "2005-06-01T00:00:00Z"
        ],
        [
         40,
         "Road-550",
         null,
         "30450264-4ab8-45e0-8bb5-4d407ea2950a",
         "2006-06-01T00:00:00Z"
        ],
        [
         41,
         "Road-350",
         null,
         "d71bd21c-239e-4c2b-98a3-101962d6b2d3",
         "2006-11-20T09:56:38.273Z"
        ],
        [
         42,
         "LL Mountain Front Wheel",
         null,
         "aa977b32-acd8-4c53-a560-88a02ac1954d",
         "2006-11-20T09:56:38.273Z"
        ],
        [
         43,
         "Touring Rear Wheel",
         null,
         "e878fcaa-61cc-4014-988a-51f52643f7aa",
         "2009-05-16T16:34:28.997Z"
        ],
        [
         44,
         "Touring Front Wheel",
         null,
         "6da78798-3793-4b8e-829e-dba9d140b1d4",
         "2009-05-16T16:34:28.997Z"
        ],
        [
         45,
         "ML Mountain Front Wheel",
         null,
         "c3ff3f93-60a8-4957-b076-b7d0984ee70f",
         "2006-06-01T00:00:00Z"
        ],
        [
         46,
         "HL Mountain Front Wheel",
         null,
         "cca597fb-195f-4ec5-bf5c-15b98d176f4c",
         "2006-06-01T00:00:00Z"
        ],
        [
         47,
         "LL Touring Handlebars",
         null,
         "84138622-1ea6-489f-9c98-6e3924cfbac0",
         "2009-05-16T16:34:29.01Z"
        ],
        [
         48,
         "HL Touring Handlebars",
         null,
         "9da82e49-80ad-4918-9a54-31f4b0c8eabb",
         "2009-05-16T16:34:29.027Z"
        ],
        [
         49,
         "LL Road Front Wheel",
         null,
         "90f759c1-2073-4d9f-854b-c6b6f3bf9162",
         "2006-06-01T00:00:00Z"
        ],
        [
         50,
         "ML Road Front Wheel",
         null,
         "980c8cd0-4903-41f2-9ffc-773c7fe4c254",
         "2006-06-01T00:00:00Z"
        ],
        [
         51,
         "HL Road Front Wheel",
         null,
         "02a562e2-4dfa-4778-bbac-bbddcecf99b0",
         "2006-06-01T00:00:00Z"
        ],
        [
         52,
         "LL Mountain Handlebars",
         null,
         "699c2ac5-5406-46d2-863d-dcfb23fc7943",
         "2006-06-01T00:00:00Z"
        ],
        [
         53,
         "Touring Pedal",
         null,
         "b98a3207-56fc-405c-a040-3c7a90cc7890",
         "2009-05-16T16:34:29.027Z"
        ],
        [
         54,
         "ML Mountain Handlebars",
         null,
         "c9fcc804-2cd7-4b8a-b186-9c409cc19df9",
         "2006-06-01T00:00:00Z"
        ],
        [
         55,
         "HL Mountain Handlebars",
         null,
         "782c991b-a660-4561-a3f4-9bbd74259747",
         "2006-06-01T00:00:00Z"
        ],
        [
         56,
         "LL Road Handlebars",
         null,
         "a7e65199-84a8-437e-ad55-360c1df1d788",
         "2006-06-01T00:00:00Z"
        ],
        [
         57,
         "ML Road Handlebars",
         null,
         "02200aa0-c369-4d77-a67c-75973efda81b",
         "2006-06-01T00:00:00Z"
        ],
        [
         58,
         "HL Road Handlebars",
         null,
         "2489ddc5-1c89-4dec-af22-b0112ccec467",
         "2006-06-01T00:00:00Z"
        ],
        [
         59,
         "LL Headset",
         null,
         "39afbba9-0f6c-44ee-b5e1-32fa93f897e6",
         "2006-06-01T00:00:00Z"
        ],
        [
         60,
         "ML Headset",
         null,
         "6ba9f3b6-e08b-4ac2-a725-b41114c2a283",
         "2006-06-01T00:00:00Z"
        ],
        [
         61,
         "HL Headset",
         null,
         "e196d02e-9bf6-4c67-b772-ed9f86ccf44c",
         "2006-06-01T00:00:00Z"
        ],
        [
         62,
         "LL Mountain Pedal",
         null,
         "8123f7e2-a5f4-4047-b69d-e74313dfebce",
         "2007-06-01T00:00:00Z"
        ],
        [
         63,
         "ML Mountain Pedal",
         null,
         "be9cdc56-f4ab-40f1-b338-2e08e0627abd",
         "2007-06-01T00:00:00Z"
        ],
        [
         64,
         "HL Mountain Pedal",
         null,
         "8da73708-8dae-44ae-ac6c-6e37022c1ffe",
         "2007-06-01T00:00:00Z"
        ],
        [
         65,
         "ML Touring Seat/Saddle",
         null,
         "63a2199f-f5b5-49bd-bcfc-bec1d1d16d8b",
         "2007-06-01T00:00:00Z"
        ],
        [
         66,
         "LL Touring Seat/Saddle",
         null,
         "4a17c43a-1a55-41bb-bc97-612f47cedeb3",
         "2009-05-16T16:34:29.043Z"
        ],
        [
         67,
         "HL Touring Seat/Saddle",
         null,
         "059a2000-7549-4b49-8e0c-2de6b2771ef4",
         "2009-05-16T16:34:29.043Z"
        ],
        [
         68,
         "LL Road Pedal",
         null,
         "218b016c-7454-4193-b518-21955c783d72",
         "2007-06-01T00:00:00Z"
        ],
        [
         69,
         "ML Road Pedal",
         null,
         "3cdf61d6-6209-436f-b235-82e8f159208b",
         "2007-06-01T00:00:00Z"
        ],
        [
         70,
         "HL Road Pedal",
         null,
         "35677b42-72ca-4d9e-a966-dd874b83ef45",
         "2007-06-01T00:00:00Z"
        ],
        [
         71,
         "LL Mountain Seat/Saddle 1",
         null,
         "a166af4c-87bb-41aa-8496-d76b26008fb3",
         "2007-06-01T00:00:00Z"
        ],
        [
         72,
         "ML Mountain Seat/Saddle 1",
         null,
         "baa9405b-68ca-4c18-bc9c-1c4acf49bafc",
         "2007-06-01T00:00:00Z"
        ],
        [
         73,
         "HL Mountain Seat/Saddle 1",
         null,
         "bbe4918f-198d-43c7-9f4b-79bc2aa08f2b",
         "2007-06-01T00:00:00Z"
        ],
        [
         74,
         "LL Road Seat/Saddle 2",
         null,
         "24e3e7d4-4053-4035-9d69-f451642f0c1e",
         "2007-06-01T00:00:00Z"
        ],
        [
         75,
         "ML Road Seat/Saddle 1",
         null,
         "394ed69c-2cc4-4a85-9080-8534112b66fe",
         "2007-06-01T00:00:00Z"
        ],
        [
         76,
         "HL Road Seat/Saddle 1",
         null,
         "b83ab7ae-ba3f-40df-8296-361915a3a60c",
         "2007-06-01T00:00:00Z"
        ],
        [
         77,
         "ML Road Rear Wheel",
         null,
         "15702f98-bd92-4fe8-86bc-52f5fd049d3d",
         "2006-06-01T00:00:00Z"
        ],
        [
         78,
         "HL Road Rear Wheel",
         null,
         "438cbcfa-05ff-4a29-ad95-ecf41dcb83d5",
         "2006-06-01T00:00:00Z"
        ],
        [
         79,
         "LL Mountain Seat/Saddle 2",
         null,
         "8bbeb399-5a87-4e40-9f52-462fb54f2183",
         "2007-06-01T00:00:00Z"
        ],
        [
         80,
         "ML Mountain Seat/Saddle 2",
         null,
         "5cefbb6e-3b7e-414f-ac1b-8f6df741fb21",
         "2007-06-01T00:00:00Z"
        ],
        [
         81,
         "HL Mountain Seat/Saddle 2",
         null,
         "98726f80-e9b9-4141-9cf5-bd2ef07dce25",
         "2007-06-01T00:00:00Z"
        ],
        [
         82,
         "LL Road Seat/Saddle 1",
         null,
         "00ce9171-8944-4d49-ba37-485c1d122f5c",
         "2007-06-01T00:00:00Z"
        ],
        [
         83,
         "ML Road Seat/Saddle 2",
         null,
         "feeb8440-446e-4df8-9482-d529c4fc5e8f",
         "2007-06-01T00:00:00Z"
        ],
        [
         84,
         "HL Road Seat/Saddle 2",
         null,
         "0d3a6ad7-6891-4de9-b14f-e1a841eb220c",
         "2007-06-01T00:00:00Z"
        ],
        [
         85,
         "LL Mountain Tire",
         null,
         "e3cdc5dd-27c3-4891-9d5e-0d46d1b8457f",
         "2007-06-01T00:00:00Z"
        ],
        [
         86,
         "ML Mountain Tire",
         null,
         "0434f63a-a361-4d0b-a9fc-8ac2a866ce85",
         "2007-06-01T00:00:00Z"
        ],
        [
         87,
         "HL Mountain Tire",
         null,
         "ce1b1064-6679-4212-8f56-2b2617ec56a5",
         "2007-06-01T00:00:00Z"
        ],
        [
         88,
         "LL Road Tire",
         null,
         "e7b00dff-8136-4947-b503-994584cc89e7",
         "2007-06-01T00:00:00Z"
        ],
        [
         89,
         "ML Road Tire",
         null,
         "d566eb0f-6945-43d8-bc40-bb3d2f4ef7ed",
         "2007-06-01T00:00:00Z"
        ],
        [
         90,
         "HL Road Tire",
         null,
         "a4b205df-955a-494e-8428-1898aea76f24",
         "2007-06-01T00:00:00Z"
        ],
        [
         91,
         "Touring Tire",
         null,
         "3bcc63d6-9340-4b93-b5f2-73fa90758bf5",
         "2007-06-01T00:00:00Z"
        ],
        [
         92,
         "Mountain Tire Tube",
         null,
         "8cfbe7f2-eec3-4ba6-8187-c8a3614f1f0b",
         "2007-06-01T00:00:00Z"
        ],
        [
         93,
         "Road Tire Tube",
         null,
         "2771d2d2-2e35-4c12-966e-ce9070df6d53",
         "2007-06-01T00:00:00Z"
        ],
        [
         94,
         "Touring Tire Tube",
         null,
         "deeea9bc-3c8c-4e73-b6b0-64c81a5d99e3",
         "2007-06-01T00:00:00Z"
        ],
        [
         95,
         "LL Bottom Bracket",
         null,
         "217e7475-d3f4-46fa-836a-d9e53103e71b",
         "2007-06-01T00:00:00Z"
        ],
        [
         96,
         "ML Bottom Bracket",
         null,
         "09caa74e-f47b-4fca-b206-9d3e46df9751",
         "2007-06-01T00:00:00Z"
        ],
        [
         97,
         "HL Bottom Bracket",
         null,
         "816360e1-3dee-4568-bf2f-9828243d887b",
         "2007-06-01T00:00:00Z"
        ],
        [
         98,
         "Chain",
         null,
         "aca920b2-d0f9-49f3-b879-573202b08c2f",
         "2007-06-01T00:00:00Z"
        ],
        [
         99,
         "LL Crankset",
         null,
         "5b59f032-9b73-4d90-b252-eafd6a871ff1",
         "2007-06-01T00:00:00Z"
        ],
        [
         100,
         "ML Crankset",
         null,
         "68c6cb29-d94a-40c5-aaad-90aa6e7c5ea1",
         "2007-06-01T00:00:00Z"
        ],
        [
         101,
         "HL Crankset",
         null,
         "809668a3-d492-41fb-a196-cfe092a12aa2",
         "2007-06-01T00:00:00Z"
        ],
        [
         102,
         "Front Brakes",
         null,
         "1099a23a-c9ed-41b1-8cc1-e2c1c54a10c8",
         "2007-06-01T00:00:00Z"
        ],
        [
         103,
         "Front Derailleur",
         null,
         "10e0c8fd-ca13-437b-8e22-51853ae160a7",
         "2007-06-01T00:00:00Z"
        ],
        [
         104,
         "LL Fork",
         null,
         "0481d7e1-4970-4efa-a560-020f6579918d",
         "2006-06-01T00:00:00Z"
        ],
        [
         105,
         "ML Fork",
         null,
         "5f115aa4-0553-4478-84b3-5dcf3abe0d08",
         "2006-06-01T00:00:00Z"
        ],
        [
         106,
         "HL Fork",
         null,
         "7706a8fd-9513-40bc-95e8-301b55b67db2",
         "2006-06-01T00:00:00Z"
        ],
        [
         107,
         "Hydration Pack",
         null,
         "cfeef30f-f059-4447-92a8-47001e69f3db",
         "2007-06-01T00:00:00Z"
        ],
        [
         108,
         "Taillight",
         null,
         "dba643d4-4cf2-4507-b947-e817d8c5792b",
         "2006-06-01T00:00:00Z"
        ],
        [
         109,
         "Headlights - Dual-Beam",
         null,
         "7b17ebf1-cb73-4934-9689-1dc26cf22d9c",
         "2006-06-01T00:00:00Z"
        ],
        [
         110,
         "Headlights - Weatherproof",
         null,
         "1fadb88f-af88-4e94-bb1e-6158c48e6b40",
         "2006-06-01T00:00:00Z"
        ],
        [
         111,
         "Water Bottle",
         null,
         "3688268a-260c-48bf-bf71-fff350d4d3d5",
         "2007-06-01T00:00:00Z"
        ],
        [
         112,
         "Mountain Bottle Cage",
         null,
         "2194e65b-9c13-46e1-a655-3ebff8a96719",
         "2007-06-01T00:00:00Z"
        ],
        [
         113,
         "Road Bottle Cage",
         null,
         "9416c2dd-55d8-469d-8edf-ef447c511897",
         "2007-06-01T00:00:00Z"
        ],
        [
         114,
         "Patch kit",
         null,
         "7c738101-c01e-45a2-a0e0-b28aeba1dc40",
         "2007-06-01T00:00:00Z"
        ],
        [
         115,
         "Cable Lock",
         null,
         "e7e17f11-a7fd-4c3c-b701-68f0ae26143e",
         "2006-06-01T00:00:00Z"
        ],
        [
         116,
         "Minipump",
         null,
         "90cef1a7-d817-403e-814c-40e305eeefef",
         "2006-06-01T00:00:00Z"
        ],
        [
         117,
         "Mountain Pump",
         null,
         "b35598f6-b413-4138-8081-5dc7d4c64b64",
         "2006-06-01T00:00:00Z"
        ],
        [
         118,
         "Hitch Rack - 4-Bike",
         null,
         "f570e0d1-e978-4ff2-b5b1-08f01ab60219",
         "2007-06-01T00:00:00Z"
        ],
        [
         119,
         "Bike Wash",
         null,
         "90b1b93d-ebc8-44a2-ac08-cdd1d20ca39c",
         "2007-06-01T00:00:00Z"
        ],
        [
         120,
         "Touring-Panniers",
         null,
         "f06999a1-3aa7-4e85-b8cb-049eb2c391fa",
         "2006-06-01T00:00:00Z"
        ],
        [
         121,
         "Fender Set - Mountain",
         null,
         "c88d1136-a8bb-46bb-94aa-8c1854f813cc",
         "2007-06-01T00:00:00Z"
        ],
        [
         122,
         "All-Purpose Bike Stand",
         null,
         "6eab8607-d927-40e1-af30-d8a2a953050c",
         "2007-06-01T00:00:00Z"
        ],
        [
         123,
         "LL Mountain Rear Wheel",
         null,
         "29521f66-2926-471f-867b-668b0b9ec2b0",
         "2006-06-01T00:00:00Z"
        ],
        [
         124,
         "ML Mountain Rear Wheel",
         null,
         "d968d774-778e-4399-a3c5-375176418229",
         "2006-06-01T00:00:00Z"
        ],
        [
         125,
         "HL Mountain Rear Wheel",
         null,
         "95450545-adf7-48f3-899e-964de8920dc6",
         "2006-06-01T00:00:00Z"
        ],
        [
         126,
         "LL Road Rear Wheel",
         null,
         "95946bd4-c6d9-4344-8066-317d8957ea21",
         "2006-06-01T00:00:00Z"
        ],
        [
         127,
         "Rear Derailleur",
         null,
         "f9327e5d-f8b6-40c5-bfa9-63f886bdfc24",
         "2007-06-01T00:00:00Z"
        ],
        [
         128,
         "Rear Brakes",
         null,
         "71d47afd-da3a-43f1-83ad-69c71f96ef33",
         "2007-06-01T00:00:00Z"
        ]
       ],
       "datasetInfos": [],
       "dbfsResultPath": null,
       "isJsonSchema": true,
       "metadata": {},
       "overflow": false,
       "plotOptions": {
        "customPlotOptions": {},
        "displayType": "table",
        "pivotAggregation": null,
        "pivotColumns": null,
        "xColumns": null,
        "yColumns": null
       },
       "removedWidgets": [],
       "schema": [
        {
         "metadata": "{}",
         "name": "ProductModelID",
         "type": "\"integer\""
        },
        {
         "metadata": "{}",
         "name": "Name",
         "type": "\"string\""
        },
        {
         "metadata": "{}",
         "name": "CatalogDescription",
         "type": "\"string\""
        },
        {
         "metadata": "{}",
         "name": "rowguid",
         "type": "\"string\""
        },
        {
         "metadata": "{}",
         "name": "ModifiedDate",
         "type": "\"timestamp\""
        }
       ],
       "type": "table"
      }
     },
     "output_type": "display_data"
    }
   ],
   "source": [
    "display(df)"
   ]
  },
  {
   "cell_type": "code",
   "execution_count": 0,
   "metadata": {
    "application/vnd.databricks.v1+cell": {
     "cellMetadata": {
      "byteLimit": 2048000,
      "rowLimit": 10000
     },
     "inputWidgets": {},
     "nuid": "dbfe3f17-24fb-4b0a-b9be-dd9341c05243",
     "showTitle": false,
     "tableResultSettingsMap": {
      "0": {
       "dataGridStateBlob": "{\"version\":1,\"tableState\":{\"columnPinning\":{\"left\":[\"#row_number#\"],\"right\":[]},\"columnSizing\":{\"CatalogDescription\":184},\"columnVisibility\":{}},\"settings\":{\"columns\":{}},\"syncTimestamp\":1753732781319}",
       "filterBlob": null,
       "queryPlanFiltersBlob": null,
       "tableResultIndex": 0
      }
     },
     "title": ""
    }
   },
   "outputs": [
    {
     "output_type": "display_data",
     "data": {
      "text/html": [
       "<style scoped>\n",
       "  .table-result-container {\n",
       "    max-height: 300px;\n",
       "    overflow: auto;\n",
       "  }\n",
       "  table, th, td {\n",
       "    border: 1px solid black;\n",
       "    border-collapse: collapse;\n",
       "  }\n",
       "  th, td {\n",
       "    padding: 5px;\n",
       "  }\n",
       "  th {\n",
       "    text-align: left;\n",
       "  }\n",
       "</style><div class='table-result-container'><table class='table-result'><thead style='background-color: white'><tr><th>ProductModelID</th><th>Name</th><th>CatalogDescription</th><th>rowguid</th><th>ModifiedDate</th></tr></thead><tbody><tr><td>1</td><td>Classic Vest</td><td>null</td><td>29321d47-1e4c-4aac-887c-19634328c25e</td><td>06-01-2007</td></tr><tr><td>2</td><td>Cycling Cap</td><td>null</td><td>474fb654-3c96-4cb9-82df-2152eeffbdb0</td><td>06-01-2005</td></tr><tr><td>3</td><td>Full-Finger Gloves</td><td>null</td><td>a75483fe-3c47-4aa4-93cf-664b51192987</td><td>06-01-2006</td></tr><tr><td>4</td><td>Half-Finger Gloves</td><td>null</td><td>14b56f2a-d4aa-40a4-b9a2-984f165ed702</td><td>06-01-2006</td></tr><tr><td>5</td><td>HL Mountain Frame</td><td>null</td><td>fdd5407b-c2db-49d1-a86b-c13a2e3582a2</td><td>06-01-2005</td></tr><tr><td>6</td><td>HL Road Frame</td><td>null</td><td>4d332ecc-48b3-4e04-b7e7-227f3ac2a7ec</td><td>05-02-2002</td></tr><tr><td>7</td><td>HL Touring Frame</td><td>null</td><td>d60ed2a5-c100-4c54-89a1-531404c4a20f</td><td>05-16-2009</td></tr><tr><td>8</td><td>LL Mountain Frame</td><td>null</td><td>65bf3f6d-bcf2-4db6-8515-fc5c57423037</td><td>11-20-2006</td></tr><tr><td>9</td><td>LL Road Frame</td><td>null</td><td>ddc67a2f-024a-4446-9b54-3c679baba708</td><td>06-01-2005</td></tr><tr><td>10</td><td>LL Touring Frame</td><td>null</td><td>66c63844-2a24-473c-96d5-d3b3fd57d834</td><td>05-16-2009</td></tr><tr><td>11</td><td>Long-Sleeve Logo Jersey</td><td>null</td><td>20efe3f1-a2f8-4dde-b74b-18265f61f863</td><td>06-01-2005</td></tr><tr><td>12</td><td>Men's Bib-Shorts</td><td>null</td><td>219e2f87-26a9-483b-b968-04578e943096</td><td>06-01-2006</td></tr><tr><td>13</td><td>Men's Sports Shorts</td><td>null</td><td>45fe0d77-6645-473c-a116-1232baea8d43</td><td>06-01-2006</td></tr><tr><td>14</td><td>ML Mountain Frame</td><td>null</td><td>0d48c51d-7603-4010-9265-0491805bb010</td><td>06-01-2006</td></tr><tr><td>15</td><td>ML Mountain Frame-W</td><td>null</td><td>aa77697c-6d1c-48f1-845c-3cb089498715</td><td>06-01-2006</td></tr><tr><td>16</td><td>ML Road Frame</td><td>null</td><td>3494e8ff-7daf-4860-abf6-97842048e272</td><td>06-01-2005</td></tr><tr><td>17</td><td>ML Road Frame-W</td><td>null</td><td>ca18ecfd-2023-4fa7-a556-0321153bca34</td><td>06-01-2006</td></tr><tr><td>18</td><td>Mountain Bike Socks</td><td>null</td><td>36b1a76a-dff3-4a55-86f9-65eb1cb18d7b</td><td>06-01-2005</td></tr><tr><td>19</td><td>Mountain-100</td><td><?xml-stylesheet href=\"ProductDescription.xsl\" type=\"text/xsl\"?><p1:ProductDescription xmlns:p1=\"http://schemas.microsoft.com/sqlserver/2004/07/adventure-works/ProductModelDescription\" xmlns:wm=\"http://schemas.microsoft.com/sqlserver/2004/07/adventure-works/ProductModelWarrAndMain\" xmlns:wf=\"http://www.adventure-works.com/schemas/OtherFeatures\" xmlns:html=\"http://www.w3.org/1999/xhtml\" ProductModelID=\"19\" ProductModelName=\"Mountain 100\"><p1:Summary><html:p>Our top-of-the-line competition mountain bike.\r\n",
       " \t\t\t\tPerformance-enhancing options include the innovative HL Frame,\r\n",
       "\t\t\t\tsuper-smooth front suspension, and traction for all terrain.\r\n",
       "                        </html:p></p1:Summary><p1:Manufacturer><p1:Name>AdventureWorks</p1:Name><p1:Copyright>2002</p1:Copyright><p1:ProductURL>HTTP://www.Adventure-works.com</p1:ProductURL></p1:Manufacturer><p1:Features>These are the product highlights.\r\n",
       "                 <wm:Warranty><wm:WarrantyPeriod>3 years</wm:WarrantyPeriod><wm:Description>parts and labor</wm:Description></wm:Warranty><wm:Maintenance><wm:NoOfYears>10 years</wm:NoOfYears><wm:Description>maintenance contract available through your dealer or any AdventureWorks retail store.</wm:Description></wm:Maintenance><wf:wheel>High performance wheels.</wf:wheel><wf:saddle><html:i>Anatomic design</html:i> and made from durable leather for a full-day of riding in comfort.</wf:saddle><wf:pedal><html:b>Top-of-the-line</html:b> clipless pedals with adjustable tension.</wf:pedal><wf:BikeFrame>Each frame is hand-crafted in our Bothell facility to the optimum diameter\r\n",
       "\t\t\t\tand wall-thickness required of a premium mountain frame.\r\n",
       "\t\t\t\tThe heat-treated welded aluminum frame has a larger diameter tube that absorbs the bumps.</wf:BikeFrame><wf:crankset> Triple crankset; alumunim crank arm; flawless shifting. </wf:crankset></p1:Features><!-- add one or more of these elements... one for each specific product in this product model --><p1:Picture><p1:Angle>front</p1:Angle><p1:Size>small</p1:Size><p1:ProductPhotoID>118</p1:ProductPhotoID></p1:Picture><!-- add any tags in <specifications> --><p1:Specifications> These are the product specifications.\r\n",
       "                   <Material>Almuminum Alloy</Material><Color>Available in most colors</Color><ProductLine>Mountain bike</ProductLine><Style>Unisex</Style><RiderExperience>Advanced to Professional riders</RiderExperience></p1:Specifications></p1:ProductDescription></td><td>fca0665b-b956-489a-a5ec-6f0b4aa14d02</td><td>06-01-2005</td></tr><tr><td>20</td><td>Mountain-200</td><td>null</td><td>3b78edff-2aa9-4ac1-8c3d-94090b5f53a9</td><td>06-01-2006</td></tr><tr><td>21</td><td>Mountain-300</td><td>null</td><td>ecddd0d7-2db2-464d-b2da-89bffc6276aa</td><td>06-01-2006</td></tr><tr><td>22</td><td>Mountain-400-W</td><td>null</td><td>6d2fcce4-ffce-4662-a3f8-5d18f0eedcd8</td><td>06-01-2007</td></tr><tr><td>23</td><td>Mountain-500</td><td><?xml-stylesheet href=\"ProductDescription.xsl\" type=\"text/xsl\"?><p1:ProductDescription xmlns:p1=\"http://schemas.microsoft.com/sqlserver/2004/07/adventure-works/ProductModelDescription\" xmlns:wm=\"http://schemas.microsoft.com/sqlserver/2004/07/adventure-works/ProductModelWarrAndMain\" xmlns:wf=\"http://www.adventure-works.com/schemas/OtherFeatures\" xmlns:html=\"http://www.w3.org/1999/xhtml\" ProductModelID=\"23\" ProductModelName=\"Mountain-500\"><p1:Summary><html:p>Suitable for any type of riding, on or off-road.\r\n",
       "\t\t\tFits any budget. Smooth-shifting with a comfortable ride.\r\n",
       "                        </html:p></p1:Summary><p1:Manufacturer><p1:Name>AdventureWorks</p1:Name><p1:Copyright>2002</p1:Copyright><p1:ProductURL>HTTP://www.Adventure-works.com</p1:ProductURL></p1:Manufacturer><p1:Features>Product highlights include:\r\n",
       "                 <wm:Warranty><wm:WarrantyPeriod>1 year</wm:WarrantyPeriod><wm:Description>parts and labor</wm:Description></wm:Warranty><wm:Maintenance><wm:NoOfYears>3 years</wm:NoOfYears><wm:Description>maintenance contact available through dealer</wm:Description></wm:Maintenance><wf:wheel>Stable, durable wheels suitable for novice riders.</wf:wheel><wf:saddle>Made from synthetic leather and features gel padding for increased comfort.</wf:saddle><wf:pedal><html:b>Expanded platform</html:b> so you can ride in any shoes; great for all-around riding.</wf:pedal><wf:crankset> Super rigid spindle. </wf:crankset><wf:BikeFrame>Our best value frame utilizing the same, ground-breaking technology as the ML aluminum frame.</wf:BikeFrame></p1:Features><!-- add one or more of these elements... one for each specific product in this product model --><p1:Picture><p1:Angle>front</p1:Angle><p1:Size>small</p1:Size><p1:ProductPhotoID>1</p1:ProductPhotoID></p1:Picture><!-- add any tags in <specifications> --><p1:Specifications> These are the product specifications.\r\n",
       "                   <Height>Varies</Height> Centimeters.\r\n",
       "                   <Material>Aluminum Alloy</Material><Color>Available in all colors.</Color><ProductLine>Mountain bike</ProductLine><Style>Unisex</Style><RiderExperience>Novice to Intermediate riders</RiderExperience></p1:Specifications></p1:ProductDescription></td><td>866dbad3-5999-4329-beac-d826d959d9a1</td><td>11-20-2006</td></tr><tr><td>24</td><td>Racing Socks</td><td>null</td><td>bd8ba6f8-7e16-4fa3-b3b3-2036dd4a2ae0</td><td>06-01-2007</td></tr><tr><td>25</td><td>Road-150</td><td><?xml-stylesheet href=\"ProductDescription.xsl\" type=\"text/xsl\"?><p1:ProductDescription xmlns:p1=\"http://schemas.microsoft.com/sqlserver/2004/07/adventure-works/ProductModelDescription\" xmlns:wm=\"http://schemas.microsoft.com/sqlserver/2004/07/adventure-works/ProductModelWarrAndMain\" xmlns:wf=\"http://www.adventure-works.com/schemas/OtherFeatures\" xmlns:html=\"http://www.w3.org/1999/xhtml\" ProductModelID=\"25\" ProductModelName=\"Road-150\"><p1:Summary><html:p>This bike is ridden by race winners. Developed with the\r\n",
       "\t\t\tAdventure Works Cycles professional race team, it has a extremely light\r\n",
       "\t\t\theat-treated aluminum frame, and steering that allows precision control.\r\n",
       "                        </html:p></p1:Summary><p1:Manufacturer><p1:Name>AdventureWorks</p1:Name><p1:Copyright>2002</p1:Copyright><p1:ProductURL>HTTP://www.Adventure-works.com</p1:ProductURL></p1:Manufacturer><p1:Features>These are the product highlights.\r\n",
       "                 <wm:Warranty><wm:WarrantyPeriod>4 years</wm:WarrantyPeriod><wm:Description>parts and labor</wm:Description></wm:Warranty><wm:Maintenance><wm:NoOfYears>7 years</wm:NoOfYears><wm:Description>maintenance contact available through dealer or any Adventure Works Cycles retail store.</wm:Description></wm:Maintenance><wf:handlebar>Designed for racers; high-end anatomically shaped bar from aluminum alloy.</wf:handlebar><wf:wheel>Strong wheels with double-walled rims.</wf:wheel><wf:saddle><html:i>Lightweight </html:i> kevlar racing saddle.</wf:saddle><wf:pedal><html:b>Top-of-the-line</html:b> clipless pedals with adjustable tension.</wf:pedal><wf:BikeFrame><html:i>Our lightest and best quality </html:i> aluminum frame made from the newest alloy;\r\n",
       "\t\t\tit is welded and heat-treated for strength.\r\n",
       "\t\t\tOur innovative design results in maximum comfort and performance.</wf:BikeFrame></p1:Features><!-- add one or more of these elements... one for each specific product in this product model --><p1:Picture><p1:Angle>front</p1:Angle><p1:Size>small</p1:Size><p1:ProductPhotoID>126</p1:ProductPhotoID></p1:Picture><!-- add any tags in <specifications> --><p1:Specifications> These are the product specifications.\r\n",
       "                   <Material>Aluminum</Material><Color>Available in all colors.</Color><ProductLine>Road bike</ProductLine><Style>Unisex</Style><RiderExperience>Intermediate to Professional riders</RiderExperience></p1:Specifications></p1:ProductDescription></td><td>94ffb702-0cbc-4e3f-b840-c51f0d11c8f6</td><td>06-01-2005</td></tr><tr><td>26</td><td>Road-250</td><td>null</td><td>3770c5e3-8dc9-43c7-b735-7aff21645d96</td><td>06-01-2006</td></tr><tr><td>27</td><td>Road-350-W</td><td>null</td><td>dfe49035-7720-4ff4-b28b-16250ee46259</td><td>06-01-2007</td></tr><tr><td>28</td><td>Road-450</td><td><?xml-stylesheet href=\"ProductDescription.xsl\" type=\"text/xsl\"?><p1:ProductDescription xmlns:p1=\"http://schemas.microsoft.com/sqlserver/2004/07/adventure-works/ProductModelDescription\" xmlns:wm=\"http://schemas.microsoft.com/sqlserver/2004/07/adventure-works/ProductModelWarrAndMain\" xmlns:wf=\"http://www.adventure-works.com/schemas/OtherFeatures\" xmlns:html=\"http://www.w3.org/1999/xhtml\" ProductModelID=\"28\" ProductModelName=\"Road-450\"><p1:Summary><html:p>A true multi-sport bike that offers streamlined riding and a revolutionary design.\r\n",
       "\t\t\t       Aerodynamic design lets you ride with the pros, and the gearing will conquer hilly roads.\r\n",
       "                        </html:p></p1:Summary><p1:Manufacturer><p1:Name>AdventureWorks</p1:Name><p1:Copyright>2002</p1:Copyright><p1:ProductURL>HTTP://www.Adventure-works.com</p1:ProductURL></p1:Manufacturer><p1:Features>These are the product highlights.\r\n",
       "                 <wm:Warranty><wm:WarrantyPeriod>1 year</wm:WarrantyPeriod><wm:Description>parts and labor</wm:Description></wm:Warranty><wm:Maintenance><wm:NoOfYears>5 years</wm:NoOfYears><wm:Description>maintenance contact available through dealer</wm:Description></wm:Maintenance><wf:handlebar><html:i>Incredibly strong</html:i> professional grade handlebar.</wf:handlebar><wf:wheel>Aluminum alloy rim with stainless steel spokes; built for speed on our high quality rubber tires.</wf:wheel><wf:saddle><html:i>Comfortable</html:i> saddle with bump absorping rubber bumpers.</wf:saddle><wf:pedal><html:b>Top-of-the-line</html:b> clipless pedals with adjustable tension.</wf:pedal><wf:BikeFrame><html:i>aluminum alloy </html:i> frame\r\n",
       "                     and features a lightweight down-tube milled to the perfect diameter for optimal strength.</wf:BikeFrame></p1:Features><!-- add one or more of these elements... one for each specific product in this product model --><p1:Picture><p1:Angle>front</p1:Angle><p1:Size>small</p1:Size><p1:ProductPhotoID>111</p1:ProductPhotoID></p1:Picture><!-- add any tags in <specifications> --><p1:Specifications> These are the product specifications.\r\n",
       "                   <Height>Varies</Height> Centimeters.\r\n",
       "                   <Material>Aluminum Alloy</Material><Weight>Varies with size </Weight><Color>Available in all colors.</Color><ProductLine>Road bike</ProductLine><Style>Unisex</Style><RiderExperience>Novice to Advanced riders</RiderExperience></p1:Specifications></p1:ProductDescription></td><td>8456bb94-b4dd-4a47-a76b-d0e54ab4285d</td><td>06-01-2005</td></tr><tr><td>29</td><td>Road-550-W</td><td>null</td><td>f85f84f2-9ce0-4ecc-9c29-e78021ffc877</td><td>06-01-2006</td></tr><tr><td>30</td><td>Road-650</td><td>null</td><td>42e1c597-6dd9-4071-b1a5-1dc5cdcbdbca</td><td>06-01-2005</td></tr><tr><td>31</td><td>Road-750</td><td>null</td><td>2bf795f4-2666-4691-af14-d490c7334a8a</td><td>11-20-2006</td></tr><tr><td>32</td><td>Short-Sleeve Classic Jersey</td><td>null</td><td>6beccf2d-eacd-496b-995b-d692567565cd</td><td>06-01-2007</td></tr><tr><td>33</td><td>Sport-100</td><td>null</td><td>47f7c450-d16a-4cea-be6e-2d6c8c8f81ee</td><td>06-01-2005</td></tr><tr><td>34</td><td>Touring-1000</td><td><?xml-stylesheet href=\"ProductDescription.xsl\" type=\"text/xsl\"?><p1:ProductDescription xmlns:p1=\"http://schemas.microsoft.com/sqlserver/2004/07/adventure-works/ProductModelDescription\" xmlns:wm=\"http://schemas.microsoft.com/sqlserver/2004/07/adventure-works/ProductModelWarrAndMain\" xmlns:wf=\"http://www.adventure-works.com/schemas/OtherFeatures\" xmlns:html=\"http://www.w3.org/1999/xhtml\" ProductModelID=\"34\" ProductModelName=\"Touring-1000\"><p1:Summary><html:p>Travel in style and comfort. Designed for maximum comfort and safety.\r\n",
       "\t\t\tWide gear range takes on all hills. High-tech aluminum alloy construction provides durability without added weight.\r\n",
       "                        </html:p></p1:Summary><p1:Manufacturer><p1:Name>AdventureWorks</p1:Name><p1:Copyright>2002</p1:Copyright><p1:ProductURL>HTTP://www.Adventure-works.com</p1:ProductURL></p1:Manufacturer><p1:Features>These are the product highlights.\r\n",
       "                 <wm:Warranty><wm:WarrantyPeriod>1 year</wm:WarrantyPeriod><wm:Description>parts and labor</wm:Description></wm:Warranty><wm:Maintenance><wm:NoOfYears>5 years</wm:NoOfYears><wm:Description>maintenance contact available through dealer</wm:Description></wm:Maintenance><wf:handlebar>A light yet stiff aluminum bar for long distance riding.</wf:handlebar><wf:wheel>Excellent aerodynamic rims guarantee a smooth ride.</wf:wheel><wf:saddle><html:i>Cut-out shell </html:i> for a more comfortable ride.</wf:saddle><wf:pedal>A stable pedal for all-day riding.</wf:pedal><wf:BikeFrame><html:i>aluminum alloy </html:i> frame\r\n",
       "                     and features a lightweight down-tube milled to the perfect diameter for optimal strength.</wf:BikeFrame></p1:Features><!-- add one or more of these elements... one for each specific product in this product model --><p1:Picture><p1:Angle>front</p1:Angle><p1:Size>small</p1:Size><p1:ProductPhotoID>87</p1:ProductPhotoID></p1:Picture><!-- add any tags in <specifications> --><p1:Specifications> These are the product specifications.\r\n",
       "\r\n",
       "                   <Material>Aluminum alloy </Material><Color>Available in most colors.</Color><ProductLine>Touring bike</ProductLine><Style>Unisex</Style><RiderExperience>Novice to Advanced riders</RiderExperience></p1:Specifications></p1:ProductDescription></td><td>52e7f2c1-dbff-4518-927d-c7d46f9ed32e</td><td>11-20-2006</td></tr><tr><td>35</td><td>Touring-2000</td><td><?xml-stylesheet href=\"ProductDescription.xsl\" type=\"text/xsl\"?><p1:ProductDescription xmlns:p1=\"http://schemas.microsoft.com/sqlserver/2004/07/adventure-works/ProductModelDescription\" xmlns:wm=\"http://schemas.microsoft.com/sqlserver/2004/07/adventure-works/ProductModelWarrAndMain\" xmlns:wf=\"http://www.adventure-works.com/schemas/OtherFeatures\" xmlns:html=\"http://www.w3.org/1999/xhtml\" ProductModelID=\"35\" ProductModelName=\"Touring-2000\"><p1:Summary><html:p>The plush custom saddle keeps you riding all day, and there's plenty of space\r\n",
       "\t\t\t to add panniers and bike bags to the newly-redesigned carrier.\r\n",
       "\t\t\t\tThis bike has great stability when fully-loaded.\r\n",
       "                        </html:p></p1:Summary><p1:Manufacturer><p1:Name>AdventureWorks</p1:Name><p1:Copyright>2002</p1:Copyright><p1:ProductURL>HTTP://www.Adventure-works.com</p1:ProductURL></p1:Manufacturer><p1:Features>These are the product highlights.\r\n",
       "                 <wm:Warranty><wm:WarrantyPeriod>1 year</wm:WarrantyPeriod><wm:Description>parts and labor</wm:Description></wm:Warranty><wm:Maintenance><wm:NoOfYears>5 years</wm:NoOfYears><wm:Description>maintenance contact available through dealer</wm:Description></wm:Maintenance><wf:handlebar>A light yet stiff aluminum bar for long distance riding.</wf:handlebar><wf:saddle><html:i>New design </html:i> relieves pressure for long rides.</wf:saddle><wf:pedal><html:b>Top-of-the-line</html:b> clipless pedals with adjustable tension.</wf:pedal><wf:crankset> High-strength crank arm. </wf:crankset><wf:BikeFrame>The aluminum frame is custom-shaped for both good looks and strength;\r\n",
       "\t\t\t\tit will withstand the most rigorous challenges of daily riding.</wf:BikeFrame></p1:Features><!-- add one or more of these elements... one for each specific product in this product model --><p1:Picture><p1:Angle>front</p1:Angle><p1:Size>small</p1:Size><p1:ProductPhotoID>87</p1:ProductPhotoID></p1:Picture><!-- add any tags in <specifications> --><p1:Specifications> These are the product specifications.\r\n",
       "                   <Material>Aluminum</Material><Color>Available in all colors except metallic.</Color><ProductLine>Touring bike</ProductLine><Style>Men's</Style><FrameMaterial>Aluminium alloy</FrameMaterial><RiderExperience>Intermediate to Advanced riders</RiderExperience></p1:Specifications></p1:ProductDescription></td><td>aa10d9e6-e33f-4da8-ace1-992fcd6bb171</td><td>11-20-2006</td></tr><tr><td>36</td><td>Touring-3000</td><td>null</td><td>f5a6ec78-4451-45db-955f-db197de8b059</td><td>11-20-2006</td></tr><tr><td>37</td><td>Women's Mountain Shorts</td><td>null</td><td>a08dd61a-6155-4051-9a11-223232ea51cd</td><td>06-01-2007</td></tr><tr><td>38</td><td>Women's Tights</td><td>null</td><td>a96ff80d-d52a-432f-9701-731bef16efcc</td><td>06-01-2006</td></tr><tr><td>39</td><td>Mountain-400</td><td>null</td><td>37d261a7-00cf-4880-ac1a-533b6b4365b0</td><td>06-01-2005</td></tr><tr><td>40</td><td>Road-550</td><td>null</td><td>30450264-4ab8-45e0-8bb5-4d407ea2950a</td><td>06-01-2006</td></tr><tr><td>41</td><td>Road-350</td><td>null</td><td>d71bd21c-239e-4c2b-98a3-101962d6b2d3</td><td>11-20-2006</td></tr><tr><td>42</td><td>LL Mountain Front Wheel</td><td>null</td><td>aa977b32-acd8-4c53-a560-88a02ac1954d</td><td>11-20-2006</td></tr><tr><td>43</td><td>Touring Rear Wheel</td><td>null</td><td>e878fcaa-61cc-4014-988a-51f52643f7aa</td><td>05-16-2009</td></tr><tr><td>44</td><td>Touring Front Wheel</td><td>null</td><td>6da78798-3793-4b8e-829e-dba9d140b1d4</td><td>05-16-2009</td></tr><tr><td>45</td><td>ML Mountain Front Wheel</td><td>null</td><td>c3ff3f93-60a8-4957-b076-b7d0984ee70f</td><td>06-01-2006</td></tr><tr><td>46</td><td>HL Mountain Front Wheel</td><td>null</td><td>cca597fb-195f-4ec5-bf5c-15b98d176f4c</td><td>06-01-2006</td></tr><tr><td>47</td><td>LL Touring Handlebars</td><td>null</td><td>84138622-1ea6-489f-9c98-6e3924cfbac0</td><td>05-16-2009</td></tr><tr><td>48</td><td>HL Touring Handlebars</td><td>null</td><td>9da82e49-80ad-4918-9a54-31f4b0c8eabb</td><td>05-16-2009</td></tr><tr><td>49</td><td>LL Road Front Wheel</td><td>null</td><td>90f759c1-2073-4d9f-854b-c6b6f3bf9162</td><td>06-01-2006</td></tr><tr><td>50</td><td>ML Road Front Wheel</td><td>null</td><td>980c8cd0-4903-41f2-9ffc-773c7fe4c254</td><td>06-01-2006</td></tr><tr><td>51</td><td>HL Road Front Wheel</td><td>null</td><td>02a562e2-4dfa-4778-bbac-bbddcecf99b0</td><td>06-01-2006</td></tr><tr><td>52</td><td>LL Mountain Handlebars</td><td>null</td><td>699c2ac5-5406-46d2-863d-dcfb23fc7943</td><td>06-01-2006</td></tr><tr><td>53</td><td>Touring Pedal</td><td>null</td><td>b98a3207-56fc-405c-a040-3c7a90cc7890</td><td>05-16-2009</td></tr><tr><td>54</td><td>ML Mountain Handlebars</td><td>null</td><td>c9fcc804-2cd7-4b8a-b186-9c409cc19df9</td><td>06-01-2006</td></tr><tr><td>55</td><td>HL Mountain Handlebars</td><td>null</td><td>782c991b-a660-4561-a3f4-9bbd74259747</td><td>06-01-2006</td></tr><tr><td>56</td><td>LL Road Handlebars</td><td>null</td><td>a7e65199-84a8-437e-ad55-360c1df1d788</td><td>06-01-2006</td></tr><tr><td>57</td><td>ML Road Handlebars</td><td>null</td><td>02200aa0-c369-4d77-a67c-75973efda81b</td><td>06-01-2006</td></tr><tr><td>58</td><td>HL Road Handlebars</td><td>null</td><td>2489ddc5-1c89-4dec-af22-b0112ccec467</td><td>06-01-2006</td></tr><tr><td>59</td><td>LL Headset</td><td>null</td><td>39afbba9-0f6c-44ee-b5e1-32fa93f897e6</td><td>06-01-2006</td></tr><tr><td>60</td><td>ML Headset</td><td>null</td><td>6ba9f3b6-e08b-4ac2-a725-b41114c2a283</td><td>06-01-2006</td></tr><tr><td>61</td><td>HL Headset</td><td>null</td><td>e196d02e-9bf6-4c67-b772-ed9f86ccf44c</td><td>06-01-2006</td></tr><tr><td>62</td><td>LL Mountain Pedal</td><td>null</td><td>8123f7e2-a5f4-4047-b69d-e74313dfebce</td><td>06-01-2007</td></tr><tr><td>63</td><td>ML Mountain Pedal</td><td>null</td><td>be9cdc56-f4ab-40f1-b338-2e08e0627abd</td><td>06-01-2007</td></tr><tr><td>64</td><td>HL Mountain Pedal</td><td>null</td><td>8da73708-8dae-44ae-ac6c-6e37022c1ffe</td><td>06-01-2007</td></tr><tr><td>65</td><td>ML Touring Seat/Saddle</td><td>null</td><td>63a2199f-f5b5-49bd-bcfc-bec1d1d16d8b</td><td>06-01-2007</td></tr><tr><td>66</td><td>LL Touring Seat/Saddle</td><td>null</td><td>4a17c43a-1a55-41bb-bc97-612f47cedeb3</td><td>05-16-2009</td></tr><tr><td>67</td><td>HL Touring Seat/Saddle</td><td>null</td><td>059a2000-7549-4b49-8e0c-2de6b2771ef4</td><td>05-16-2009</td></tr><tr><td>68</td><td>LL Road Pedal</td><td>null</td><td>218b016c-7454-4193-b518-21955c783d72</td><td>06-01-2007</td></tr><tr><td>69</td><td>ML Road Pedal</td><td>null</td><td>3cdf61d6-6209-436f-b235-82e8f159208b</td><td>06-01-2007</td></tr><tr><td>70</td><td>HL Road Pedal</td><td>null</td><td>35677b42-72ca-4d9e-a966-dd874b83ef45</td><td>06-01-2007</td></tr><tr><td>71</td><td>LL Mountain Seat/Saddle 1</td><td>null</td><td>a166af4c-87bb-41aa-8496-d76b26008fb3</td><td>06-01-2007</td></tr><tr><td>72</td><td>ML Mountain Seat/Saddle 1</td><td>null</td><td>baa9405b-68ca-4c18-bc9c-1c4acf49bafc</td><td>06-01-2007</td></tr><tr><td>73</td><td>HL Mountain Seat/Saddle 1</td><td>null</td><td>bbe4918f-198d-43c7-9f4b-79bc2aa08f2b</td><td>06-01-2007</td></tr><tr><td>74</td><td>LL Road Seat/Saddle 2</td><td>null</td><td>24e3e7d4-4053-4035-9d69-f451642f0c1e</td><td>06-01-2007</td></tr><tr><td>75</td><td>ML Road Seat/Saddle 1</td><td>null</td><td>394ed69c-2cc4-4a85-9080-8534112b66fe</td><td>06-01-2007</td></tr><tr><td>76</td><td>HL Road Seat/Saddle 1</td><td>null</td><td>b83ab7ae-ba3f-40df-8296-361915a3a60c</td><td>06-01-2007</td></tr><tr><td>77</td><td>ML Road Rear Wheel</td><td>null</td><td>15702f98-bd92-4fe8-86bc-52f5fd049d3d</td><td>06-01-2006</td></tr><tr><td>78</td><td>HL Road Rear Wheel</td><td>null</td><td>438cbcfa-05ff-4a29-ad95-ecf41dcb83d5</td><td>06-01-2006</td></tr><tr><td>79</td><td>LL Mountain Seat/Saddle 2</td><td>null</td><td>8bbeb399-5a87-4e40-9f52-462fb54f2183</td><td>06-01-2007</td></tr><tr><td>80</td><td>ML Mountain Seat/Saddle 2</td><td>null</td><td>5cefbb6e-3b7e-414f-ac1b-8f6df741fb21</td><td>06-01-2007</td></tr><tr><td>81</td><td>HL Mountain Seat/Saddle 2</td><td>null</td><td>98726f80-e9b9-4141-9cf5-bd2ef07dce25</td><td>06-01-2007</td></tr><tr><td>82</td><td>LL Road Seat/Saddle 1</td><td>null</td><td>00ce9171-8944-4d49-ba37-485c1d122f5c</td><td>06-01-2007</td></tr><tr><td>83</td><td>ML Road Seat/Saddle 2</td><td>null</td><td>feeb8440-446e-4df8-9482-d529c4fc5e8f</td><td>06-01-2007</td></tr><tr><td>84</td><td>HL Road Seat/Saddle 2</td><td>null</td><td>0d3a6ad7-6891-4de9-b14f-e1a841eb220c</td><td>06-01-2007</td></tr><tr><td>85</td><td>LL Mountain Tire</td><td>null</td><td>e3cdc5dd-27c3-4891-9d5e-0d46d1b8457f</td><td>06-01-2007</td></tr><tr><td>86</td><td>ML Mountain Tire</td><td>null</td><td>0434f63a-a361-4d0b-a9fc-8ac2a866ce85</td><td>06-01-2007</td></tr><tr><td>87</td><td>HL Mountain Tire</td><td>null</td><td>ce1b1064-6679-4212-8f56-2b2617ec56a5</td><td>06-01-2007</td></tr><tr><td>88</td><td>LL Road Tire</td><td>null</td><td>e7b00dff-8136-4947-b503-994584cc89e7</td><td>06-01-2007</td></tr><tr><td>89</td><td>ML Road Tire</td><td>null</td><td>d566eb0f-6945-43d8-bc40-bb3d2f4ef7ed</td><td>06-01-2007</td></tr><tr><td>90</td><td>HL Road Tire</td><td>null</td><td>a4b205df-955a-494e-8428-1898aea76f24</td><td>06-01-2007</td></tr><tr><td>91</td><td>Touring Tire</td><td>null</td><td>3bcc63d6-9340-4b93-b5f2-73fa90758bf5</td><td>06-01-2007</td></tr><tr><td>92</td><td>Mountain Tire Tube</td><td>null</td><td>8cfbe7f2-eec3-4ba6-8187-c8a3614f1f0b</td><td>06-01-2007</td></tr><tr><td>93</td><td>Road Tire Tube</td><td>null</td><td>2771d2d2-2e35-4c12-966e-ce9070df6d53</td><td>06-01-2007</td></tr><tr><td>94</td><td>Touring Tire Tube</td><td>null</td><td>deeea9bc-3c8c-4e73-b6b0-64c81a5d99e3</td><td>06-01-2007</td></tr><tr><td>95</td><td>LL Bottom Bracket</td><td>null</td><td>217e7475-d3f4-46fa-836a-d9e53103e71b</td><td>06-01-2007</td></tr><tr><td>96</td><td>ML Bottom Bracket</td><td>null</td><td>09caa74e-f47b-4fca-b206-9d3e46df9751</td><td>06-01-2007</td></tr><tr><td>97</td><td>HL Bottom Bracket</td><td>null</td><td>816360e1-3dee-4568-bf2f-9828243d887b</td><td>06-01-2007</td></tr><tr><td>98</td><td>Chain</td><td>null</td><td>aca920b2-d0f9-49f3-b879-573202b08c2f</td><td>06-01-2007</td></tr><tr><td>99</td><td>LL Crankset</td><td>null</td><td>5b59f032-9b73-4d90-b252-eafd6a871ff1</td><td>06-01-2007</td></tr><tr><td>100</td><td>ML Crankset</td><td>null</td><td>68c6cb29-d94a-40c5-aaad-90aa6e7c5ea1</td><td>06-01-2007</td></tr><tr><td>101</td><td>HL Crankset</td><td>null</td><td>809668a3-d492-41fb-a196-cfe092a12aa2</td><td>06-01-2007</td></tr><tr><td>102</td><td>Front Brakes</td><td>null</td><td>1099a23a-c9ed-41b1-8cc1-e2c1c54a10c8</td><td>06-01-2007</td></tr><tr><td>103</td><td>Front Derailleur</td><td>null</td><td>10e0c8fd-ca13-437b-8e22-51853ae160a7</td><td>06-01-2007</td></tr><tr><td>104</td><td>LL Fork</td><td>null</td><td>0481d7e1-4970-4efa-a560-020f6579918d</td><td>06-01-2006</td></tr><tr><td>105</td><td>ML Fork</td><td>null</td><td>5f115aa4-0553-4478-84b3-5dcf3abe0d08</td><td>06-01-2006</td></tr><tr><td>106</td><td>HL Fork</td><td>null</td><td>7706a8fd-9513-40bc-95e8-301b55b67db2</td><td>06-01-2006</td></tr><tr><td>107</td><td>Hydration Pack</td><td>null</td><td>cfeef30f-f059-4447-92a8-47001e69f3db</td><td>06-01-2007</td></tr><tr><td>108</td><td>Taillight</td><td>null</td><td>dba643d4-4cf2-4507-b947-e817d8c5792b</td><td>06-01-2006</td></tr><tr><td>109</td><td>Headlights - Dual-Beam</td><td>null</td><td>7b17ebf1-cb73-4934-9689-1dc26cf22d9c</td><td>06-01-2006</td></tr><tr><td>110</td><td>Headlights - Weatherproof</td><td>null</td><td>1fadb88f-af88-4e94-bb1e-6158c48e6b40</td><td>06-01-2006</td></tr><tr><td>111</td><td>Water Bottle</td><td>null</td><td>3688268a-260c-48bf-bf71-fff350d4d3d5</td><td>06-01-2007</td></tr><tr><td>112</td><td>Mountain Bottle Cage</td><td>null</td><td>2194e65b-9c13-46e1-a655-3ebff8a96719</td><td>06-01-2007</td></tr><tr><td>113</td><td>Road Bottle Cage</td><td>null</td><td>9416c2dd-55d8-469d-8edf-ef447c511897</td><td>06-01-2007</td></tr><tr><td>114</td><td>Patch kit</td><td>null</td><td>7c738101-c01e-45a2-a0e0-b28aeba1dc40</td><td>06-01-2007</td></tr><tr><td>115</td><td>Cable Lock</td><td>null</td><td>e7e17f11-a7fd-4c3c-b701-68f0ae26143e</td><td>06-01-2006</td></tr><tr><td>116</td><td>Minipump</td><td>null</td><td>90cef1a7-d817-403e-814c-40e305eeefef</td><td>06-01-2006</td></tr><tr><td>117</td><td>Mountain Pump</td><td>null</td><td>b35598f6-b413-4138-8081-5dc7d4c64b64</td><td>06-01-2006</td></tr><tr><td>118</td><td>Hitch Rack - 4-Bike</td><td>null</td><td>f570e0d1-e978-4ff2-b5b1-08f01ab60219</td><td>06-01-2007</td></tr><tr><td>119</td><td>Bike Wash</td><td>null</td><td>90b1b93d-ebc8-44a2-ac08-cdd1d20ca39c</td><td>06-01-2007</td></tr><tr><td>120</td><td>Touring-Panniers</td><td>null</td><td>f06999a1-3aa7-4e85-b8cb-049eb2c391fa</td><td>06-01-2006</td></tr><tr><td>121</td><td>Fender Set - Mountain</td><td>null</td><td>c88d1136-a8bb-46bb-94aa-8c1854f813cc</td><td>06-01-2007</td></tr><tr><td>122</td><td>All-Purpose Bike Stand</td><td>null</td><td>6eab8607-d927-40e1-af30-d8a2a953050c</td><td>06-01-2007</td></tr><tr><td>123</td><td>LL Mountain Rear Wheel</td><td>null</td><td>29521f66-2926-471f-867b-668b0b9ec2b0</td><td>06-01-2006</td></tr><tr><td>124</td><td>ML Mountain Rear Wheel</td><td>null</td><td>d968d774-778e-4399-a3c5-375176418229</td><td>06-01-2006</td></tr><tr><td>125</td><td>HL Mountain Rear Wheel</td><td>null</td><td>95450545-adf7-48f3-899e-964de8920dc6</td><td>06-01-2006</td></tr><tr><td>126</td><td>LL Road Rear Wheel</td><td>null</td><td>95946bd4-c6d9-4344-8066-317d8957ea21</td><td>06-01-2006</td></tr><tr><td>127</td><td>Rear Derailleur</td><td>null</td><td>f9327e5d-f8b6-40c5-bfa9-63f886bdfc24</td><td>06-01-2007</td></tr><tr><td>128</td><td>Rear Brakes</td><td>null</td><td>71d47afd-da3a-43f1-83ad-69c71f96ef33</td><td>06-01-2007</td></tr></tbody></table></div>"
      ]
     },
     "metadata": {
      "application/vnd.databricks.v1+output": {
       "addedWidgets": {},
       "aggData": [],
       "aggError": "",
       "aggOverflow": false,
       "aggSchema": [],
       "aggSeriesLimitReached": false,
       "aggType": "",
       "arguments": {},
       "columnCustomDisplayInfos": {},
       "data": [
        [
         1,
         "Classic Vest",
         null,
         "29321d47-1e4c-4aac-887c-19634328c25e",
         "06-01-2007"
        ],
        [
         2,
         "Cycling Cap",
         null,
         "474fb654-3c96-4cb9-82df-2152eeffbdb0",
         "06-01-2005"
        ],
        [
         3,
         "Full-Finger Gloves",
         null,
         "a75483fe-3c47-4aa4-93cf-664b51192987",
         "06-01-2006"
        ],
        [
         4,
         "Half-Finger Gloves",
         null,
         "14b56f2a-d4aa-40a4-b9a2-984f165ed702",
         "06-01-2006"
        ],
        [
         5,
         "HL Mountain Frame",
         null,
         "fdd5407b-c2db-49d1-a86b-c13a2e3582a2",
         "06-01-2005"
        ],
        [
         6,
         "HL Road Frame",
         null,
         "4d332ecc-48b3-4e04-b7e7-227f3ac2a7ec",
         "05-02-2002"
        ],
        [
         7,
         "HL Touring Frame",
         null,
         "d60ed2a5-c100-4c54-89a1-531404c4a20f",
         "05-16-2009"
        ],
        [
         8,
         "LL Mountain Frame",
         null,
         "65bf3f6d-bcf2-4db6-8515-fc5c57423037",
         "11-20-2006"
        ],
        [
         9,
         "LL Road Frame",
         null,
         "ddc67a2f-024a-4446-9b54-3c679baba708",
         "06-01-2005"
        ],
        [
         10,
         "LL Touring Frame",
         null,
         "66c63844-2a24-473c-96d5-d3b3fd57d834",
         "05-16-2009"
        ],
        [
         11,
         "Long-Sleeve Logo Jersey",
         null,
         "20efe3f1-a2f8-4dde-b74b-18265f61f863",
         "06-01-2005"
        ],
        [
         12,
         "Men's Bib-Shorts",
         null,
         "219e2f87-26a9-483b-b968-04578e943096",
         "06-01-2006"
        ],
        [
         13,
         "Men's Sports Shorts",
         null,
         "45fe0d77-6645-473c-a116-1232baea8d43",
         "06-01-2006"
        ],
        [
         14,
         "ML Mountain Frame",
         null,
         "0d48c51d-7603-4010-9265-0491805bb010",
         "06-01-2006"
        ],
        [
         15,
         "ML Mountain Frame-W",
         null,
         "aa77697c-6d1c-48f1-845c-3cb089498715",
         "06-01-2006"
        ],
        [
         16,
         "ML Road Frame",
         null,
         "3494e8ff-7daf-4860-abf6-97842048e272",
         "06-01-2005"
        ],
        [
         17,
         "ML Road Frame-W",
         null,
         "ca18ecfd-2023-4fa7-a556-0321153bca34",
         "06-01-2006"
        ],
        [
         18,
         "Mountain Bike Socks",
         null,
         "36b1a76a-dff3-4a55-86f9-65eb1cb18d7b",
         "06-01-2005"
        ],
        [
         19,
         "Mountain-100",
         "<?xml-stylesheet href=\"ProductDescription.xsl\" type=\"text/xsl\"?><p1:ProductDescription xmlns:p1=\"http://schemas.microsoft.com/sqlserver/2004/07/adventure-works/ProductModelDescription\" xmlns:wm=\"http://schemas.microsoft.com/sqlserver/2004/07/adventure-works/ProductModelWarrAndMain\" xmlns:wf=\"http://www.adventure-works.com/schemas/OtherFeatures\" xmlns:html=\"http://www.w3.org/1999/xhtml\" ProductModelID=\"19\" ProductModelName=\"Mountain 100\"><p1:Summary><html:p>Our top-of-the-line competition mountain bike.\r\n \t\t\t\tPerformance-enhancing options include the innovative HL Frame,\r\n\t\t\t\tsuper-smooth front suspension, and traction for all terrain.\r\n                        </html:p></p1:Summary><p1:Manufacturer><p1:Name>AdventureWorks</p1:Name><p1:Copyright>2002</p1:Copyright><p1:ProductURL>HTTP://www.Adventure-works.com</p1:ProductURL></p1:Manufacturer><p1:Features>These are the product highlights.\r\n                 <wm:Warranty><wm:WarrantyPeriod>3 years</wm:WarrantyPeriod><wm:Description>parts and labor</wm:Description></wm:Warranty><wm:Maintenance><wm:NoOfYears>10 years</wm:NoOfYears><wm:Description>maintenance contract available through your dealer or any AdventureWorks retail store.</wm:Description></wm:Maintenance><wf:wheel>High performance wheels.</wf:wheel><wf:saddle><html:i>Anatomic design</html:i> and made from durable leather for a full-day of riding in comfort.</wf:saddle><wf:pedal><html:b>Top-of-the-line</html:b> clipless pedals with adjustable tension.</wf:pedal><wf:BikeFrame>Each frame is hand-crafted in our Bothell facility to the optimum diameter\r\n\t\t\t\tand wall-thickness required of a premium mountain frame.\r\n\t\t\t\tThe heat-treated welded aluminum frame has a larger diameter tube that absorbs the bumps.</wf:BikeFrame><wf:crankset> Triple crankset; alumunim crank arm; flawless shifting. </wf:crankset></p1:Features><!-- add one or more of these elements... one for each specific product in this product model --><p1:Picture><p1:Angle>front</p1:Angle><p1:Size>small</p1:Size><p1:ProductPhotoID>118</p1:ProductPhotoID></p1:Picture><!-- add any tags in <specifications> --><p1:Specifications> These are the product specifications.\r\n                   <Material>Almuminum Alloy</Material><Color>Available in most colors</Color><ProductLine>Mountain bike</ProductLine><Style>Unisex</Style><RiderExperience>Advanced to Professional riders</RiderExperience></p1:Specifications></p1:ProductDescription>",
         "fca0665b-b956-489a-a5ec-6f0b4aa14d02",
         "06-01-2005"
        ],
        [
         20,
         "Mountain-200",
         null,
         "3b78edff-2aa9-4ac1-8c3d-94090b5f53a9",
         "06-01-2006"
        ],
        [
         21,
         "Mountain-300",
         null,
         "ecddd0d7-2db2-464d-b2da-89bffc6276aa",
         "06-01-2006"
        ],
        [
         22,
         "Mountain-400-W",
         null,
         "6d2fcce4-ffce-4662-a3f8-5d18f0eedcd8",
         "06-01-2007"
        ],
        [
         23,
         "Mountain-500",
         "<?xml-stylesheet href=\"ProductDescription.xsl\" type=\"text/xsl\"?><p1:ProductDescription xmlns:p1=\"http://schemas.microsoft.com/sqlserver/2004/07/adventure-works/ProductModelDescription\" xmlns:wm=\"http://schemas.microsoft.com/sqlserver/2004/07/adventure-works/ProductModelWarrAndMain\" xmlns:wf=\"http://www.adventure-works.com/schemas/OtherFeatures\" xmlns:html=\"http://www.w3.org/1999/xhtml\" ProductModelID=\"23\" ProductModelName=\"Mountain-500\"><p1:Summary><html:p>Suitable for any type of riding, on or off-road.\r\n\t\t\tFits any budget. Smooth-shifting with a comfortable ride.\r\n                        </html:p></p1:Summary><p1:Manufacturer><p1:Name>AdventureWorks</p1:Name><p1:Copyright>2002</p1:Copyright><p1:ProductURL>HTTP://www.Adventure-works.com</p1:ProductURL></p1:Manufacturer><p1:Features>Product highlights include:\r\n                 <wm:Warranty><wm:WarrantyPeriod>1 year</wm:WarrantyPeriod><wm:Description>parts and labor</wm:Description></wm:Warranty><wm:Maintenance><wm:NoOfYears>3 years</wm:NoOfYears><wm:Description>maintenance contact available through dealer</wm:Description></wm:Maintenance><wf:wheel>Stable, durable wheels suitable for novice riders.</wf:wheel><wf:saddle>Made from synthetic leather and features gel padding for increased comfort.</wf:saddle><wf:pedal><html:b>Expanded platform</html:b> so you can ride in any shoes; great for all-around riding.</wf:pedal><wf:crankset> Super rigid spindle. </wf:crankset><wf:BikeFrame>Our best value frame utilizing the same, ground-breaking technology as the ML aluminum frame.</wf:BikeFrame></p1:Features><!-- add one or more of these elements... one for each specific product in this product model --><p1:Picture><p1:Angle>front</p1:Angle><p1:Size>small</p1:Size><p1:ProductPhotoID>1</p1:ProductPhotoID></p1:Picture><!-- add any tags in <specifications> --><p1:Specifications> These are the product specifications.\r\n                   <Height>Varies</Height> Centimeters.\r\n                   <Material>Aluminum Alloy</Material><Color>Available in all colors.</Color><ProductLine>Mountain bike</ProductLine><Style>Unisex</Style><RiderExperience>Novice to Intermediate riders</RiderExperience></p1:Specifications></p1:ProductDescription>",
         "866dbad3-5999-4329-beac-d826d959d9a1",
         "11-20-2006"
        ],
        [
         24,
         "Racing Socks",
         null,
         "bd8ba6f8-7e16-4fa3-b3b3-2036dd4a2ae0",
         "06-01-2007"
        ],
        [
         25,
         "Road-150",
         "<?xml-stylesheet href=\"ProductDescription.xsl\" type=\"text/xsl\"?><p1:ProductDescription xmlns:p1=\"http://schemas.microsoft.com/sqlserver/2004/07/adventure-works/ProductModelDescription\" xmlns:wm=\"http://schemas.microsoft.com/sqlserver/2004/07/adventure-works/ProductModelWarrAndMain\" xmlns:wf=\"http://www.adventure-works.com/schemas/OtherFeatures\" xmlns:html=\"http://www.w3.org/1999/xhtml\" ProductModelID=\"25\" ProductModelName=\"Road-150\"><p1:Summary><html:p>This bike is ridden by race winners. Developed with the\r\n\t\t\tAdventure Works Cycles professional race team, it has a extremely light\r\n\t\t\theat-treated aluminum frame, and steering that allows precision control.\r\n                        </html:p></p1:Summary><p1:Manufacturer><p1:Name>AdventureWorks</p1:Name><p1:Copyright>2002</p1:Copyright><p1:ProductURL>HTTP://www.Adventure-works.com</p1:ProductURL></p1:Manufacturer><p1:Features>These are the product highlights.\r\n                 <wm:Warranty><wm:WarrantyPeriod>4 years</wm:WarrantyPeriod><wm:Description>parts and labor</wm:Description></wm:Warranty><wm:Maintenance><wm:NoOfYears>7 years</wm:NoOfYears><wm:Description>maintenance contact available through dealer or any Adventure Works Cycles retail store.</wm:Description></wm:Maintenance><wf:handlebar>Designed for racers; high-end anatomically shaped bar from aluminum alloy.</wf:handlebar><wf:wheel>Strong wheels with double-walled rims.</wf:wheel><wf:saddle><html:i>Lightweight </html:i> kevlar racing saddle.</wf:saddle><wf:pedal><html:b>Top-of-the-line</html:b> clipless pedals with adjustable tension.</wf:pedal><wf:BikeFrame><html:i>Our lightest and best quality </html:i> aluminum frame made from the newest alloy;\r\n\t\t\tit is welded and heat-treated for strength.\r\n\t\t\tOur innovative design results in maximum comfort and performance.</wf:BikeFrame></p1:Features><!-- add one or more of these elements... one for each specific product in this product model --><p1:Picture><p1:Angle>front</p1:Angle><p1:Size>small</p1:Size><p1:ProductPhotoID>126</p1:ProductPhotoID></p1:Picture><!-- add any tags in <specifications> --><p1:Specifications> These are the product specifications.\r\n                   <Material>Aluminum</Material><Color>Available in all colors.</Color><ProductLine>Road bike</ProductLine><Style>Unisex</Style><RiderExperience>Intermediate to Professional riders</RiderExperience></p1:Specifications></p1:ProductDescription>",
         "94ffb702-0cbc-4e3f-b840-c51f0d11c8f6",
         "06-01-2005"
        ],
        [
         26,
         "Road-250",
         null,
         "3770c5e3-8dc9-43c7-b735-7aff21645d96",
         "06-01-2006"
        ],
        [
         27,
         "Road-350-W",
         null,
         "dfe49035-7720-4ff4-b28b-16250ee46259",
         "06-01-2007"
        ],
        [
         28,
         "Road-450",
         "<?xml-stylesheet href=\"ProductDescription.xsl\" type=\"text/xsl\"?><p1:ProductDescription xmlns:p1=\"http://schemas.microsoft.com/sqlserver/2004/07/adventure-works/ProductModelDescription\" xmlns:wm=\"http://schemas.microsoft.com/sqlserver/2004/07/adventure-works/ProductModelWarrAndMain\" xmlns:wf=\"http://www.adventure-works.com/schemas/OtherFeatures\" xmlns:html=\"http://www.w3.org/1999/xhtml\" ProductModelID=\"28\" ProductModelName=\"Road-450\"><p1:Summary><html:p>A true multi-sport bike that offers streamlined riding and a revolutionary design.\r\n\t\t\t       Aerodynamic design lets you ride with the pros, and the gearing will conquer hilly roads.\r\n                        </html:p></p1:Summary><p1:Manufacturer><p1:Name>AdventureWorks</p1:Name><p1:Copyright>2002</p1:Copyright><p1:ProductURL>HTTP://www.Adventure-works.com</p1:ProductURL></p1:Manufacturer><p1:Features>These are the product highlights.\r\n                 <wm:Warranty><wm:WarrantyPeriod>1 year</wm:WarrantyPeriod><wm:Description>parts and labor</wm:Description></wm:Warranty><wm:Maintenance><wm:NoOfYears>5 years</wm:NoOfYears><wm:Description>maintenance contact available through dealer</wm:Description></wm:Maintenance><wf:handlebar><html:i>Incredibly strong</html:i> professional grade handlebar.</wf:handlebar><wf:wheel>Aluminum alloy rim with stainless steel spokes; built for speed on our high quality rubber tires.</wf:wheel><wf:saddle><html:i>Comfortable</html:i> saddle with bump absorping rubber bumpers.</wf:saddle><wf:pedal><html:b>Top-of-the-line</html:b> clipless pedals with adjustable tension.</wf:pedal><wf:BikeFrame><html:i>aluminum alloy </html:i> frame\r\n                     and features a lightweight down-tube milled to the perfect diameter for optimal strength.</wf:BikeFrame></p1:Features><!-- add one or more of these elements... one for each specific product in this product model --><p1:Picture><p1:Angle>front</p1:Angle><p1:Size>small</p1:Size><p1:ProductPhotoID>111</p1:ProductPhotoID></p1:Picture><!-- add any tags in <specifications> --><p1:Specifications> These are the product specifications.\r\n                   <Height>Varies</Height> Centimeters.\r\n                   <Material>Aluminum Alloy</Material><Weight>Varies with size </Weight><Color>Available in all colors.</Color><ProductLine>Road bike</ProductLine><Style>Unisex</Style><RiderExperience>Novice to Advanced riders</RiderExperience></p1:Specifications></p1:ProductDescription>",
         "8456bb94-b4dd-4a47-a76b-d0e54ab4285d",
         "06-01-2005"
        ],
        [
         29,
         "Road-550-W",
         null,
         "f85f84f2-9ce0-4ecc-9c29-e78021ffc877",
         "06-01-2006"
        ],
        [
         30,
         "Road-650",
         null,
         "42e1c597-6dd9-4071-b1a5-1dc5cdcbdbca",
         "06-01-2005"
        ],
        [
         31,
         "Road-750",
         null,
         "2bf795f4-2666-4691-af14-d490c7334a8a",
         "11-20-2006"
        ],
        [
         32,
         "Short-Sleeve Classic Jersey",
         null,
         "6beccf2d-eacd-496b-995b-d692567565cd",
         "06-01-2007"
        ],
        [
         33,
         "Sport-100",
         null,
         "47f7c450-d16a-4cea-be6e-2d6c8c8f81ee",
         "06-01-2005"
        ],
        [
         34,
         "Touring-1000",
         "<?xml-stylesheet href=\"ProductDescription.xsl\" type=\"text/xsl\"?><p1:ProductDescription xmlns:p1=\"http://schemas.microsoft.com/sqlserver/2004/07/adventure-works/ProductModelDescription\" xmlns:wm=\"http://schemas.microsoft.com/sqlserver/2004/07/adventure-works/ProductModelWarrAndMain\" xmlns:wf=\"http://www.adventure-works.com/schemas/OtherFeatures\" xmlns:html=\"http://www.w3.org/1999/xhtml\" ProductModelID=\"34\" ProductModelName=\"Touring-1000\"><p1:Summary><html:p>Travel in style and comfort. Designed for maximum comfort and safety.\r\n\t\t\tWide gear range takes on all hills. High-tech aluminum alloy construction provides durability without added weight.\r\n                        </html:p></p1:Summary><p1:Manufacturer><p1:Name>AdventureWorks</p1:Name><p1:Copyright>2002</p1:Copyright><p1:ProductURL>HTTP://www.Adventure-works.com</p1:ProductURL></p1:Manufacturer><p1:Features>These are the product highlights.\r\n                 <wm:Warranty><wm:WarrantyPeriod>1 year</wm:WarrantyPeriod><wm:Description>parts and labor</wm:Description></wm:Warranty><wm:Maintenance><wm:NoOfYears>5 years</wm:NoOfYears><wm:Description>maintenance contact available through dealer</wm:Description></wm:Maintenance><wf:handlebar>A light yet stiff aluminum bar for long distance riding.</wf:handlebar><wf:wheel>Excellent aerodynamic rims guarantee a smooth ride.</wf:wheel><wf:saddle><html:i>Cut-out shell </html:i> for a more comfortable ride.</wf:saddle><wf:pedal>A stable pedal for all-day riding.</wf:pedal><wf:BikeFrame><html:i>aluminum alloy </html:i> frame\r\n                     and features a lightweight down-tube milled to the perfect diameter for optimal strength.</wf:BikeFrame></p1:Features><!-- add one or more of these elements... one for each specific product in this product model --><p1:Picture><p1:Angle>front</p1:Angle><p1:Size>small</p1:Size><p1:ProductPhotoID>87</p1:ProductPhotoID></p1:Picture><!-- add any tags in <specifications> --><p1:Specifications> These are the product specifications.\r\n\r\n                   <Material>Aluminum alloy </Material><Color>Available in most colors.</Color><ProductLine>Touring bike</ProductLine><Style>Unisex</Style><RiderExperience>Novice to Advanced riders</RiderExperience></p1:Specifications></p1:ProductDescription>",
         "52e7f2c1-dbff-4518-927d-c7d46f9ed32e",
         "11-20-2006"
        ],
        [
         35,
         "Touring-2000",
         "<?xml-stylesheet href=\"ProductDescription.xsl\" type=\"text/xsl\"?><p1:ProductDescription xmlns:p1=\"http://schemas.microsoft.com/sqlserver/2004/07/adventure-works/ProductModelDescription\" xmlns:wm=\"http://schemas.microsoft.com/sqlserver/2004/07/adventure-works/ProductModelWarrAndMain\" xmlns:wf=\"http://www.adventure-works.com/schemas/OtherFeatures\" xmlns:html=\"http://www.w3.org/1999/xhtml\" ProductModelID=\"35\" ProductModelName=\"Touring-2000\"><p1:Summary><html:p>The plush custom saddle keeps you riding all day, and there's plenty of space\r\n\t\t\t to add panniers and bike bags to the newly-redesigned carrier.\r\n\t\t\t\tThis bike has great stability when fully-loaded.\r\n                        </html:p></p1:Summary><p1:Manufacturer><p1:Name>AdventureWorks</p1:Name><p1:Copyright>2002</p1:Copyright><p1:ProductURL>HTTP://www.Adventure-works.com</p1:ProductURL></p1:Manufacturer><p1:Features>These are the product highlights.\r\n                 <wm:Warranty><wm:WarrantyPeriod>1 year</wm:WarrantyPeriod><wm:Description>parts and labor</wm:Description></wm:Warranty><wm:Maintenance><wm:NoOfYears>5 years</wm:NoOfYears><wm:Description>maintenance contact available through dealer</wm:Description></wm:Maintenance><wf:handlebar>A light yet stiff aluminum bar for long distance riding.</wf:handlebar><wf:saddle><html:i>New design </html:i> relieves pressure for long rides.</wf:saddle><wf:pedal><html:b>Top-of-the-line</html:b> clipless pedals with adjustable tension.</wf:pedal><wf:crankset> High-strength crank arm. </wf:crankset><wf:BikeFrame>The aluminum frame is custom-shaped for both good looks and strength;\r\n\t\t\t\tit will withstand the most rigorous challenges of daily riding.</wf:BikeFrame></p1:Features><!-- add one or more of these elements... one for each specific product in this product model --><p1:Picture><p1:Angle>front</p1:Angle><p1:Size>small</p1:Size><p1:ProductPhotoID>87</p1:ProductPhotoID></p1:Picture><!-- add any tags in <specifications> --><p1:Specifications> These are the product specifications.\r\n                   <Material>Aluminum</Material><Color>Available in all colors except metallic.</Color><ProductLine>Touring bike</ProductLine><Style>Men's</Style><FrameMaterial>Aluminium alloy</FrameMaterial><RiderExperience>Intermediate to Advanced riders</RiderExperience></p1:Specifications></p1:ProductDescription>",
         "aa10d9e6-e33f-4da8-ace1-992fcd6bb171",
         "11-20-2006"
        ],
        [
         36,
         "Touring-3000",
         null,
         "f5a6ec78-4451-45db-955f-db197de8b059",
         "11-20-2006"
        ],
        [
         37,
         "Women's Mountain Shorts",
         null,
         "a08dd61a-6155-4051-9a11-223232ea51cd",
         "06-01-2007"
        ],
        [
         38,
         "Women's Tights",
         null,
         "a96ff80d-d52a-432f-9701-731bef16efcc",
         "06-01-2006"
        ],
        [
         39,
         "Mountain-400",
         null,
         "37d261a7-00cf-4880-ac1a-533b6b4365b0",
         "06-01-2005"
        ],
        [
         40,
         "Road-550",
         null,
         "30450264-4ab8-45e0-8bb5-4d407ea2950a",
         "06-01-2006"
        ],
        [
         41,
         "Road-350",
         null,
         "d71bd21c-239e-4c2b-98a3-101962d6b2d3",
         "11-20-2006"
        ],
        [
         42,
         "LL Mountain Front Wheel",
         null,
         "aa977b32-acd8-4c53-a560-88a02ac1954d",
         "11-20-2006"
        ],
        [
         43,
         "Touring Rear Wheel",
         null,
         "e878fcaa-61cc-4014-988a-51f52643f7aa",
         "05-16-2009"
        ],
        [
         44,
         "Touring Front Wheel",
         null,
         "6da78798-3793-4b8e-829e-dba9d140b1d4",
         "05-16-2009"
        ],
        [
         45,
         "ML Mountain Front Wheel",
         null,
         "c3ff3f93-60a8-4957-b076-b7d0984ee70f",
         "06-01-2006"
        ],
        [
         46,
         "HL Mountain Front Wheel",
         null,
         "cca597fb-195f-4ec5-bf5c-15b98d176f4c",
         "06-01-2006"
        ],
        [
         47,
         "LL Touring Handlebars",
         null,
         "84138622-1ea6-489f-9c98-6e3924cfbac0",
         "05-16-2009"
        ],
        [
         48,
         "HL Touring Handlebars",
         null,
         "9da82e49-80ad-4918-9a54-31f4b0c8eabb",
         "05-16-2009"
        ],
        [
         49,
         "LL Road Front Wheel",
         null,
         "90f759c1-2073-4d9f-854b-c6b6f3bf9162",
         "06-01-2006"
        ],
        [
         50,
         "ML Road Front Wheel",
         null,
         "980c8cd0-4903-41f2-9ffc-773c7fe4c254",
         "06-01-2006"
        ],
        [
         51,
         "HL Road Front Wheel",
         null,
         "02a562e2-4dfa-4778-bbac-bbddcecf99b0",
         "06-01-2006"
        ],
        [
         52,
         "LL Mountain Handlebars",
         null,
         "699c2ac5-5406-46d2-863d-dcfb23fc7943",
         "06-01-2006"
        ],
        [
         53,
         "Touring Pedal",
         null,
         "b98a3207-56fc-405c-a040-3c7a90cc7890",
         "05-16-2009"
        ],
        [
         54,
         "ML Mountain Handlebars",
         null,
         "c9fcc804-2cd7-4b8a-b186-9c409cc19df9",
         "06-01-2006"
        ],
        [
         55,
         "HL Mountain Handlebars",
         null,
         "782c991b-a660-4561-a3f4-9bbd74259747",
         "06-01-2006"
        ],
        [
         56,
         "LL Road Handlebars",
         null,
         "a7e65199-84a8-437e-ad55-360c1df1d788",
         "06-01-2006"
        ],
        [
         57,
         "ML Road Handlebars",
         null,
         "02200aa0-c369-4d77-a67c-75973efda81b",
         "06-01-2006"
        ],
        [
         58,
         "HL Road Handlebars",
         null,
         "2489ddc5-1c89-4dec-af22-b0112ccec467",
         "06-01-2006"
        ],
        [
         59,
         "LL Headset",
         null,
         "39afbba9-0f6c-44ee-b5e1-32fa93f897e6",
         "06-01-2006"
        ],
        [
         60,
         "ML Headset",
         null,
         "6ba9f3b6-e08b-4ac2-a725-b41114c2a283",
         "06-01-2006"
        ],
        [
         61,
         "HL Headset",
         null,
         "e196d02e-9bf6-4c67-b772-ed9f86ccf44c",
         "06-01-2006"
        ],
        [
         62,
         "LL Mountain Pedal",
         null,
         "8123f7e2-a5f4-4047-b69d-e74313dfebce",
         "06-01-2007"
        ],
        [
         63,
         "ML Mountain Pedal",
         null,
         "be9cdc56-f4ab-40f1-b338-2e08e0627abd",
         "06-01-2007"
        ],
        [
         64,
         "HL Mountain Pedal",
         null,
         "8da73708-8dae-44ae-ac6c-6e37022c1ffe",
         "06-01-2007"
        ],
        [
         65,
         "ML Touring Seat/Saddle",
         null,
         "63a2199f-f5b5-49bd-bcfc-bec1d1d16d8b",
         "06-01-2007"
        ],
        [
         66,
         "LL Touring Seat/Saddle",
         null,
         "4a17c43a-1a55-41bb-bc97-612f47cedeb3",
         "05-16-2009"
        ],
        [
         67,
         "HL Touring Seat/Saddle",
         null,
         "059a2000-7549-4b49-8e0c-2de6b2771ef4",
         "05-16-2009"
        ],
        [
         68,
         "LL Road Pedal",
         null,
         "218b016c-7454-4193-b518-21955c783d72",
         "06-01-2007"
        ],
        [
         69,
         "ML Road Pedal",
         null,
         "3cdf61d6-6209-436f-b235-82e8f159208b",
         "06-01-2007"
        ],
        [
         70,
         "HL Road Pedal",
         null,
         "35677b42-72ca-4d9e-a966-dd874b83ef45",
         "06-01-2007"
        ],
        [
         71,
         "LL Mountain Seat/Saddle 1",
         null,
         "a166af4c-87bb-41aa-8496-d76b26008fb3",
         "06-01-2007"
        ],
        [
         72,
         "ML Mountain Seat/Saddle 1",
         null,
         "baa9405b-68ca-4c18-bc9c-1c4acf49bafc",
         "06-01-2007"
        ],
        [
         73,
         "HL Mountain Seat/Saddle 1",
         null,
         "bbe4918f-198d-43c7-9f4b-79bc2aa08f2b",
         "06-01-2007"
        ],
        [
         74,
         "LL Road Seat/Saddle 2",
         null,
         "24e3e7d4-4053-4035-9d69-f451642f0c1e",
         "06-01-2007"
        ],
        [
         75,
         "ML Road Seat/Saddle 1",
         null,
         "394ed69c-2cc4-4a85-9080-8534112b66fe",
         "06-01-2007"
        ],
        [
         76,
         "HL Road Seat/Saddle 1",
         null,
         "b83ab7ae-ba3f-40df-8296-361915a3a60c",
         "06-01-2007"
        ],
        [
         77,
         "ML Road Rear Wheel",
         null,
         "15702f98-bd92-4fe8-86bc-52f5fd049d3d",
         "06-01-2006"
        ],
        [
         78,
         "HL Road Rear Wheel",
         null,
         "438cbcfa-05ff-4a29-ad95-ecf41dcb83d5",
         "06-01-2006"
        ],
        [
         79,
         "LL Mountain Seat/Saddle 2",
         null,
         "8bbeb399-5a87-4e40-9f52-462fb54f2183",
         "06-01-2007"
        ],
        [
         80,
         "ML Mountain Seat/Saddle 2",
         null,
         "5cefbb6e-3b7e-414f-ac1b-8f6df741fb21",
         "06-01-2007"
        ],
        [
         81,
         "HL Mountain Seat/Saddle 2",
         null,
         "98726f80-e9b9-4141-9cf5-bd2ef07dce25",
         "06-01-2007"
        ],
        [
         82,
         "LL Road Seat/Saddle 1",
         null,
         "00ce9171-8944-4d49-ba37-485c1d122f5c",
         "06-01-2007"
        ],
        [
         83,
         "ML Road Seat/Saddle 2",
         null,
         "feeb8440-446e-4df8-9482-d529c4fc5e8f",
         "06-01-2007"
        ],
        [
         84,
         "HL Road Seat/Saddle 2",
         null,
         "0d3a6ad7-6891-4de9-b14f-e1a841eb220c",
         "06-01-2007"
        ],
        [
         85,
         "LL Mountain Tire",
         null,
         "e3cdc5dd-27c3-4891-9d5e-0d46d1b8457f",
         "06-01-2007"
        ],
        [
         86,
         "ML Mountain Tire",
         null,
         "0434f63a-a361-4d0b-a9fc-8ac2a866ce85",
         "06-01-2007"
        ],
        [
         87,
         "HL Mountain Tire",
         null,
         "ce1b1064-6679-4212-8f56-2b2617ec56a5",
         "06-01-2007"
        ],
        [
         88,
         "LL Road Tire",
         null,
         "e7b00dff-8136-4947-b503-994584cc89e7",
         "06-01-2007"
        ],
        [
         89,
         "ML Road Tire",
         null,
         "d566eb0f-6945-43d8-bc40-bb3d2f4ef7ed",
         "06-01-2007"
        ],
        [
         90,
         "HL Road Tire",
         null,
         "a4b205df-955a-494e-8428-1898aea76f24",
         "06-01-2007"
        ],
        [
         91,
         "Touring Tire",
         null,
         "3bcc63d6-9340-4b93-b5f2-73fa90758bf5",
         "06-01-2007"
        ],
        [
         92,
         "Mountain Tire Tube",
         null,
         "8cfbe7f2-eec3-4ba6-8187-c8a3614f1f0b",
         "06-01-2007"
        ],
        [
         93,
         "Road Tire Tube",
         null,
         "2771d2d2-2e35-4c12-966e-ce9070df6d53",
         "06-01-2007"
        ],
        [
         94,
         "Touring Tire Tube",
         null,
         "deeea9bc-3c8c-4e73-b6b0-64c81a5d99e3",
         "06-01-2007"
        ],
        [
         95,
         "LL Bottom Bracket",
         null,
         "217e7475-d3f4-46fa-836a-d9e53103e71b",
         "06-01-2007"
        ],
        [
         96,
         "ML Bottom Bracket",
         null,
         "09caa74e-f47b-4fca-b206-9d3e46df9751",
         "06-01-2007"
        ],
        [
         97,
         "HL Bottom Bracket",
         null,
         "816360e1-3dee-4568-bf2f-9828243d887b",
         "06-01-2007"
        ],
        [
         98,
         "Chain",
         null,
         "aca920b2-d0f9-49f3-b879-573202b08c2f",
         "06-01-2007"
        ],
        [
         99,
         "LL Crankset",
         null,
         "5b59f032-9b73-4d90-b252-eafd6a871ff1",
         "06-01-2007"
        ],
        [
         100,
         "ML Crankset",
         null,
         "68c6cb29-d94a-40c5-aaad-90aa6e7c5ea1",
         "06-01-2007"
        ],
        [
         101,
         "HL Crankset",
         null,
         "809668a3-d492-41fb-a196-cfe092a12aa2",
         "06-01-2007"
        ],
        [
         102,
         "Front Brakes",
         null,
         "1099a23a-c9ed-41b1-8cc1-e2c1c54a10c8",
         "06-01-2007"
        ],
        [
         103,
         "Front Derailleur",
         null,
         "10e0c8fd-ca13-437b-8e22-51853ae160a7",
         "06-01-2007"
        ],
        [
         104,
         "LL Fork",
         null,
         "0481d7e1-4970-4efa-a560-020f6579918d",
         "06-01-2006"
        ],
        [
         105,
         "ML Fork",
         null,
         "5f115aa4-0553-4478-84b3-5dcf3abe0d08",
         "06-01-2006"
        ],
        [
         106,
         "HL Fork",
         null,
         "7706a8fd-9513-40bc-95e8-301b55b67db2",
         "06-01-2006"
        ],
        [
         107,
         "Hydration Pack",
         null,
         "cfeef30f-f059-4447-92a8-47001e69f3db",
         "06-01-2007"
        ],
        [
         108,
         "Taillight",
         null,
         "dba643d4-4cf2-4507-b947-e817d8c5792b",
         "06-01-2006"
        ],
        [
         109,
         "Headlights - Dual-Beam",
         null,
         "7b17ebf1-cb73-4934-9689-1dc26cf22d9c",
         "06-01-2006"
        ],
        [
         110,
         "Headlights - Weatherproof",
         null,
         "1fadb88f-af88-4e94-bb1e-6158c48e6b40",
         "06-01-2006"
        ],
        [
         111,
         "Water Bottle",
         null,
         "3688268a-260c-48bf-bf71-fff350d4d3d5",
         "06-01-2007"
        ],
        [
         112,
         "Mountain Bottle Cage",
         null,
         "2194e65b-9c13-46e1-a655-3ebff8a96719",
         "06-01-2007"
        ],
        [
         113,
         "Road Bottle Cage",
         null,
         "9416c2dd-55d8-469d-8edf-ef447c511897",
         "06-01-2007"
        ],
        [
         114,
         "Patch kit",
         null,
         "7c738101-c01e-45a2-a0e0-b28aeba1dc40",
         "06-01-2007"
        ],
        [
         115,
         "Cable Lock",
         null,
         "e7e17f11-a7fd-4c3c-b701-68f0ae26143e",
         "06-01-2006"
        ],
        [
         116,
         "Minipump",
         null,
         "90cef1a7-d817-403e-814c-40e305eeefef",
         "06-01-2006"
        ],
        [
         117,
         "Mountain Pump",
         null,
         "b35598f6-b413-4138-8081-5dc7d4c64b64",
         "06-01-2006"
        ],
        [
         118,
         "Hitch Rack - 4-Bike",
         null,
         "f570e0d1-e978-4ff2-b5b1-08f01ab60219",
         "06-01-2007"
        ],
        [
         119,
         "Bike Wash",
         null,
         "90b1b93d-ebc8-44a2-ac08-cdd1d20ca39c",
         "06-01-2007"
        ],
        [
         120,
         "Touring-Panniers",
         null,
         "f06999a1-3aa7-4e85-b8cb-049eb2c391fa",
         "06-01-2006"
        ],
        [
         121,
         "Fender Set - Mountain",
         null,
         "c88d1136-a8bb-46bb-94aa-8c1854f813cc",
         "06-01-2007"
        ],
        [
         122,
         "All-Purpose Bike Stand",
         null,
         "6eab8607-d927-40e1-af30-d8a2a953050c",
         "06-01-2007"
        ],
        [
         123,
         "LL Mountain Rear Wheel",
         null,
         "29521f66-2926-471f-867b-668b0b9ec2b0",
         "06-01-2006"
        ],
        [
         124,
         "ML Mountain Rear Wheel",
         null,
         "d968d774-778e-4399-a3c5-375176418229",
         "06-01-2006"
        ],
        [
         125,
         "HL Mountain Rear Wheel",
         null,
         "95450545-adf7-48f3-899e-964de8920dc6",
         "06-01-2006"
        ],
        [
         126,
         "LL Road Rear Wheel",
         null,
         "95946bd4-c6d9-4344-8066-317d8957ea21",
         "06-01-2006"
        ],
        [
         127,
         "Rear Derailleur",
         null,
         "f9327e5d-f8b6-40c5-bfa9-63f886bdfc24",
         "06-01-2007"
        ],
        [
         128,
         "Rear Brakes",
         null,
         "71d47afd-da3a-43f1-83ad-69c71f96ef33",
         "06-01-2007"
        ]
       ],
       "datasetInfos": [],
       "dbfsResultPath": null,
       "isJsonSchema": true,
       "metadata": {},
       "overflow": false,
       "plotOptions": {
        "customPlotOptions": {},
        "displayType": "table",
        "pivotAggregation": null,
        "pivotColumns": null,
        "xColumns": null,
        "yColumns": null
       },
       "removedWidgets": [],
       "schema": [
        {
         "metadata": "{}",
         "name": "ProductModelID",
         "type": "\"integer\""
        },
        {
         "metadata": "{}",
         "name": "Name",
         "type": "\"string\""
        },
        {
         "metadata": "{}",
         "name": "CatalogDescription",
         "type": "\"string\""
        },
        {
         "metadata": "{}",
         "name": "rowguid",
         "type": "\"string\""
        },
        {
         "metadata": "{}",
         "name": "ModifiedDate",
         "type": "\"string\""
        }
       ],
       "type": "table"
      }
     },
     "output_type": "display_data"
    }
   ],
   "source": [
    "from pyspark.sql.functions import date_format\n",
    "\n",
    "df = df.withColumn(\"ModifiedDate\", date_format(\"ModifiedDate\", \"MM-dd-yyyy\"))\n",
    "display(df)\n"
   ]
  },
  {
   "cell_type": "markdown",
   "metadata": {
    "application/vnd.databricks.v1+cell": {
     "cellMetadata": {},
     "inputWidgets": {},
     "nuid": "dea325db-031c-4797-9d15-9365e3e54570",
     "showTitle": false,
     "tableResultSettingsMap": {},
     "title": ""
    }
   },
   "source": [
    "Now, we apply the same logic across all tables as shown below below:"
   ]
  },
  {
   "cell_type": "markdown",
   "metadata": {
    "application/vnd.databricks.v1+cell": {
     "cellMetadata": {},
     "inputWidgets": {},
     "nuid": "88b760af-6af9-4615-bb37-f20b76004fb0",
     "showTitle": false,
     "tableResultSettingsMap": {},
     "title": ""
    }
   },
   "source": [
    "1. Getting table names from the base location: `/mnt/bronze/SalesLT`:"
   ]
  },
  {
   "cell_type": "code",
   "execution_count": 0,
   "metadata": {
    "application/vnd.databricks.v1+cell": {
     "cellMetadata": {
      "byteLimit": 2048000,
      "rowLimit": 10000
     },
     "inputWidgets": {},
     "nuid": "23def479-cc10-4d17-9094-7910bc4a2d81",
     "showTitle": false,
     "tableResultSettingsMap": {},
     "title": ""
    }
   },
   "outputs": [
    {
     "output_type": "execute_result",
     "data": {
      "text/plain": [
       "[FileInfo(path='dbfs:/mnt/bronze/SalesLT/Address/', name='Address/', size=0, modificationTime=0),\n",
       " FileInfo(path='dbfs:/mnt/bronze/SalesLT/Customer/', name='Customer/', size=0, modificationTime=0),\n",
       " FileInfo(path='dbfs:/mnt/bronze/SalesLT/CustomerAddress/', name='CustomerAddress/', size=0, modificationTime=0),\n",
       " FileInfo(path='dbfs:/mnt/bronze/SalesLT/Product/', name='Product/', size=0, modificationTime=0),\n",
       " FileInfo(path='dbfs:/mnt/bronze/SalesLT/ProductCategory/', name='ProductCategory/', size=0, modificationTime=0),\n",
       " FileInfo(path='dbfs:/mnt/bronze/SalesLT/ProductDescription/', name='ProductDescription/', size=0, modificationTime=0),\n",
       " FileInfo(path='dbfs:/mnt/bronze/SalesLT/ProductModel/', name='ProductModel/', size=0, modificationTime=0),\n",
       " FileInfo(path='dbfs:/mnt/bronze/SalesLT/ProductModelProductDescription/', name='ProductModelProductDescription/', size=0, modificationTime=0),\n",
       " FileInfo(path='dbfs:/mnt/bronze/SalesLT/SalesOrderDetail/', name='SalesOrderDetail/', size=0, modificationTime=0),\n",
       " FileInfo(path='dbfs:/mnt/bronze/SalesLT/SalesOrderHeader/', name='SalesOrderHeader/', size=0, modificationTime=0)]"
      ]
     },
     "execution_count": 10,
     "metadata": {},
     "output_type": "execute_result"
    }
   ],
   "source": [
    "dbutils.fs.ls(\"/mnt/bronze/SalesLT/\")"
   ]
  },
  {
   "cell_type": "code",
   "execution_count": 0,
   "metadata": {
    "application/vnd.databricks.v1+cell": {
     "cellMetadata": {
      "byteLimit": 2048000,
      "rowLimit": 10000
     },
     "inputWidgets": {},
     "nuid": "ec8fa9a6-efdc-4461-a558-4d5b17af7ab1",
     "showTitle": false,
     "tableResultSettingsMap": {},
     "title": ""
    }
   },
   "outputs": [
    {
     "output_type": "execute_result",
     "data": {
      "text/plain": [
       "['Address',\n",
       " 'Customer',\n",
       " 'CustomerAddress',\n",
       " 'Product',\n",
       " 'ProductCategory',\n",
       " 'ProductDescription',\n",
       " 'ProductModel',\n",
       " 'ProductModelProductDescription',\n",
       " 'SalesOrderDetail',\n",
       " 'SalesOrderHeader']"
      ]
     },
     "execution_count": 13,
     "metadata": {},
     "output_type": "execute_result"
    }
   ],
   "source": [
    "alltables = []\n",
    "bronzepath = \"/mnt/bronze/SalesLT/\"\n",
    "\n",
    "for table in dbutils.fs.ls(bronzepath):\n",
    "    alltables.append(table.name.split(\"/\")[0])\n",
    "  \n",
    "alltables"
   ]
  },
  {
   "cell_type": "markdown",
   "metadata": {
    "application/vnd.databricks.v1+cell": {
     "cellMetadata": {},
     "inputWidgets": {},
     "nuid": "8fb03c51-5b2e-4f42-add1-872fdbe2d858",
     "showTitle": false,
     "tableResultSettingsMap": {},
     "title": ""
    }
   },
   "source": [
    "2. Applying the date logic across all columns for all tables:"
   ]
  },
  {
   "cell_type": "code",
   "execution_count": 0,
   "metadata": {
    "application/vnd.databricks.v1+cell": {
     "cellMetadata": {
      "byteLimit": 2048000,
      "rowLimit": 10000
     },
     "inputWidgets": {},
     "nuid": "b2227d53-238b-435e-956a-b70300470f34",
     "showTitle": false,
     "tableResultSettingsMap": {},
     "title": ""
    }
   },
   "outputs": [
    {
     "output_type": "stream",
     "name": "stdout",
     "output_type": "stream",
     "text": [
      "Transforming column: ModifiedDatein table: Address\nSaving table: Addressat path: /mnt/silver/SalesLT/Address/\nTransforming column: ModifiedDatein table: Customer\nSaving table: Customerat path: /mnt/silver/SalesLT/Customer/\nTransforming column: ModifiedDatein table: CustomerAddress\nSaving table: CustomerAddressat path: /mnt/silver/SalesLT/CustomerAddress/\nTransforming column: SellStartDatein table: Product\nTransforming column: SellEndDatein table: Product\nTransforming column: DiscontinuedDatein table: Product\nTransforming column: ModifiedDatein table: Product\nSaving table: Productat path: /mnt/silver/SalesLT/Product/\nTransforming column: ModifiedDatein table: ProductCategory\nSaving table: ProductCategoryat path: /mnt/silver/SalesLT/ProductCategory/\nTransforming column: ModifiedDatein table: ProductDescription\nSaving table: ProductDescriptionat path: /mnt/silver/SalesLT/ProductDescription/\nTransforming column: ModifiedDatein table: ProductModel\nSaving table: ProductModelat path: /mnt/silver/SalesLT/ProductModel/\nTransforming column: ModifiedDatein table: ProductModelProductDescription\nSaving table: ProductModelProductDescriptionat path: /mnt/silver/SalesLT/ProductModelProductDescription/\nTransforming column: ModifiedDatein table: SalesOrderDetail\nSaving table: SalesOrderDetailat path: /mnt/silver/SalesLT/SalesOrderDetail/\nTransforming column: OrderDatein table: SalesOrderHeader\nTransforming column: DueDatein table: SalesOrderHeader\nTransforming column: ShipDatein table: SalesOrderHeader\nTransforming column: ModifiedDatein table: SalesOrderHeader\nSaving table: SalesOrderHeaderat path: /mnt/silver/SalesLT/SalesOrderHeader/\n"
     ]
    }
   ],
   "source": [
    "for table in alltables:\n",
    "    table_path = bronzepath + \"/\"+ table + \"/\"+ table+ \".parquet\"\n",
    "    df = spark.read.format(\"parquet\").load(table_path)\n",
    "    columns = df.columns\n",
    "\n",
    "    for col in columns:\n",
    "        if \"date\" in col or \"Date\" in col:\n",
    "            print(\"Transforming column: \"+ col + \"in table: \"+ table)\n",
    "            df = df.withColumn(col, date_format(col, \"MM-dd-yyyy\"))\n",
    "\n",
    "    silver_path = \"/mnt/silver/SalesLT/\" + table + \"/\"\n",
    "    print(\"Saving table: \"+ table + \"at path: \"+ silver_path)\n",
    "    df.write.mode(\"overwrite\").format(\"delta\").save(silver_path)\n",
    "\n"
   ]
  }
 ],
 "metadata": {
  "application/vnd.databricks.v1+notebook": {
   "computePreferences": null,
   "dashboards": [],
   "environmentMetadata": {
    "base_environment": "",
    "environment_version": "2"
   },
   "inputWidgetPreferences": null,
   "language": "python",
   "notebookMetadata": {
    "mostRecentlyExecutedCommandWithImplicitDF": {
     "commandId": 8060446103362432,
     "dataframes": [
      "_sqldf"
     ]
    },
    "pythonIndentUnit": 4
   },
   "notebookName": "BronzetoSilver",
   "widgets": {}
  },
  "language_info": {
   "name": "python"
  }
 },
 "nbformat": 4,
 "nbformat_minor": 0
}